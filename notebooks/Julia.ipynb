{
 "cells": [
  {
   "cell_type": "code",
   "execution_count": 149,
   "metadata": {},
   "outputs": [],
   "source": [
    "using LinearAlgebra"
   ]
  },
  {
   "cell_type": "markdown",
   "metadata": {},
   "source": [
    "# Introduction to Julia\n",
    "\n",
    "Reference: [The Julia Documentation](https://docs.julialang.org), [The Julia–Matlab–Python Cheatsheet](https://cheatsheets.quantecon.org)\n",
    "\n",
    "This lecture gives an overview of Julia. \n",
    "In these notes we focus on the aspects of Julia and computing that are essential to numerical computing:\n",
    "\n",
    "\n",
    "1. Integers: We discuss briefly how to create and manipulate integers, and how to see the underlying bit representation.\n",
    "1. Strings and parsing: We discuss how to create and manipulate strings and characters, and how we can convert a string\n",
    "of 0's and 1's to an integer or other type.\n",
    "3. Vectors and matrices: We discuss how to build and manipulate vectors and matrices (which are both types of _arrays_).\n",
    "Later lectures will discuss linear algebra.\n",
    "4. Types: In Julia everything has a type, which plays a similar role to classes in Python. Here we \n",
    "discuss how to make new types, for example, a complex number in radial format.\n",
    "5. Loops and branches: We discuss `if`, `for` and `while`, which work similar to Python.\n",
    "6. Functions: We discuss the construction of named and anonymous functions.\n",
    "Julia allows overloading functions for different types, for example, we can overload `*` for \n",
    "our radial complex type.\n",
    "7. Modules, Packages, and Plotting: We discuss how to load external packages, in particular, for plotting.\n",
    "\n",
    "Note some subsections are labeled *advanced*, these are non-examinable and will not be necessary in \n",
    "problem sheets or exams. \n",
    "\n",
    "## 1. Integers\n",
    "\n",
    "Julia uses a math-like syntax for manipulating integers:"
   ]
  },
  {
   "cell_type": "code",
   "execution_count": 1,
   "metadata": {
    "execution": {
     "iopub.execute_input": "2022-01-05T16:14:15.407261Z",
     "iopub.status.busy": "2022-01-05T16:14:15.004340Z",
     "iopub.status.idle": "2022-01-05T16:14:16.011725Z",
     "shell.execute_reply": "2022-01-05T16:14:16.010904Z"
    }
   },
   "outputs": [
    {
     "data": {
      "text/plain": [
       "2"
      ]
     },
     "execution_count": 1,
     "metadata": {},
     "output_type": "execute_result"
    }
   ],
   "source": [
    "1 + 1 # Addition"
   ]
  },
  {
   "cell_type": "code",
   "execution_count": 2,
   "metadata": {},
   "outputs": [
    {
     "data": {
      "text/plain": [
       "Int64"
      ]
     },
     "execution_count": 2,
     "metadata": {},
     "output_type": "execute_result"
    }
   ],
   "source": [
    "typeof(1) "
   ]
  },
  {
   "cell_type": "code",
   "execution_count": 3,
   "metadata": {},
   "outputs": [
    {
     "data": {
      "text/plain": [
       "Int8"
      ]
     },
     "execution_count": 3,
     "metadata": {},
     "output_type": "execute_result"
    }
   ],
   "source": [
    "typeof(Int8(1))"
   ]
  },
  {
   "cell_type": "code",
   "execution_count": 2,
   "metadata": {
    "execution": {
     "iopub.execute_input": "2022-01-05T16:14:16.014439Z",
     "iopub.status.busy": "2022-01-05T16:14:16.013467Z",
     "iopub.status.idle": "2022-01-05T16:14:16.017168Z",
     "shell.execute_reply": "2022-01-05T16:14:16.015242Z"
    }
   },
   "outputs": [
    {
     "data": {
      "text/plain": [
       "6"
      ]
     },
     "execution_count": 2,
     "metadata": {},
     "output_type": "execute_result"
    }
   ],
   "source": [
    "2 * 3 # Multiplication"
   ]
  },
  {
   "cell_type": "code",
   "execution_count": 3,
   "metadata": {
    "execution": {
     "iopub.execute_input": "2022-01-05T16:14:16.020301Z",
     "iopub.status.busy": "2022-01-05T16:14:16.019096Z",
     "iopub.status.idle": "2022-01-05T16:14:16.220867Z",
     "shell.execute_reply": "2022-01-05T16:14:16.220390Z"
    }
   },
   "outputs": [
    {
     "data": {
      "text/plain": [
       "0.6666666666666666"
      ]
     },
     "execution_count": 3,
     "metadata": {},
     "output_type": "execute_result"
    }
   ],
   "source": [
    "2 / 3 # Division"
   ]
  },
  {
   "cell_type": "code",
   "execution_count": 4,
   "metadata": {},
   "outputs": [
    {
     "data": {
      "text/plain": [
       "Float64"
      ]
     },
     "execution_count": 4,
     "metadata": {},
     "output_type": "execute_result"
    }
   ],
   "source": [
    "typeof(2/3)"
   ]
  },
  {
   "cell_type": "code",
   "execution_count": 4,
   "metadata": {
    "execution": {
     "iopub.execute_input": "2022-01-05T16:14:16.222853Z",
     "iopub.status.busy": "2022-01-05T16:14:16.222349Z",
     "iopub.status.idle": "2022-01-05T16:14:16.227018Z",
     "shell.execute_reply": "2022-01-05T16:14:16.226619Z"
    }
   },
   "outputs": [
    {
     "data": {
      "text/plain": [
       "25"
      ]
     },
     "execution_count": 4,
     "metadata": {},
     "output_type": "execute_result"
    }
   ],
   "source": [
    "x = 5; # semicolon is optional but supresses output if used in the last line 有；的行数出不了结果 只要不是放在最后一行都不影响\n",
    "x^2 # Powers"
   ]
  },
  {
   "cell_type": "code",
   "execution_count": 5,
   "metadata": {},
   "outputs": [],
   "source": [
    "x = 5 \n",
    "x^2; # 有；的行数出不了结果 只要不是放在最后一行都不影响"
   ]
  },
  {
   "cell_type": "code",
   "execution_count": 6,
   "metadata": {},
   "outputs": [
    {
     "data": {
      "text/plain": [
       "125"
      ]
     },
     "execution_count": 6,
     "metadata": {},
     "output_type": "execute_result"
    }
   ],
   "source": [
    "x = 5;\n",
    "x^3 # n次方 3，20 可以，改成200就不行了，会变成一个负数"
   ]
  },
  {
   "cell_type": "markdown",
   "metadata": {},
   "source": [
    "In Julia everything has a type. This is similar in spirit to\n",
    "a class in Python, but much more lightweight.\n",
    "An integer defaults to a type `Int`,\n",
    "which is either 32-bit (`Int32`) or 64-bit (`Int64`) depending\n",
    "on the processor of the machine. There are also 8-bit (`Int8`), 16-bit (`Int16`), \n",
    "and 128-bit (`Int128`) integer types, which\n",
    "we can construct by converting an `Int`, e.g. `Int8(3)`. 8字节的3\n",
    "\n",
    "These are all \"primitive types\", instances of the type are stored in memory as\n",
    "a fixed length sequence of bits.\n",
    "We can find the type of a variable as follows:"
   ]
  },
  {
   "cell_type": "code",
   "execution_count": 5,
   "metadata": {
    "execution": {
     "iopub.execute_input": "2022-01-05T16:14:16.228955Z",
     "iopub.status.busy": "2022-01-05T16:14:16.228461Z",
     "iopub.status.idle": "2022-01-05T16:14:16.592948Z",
     "shell.execute_reply": "2022-01-05T16:14:16.592569Z"
    }
   },
   "outputs": [
    {
     "data": {
      "text/plain": [
       "Int64"
      ]
     },
     "execution_count": 5,
     "metadata": {},
     "output_type": "execute_result"
    }
   ],
   "source": [
    "typeof(x)"
   ]
  },
  {
   "cell_type": "markdown",
   "metadata": {},
   "source": [
    "For a primitive type we can see the bits using the function `bitstring`:"
   ]
  },
  {
   "cell_type": "code",
   "execution_count": 6,
   "metadata": {
    "execution": {
     "iopub.execute_input": "2022-01-05T16:14:16.594805Z",
     "iopub.status.busy": "2022-01-05T16:14:16.594305Z",
     "iopub.status.idle": "2022-01-05T16:14:17.063861Z",
     "shell.execute_reply": "2022-01-05T16:14:17.063412Z"
    }
   },
   "outputs": [
    {
     "data": {
      "text/plain": [
       "\"00000001\""
      ]
     },
     "execution_count": 6,
     "metadata": {},
     "output_type": "execute_result"
    }
   ],
   "source": [
    "bitstring(Int8(1)) # return a string of bits of numbers "
   ]
  },
  {
   "cell_type": "code",
   "execution_count": 7,
   "metadata": {},
   "outputs": [
    {
     "data": {
      "text/plain": [
       "\"0000000000000000000000000000000000000000000000000000000000000101\""
      ]
     },
     "execution_count": 7,
     "metadata": {},
     "output_type": "execute_result"
    }
   ],
   "source": [
    "bitstring(5) # 一般的数字是Int64 所以bitstring写出来有64位数"
   ]
  },
  {
   "cell_type": "markdown",
   "metadata": {},
   "source": [
    "Negative numbers may be surprising:"
   ]
  },
  {
   "cell_type": "code",
   "execution_count": 7,
   "metadata": {
    "execution": {
     "iopub.execute_input": "2022-01-05T16:14:17.065797Z",
     "iopub.status.busy": "2022-01-05T16:14:17.065288Z",
     "iopub.status.idle": "2022-01-05T16:14:17.070121Z",
     "shell.execute_reply": "2022-01-05T16:14:17.069476Z"
    }
   },
   "outputs": [
    {
     "data": {
      "text/plain": [
       "\"11111111\""
      ]
     },
     "execution_count": 7,
     "metadata": {},
     "output_type": "execute_result"
    }
   ],
   "source": [
    "bitstring(-Int8(1))"
   ]
  },
  {
   "cell_type": "code",
   "execution_count": 8,
   "metadata": {},
   "outputs": [
    {
     "data": {
      "text/plain": [
       "\"1111111111111111111111111111111111111111111111111111111111111011\""
      ]
     },
     "execution_count": 8,
     "metadata": {},
     "output_type": "execute_result"
    }
   ],
   "source": [
    "bitstring(-5)"
   ]
  },
  {
   "cell_type": "code",
   "execution_count": null,
   "metadata": {},
   "outputs": [],
   "source": []
  },
  {
   "cell_type": "markdown",
   "metadata": {},
   "source": [
    "This is explained in detail in Chapter [Numbers](Numbers.ipynb)\n",
    "\n",
    "There are other primitive integer types:  `UInt8`, `UInt16`, `UInt32`, and `UInt64` are unsigned integers, \n",
    "e.g., we do not interpret\n",
    "the number as negative if the first bit is `1`. As they tend to be used to represent\n",
    "bit sequences they are displayed in hexadecimal(十六进制的), that is base-16, using digits 0-9a-c,\n",
    "e.g., $12 = (c)_{16}$:"
   ]
  },
  {
   "cell_type": "code",
   "execution_count": 8,
   "metadata": {
    "execution": {
     "iopub.execute_input": "2022-01-05T16:14:17.072815Z",
     "iopub.status.busy": "2022-01-05T16:14:17.072131Z",
     "iopub.status.idle": "2022-01-05T16:14:17.289125Z",
     "shell.execute_reply": "2022-01-05T16:14:17.288321Z"
    }
   },
   "outputs": [
    {
     "data": {
      "text/plain": [
       "0x000c"
      ]
     },
     "execution_count": 8,
     "metadata": {},
     "output_type": "execute_result"
    }
   ],
   "source": [
    "UInt16(12) # 0x开头代表用16进制简单表示的一个数000c 一个4*4=16位的数 二进制是0000 0000 0000 1100 也就是12"
   ]
  },
  {
   "cell_type": "code",
   "execution_count": null,
   "metadata": {},
   "outputs": [],
   "source": [
    "# 看看wx群里的 数字编码基础"
   ]
  },
  {
   "cell_type": "code",
   "execution_count": 15,
   "metadata": {},
   "outputs": [
    {
     "data": {
      "text/plain": [
       "0x4979"
      ]
     },
     "execution_count": 15,
     "metadata": {},
     "output_type": "execute_result"
    }
   ],
   "source": [
    "UInt16(18809)"
   ]
  },
  {
   "cell_type": "markdown",
   "metadata": {},
   "source": [
    "A non-primitive type is `BigInt` which allows arbitrary length\n",
    "integers.\n",
    "\n",
    "\n",
    "\n",
    "## 2. Strings and parsing\n",
    "\n",
    "We have seen that `bitstring` returns a string of bits.\n",
    "Strings can be created with quotation marks"
   ]
  },
  {
   "cell_type": "code",
   "execution_count": 17,
   "metadata": {
    "execution": {
     "iopub.execute_input": "2022-01-05T16:14:17.291686Z",
     "iopub.status.busy": "2022-01-05T16:14:17.290821Z",
     "iopub.status.idle": "2022-01-05T16:14:17.293504Z",
     "shell.execute_reply": "2022-01-05T16:14:17.292220Z"
    }
   },
   "outputs": [
    {
     "data": {
      "text/plain": [
       "\"hello world 😀\""
      ]
     },
     "execution_count": 17,
     "metadata": {},
     "output_type": "execute_result"
    }
   ],
   "source": [
    "str = \"hello world 😀\""
   ]
  },
  {
   "cell_type": "markdown",
   "metadata": {},
   "source": [
    "We can access characters of a string with brackets:"
   ]
  },
  {
   "cell_type": "code",
   "execution_count": 20,
   "metadata": {
    "execution": {
     "iopub.execute_input": "2022-01-05T16:14:17.295401Z",
     "iopub.status.busy": "2022-01-05T16:14:17.294902Z",
     "iopub.status.idle": "2022-01-05T16:14:17.624391Z",
     "shell.execute_reply": "2022-01-05T16:14:17.623942Z"
    }
   },
   "outputs": [
    {
     "data": {
      "text/plain": [
       "('h', '😀')"
      ]
     },
     "execution_count": 20,
     "metadata": {},
     "output_type": "execute_result"
    }
   ],
   "source": [
    "str[1], str[end] # 和python不一样1就是第一个，end表示最后一个"
   ]
  },
  {
   "cell_type": "code",
   "execution_count": 18,
   "metadata": {},
   "outputs": [
    {
     "data": {
      "text/plain": [
       "String"
      ]
     },
     "execution_count": 18,
     "metadata": {},
     "output_type": "execute_result"
    }
   ],
   "source": [
    "typeof(str)"
   ]
  },
  {
   "cell_type": "markdown",
   "metadata": {},
   "source": [
    "Each character is a primitive type, in this case using 32 bits/4 bytes: 因为charater是primitive tpye，所以可以有`bitstring(str[6])`"
   ]
  },
  {
   "cell_type": "code",
   "execution_count": 19,
   "metadata": {},
   "outputs": [
    {
     "data": {
      "text/plain": [
       "\"00100000000000000000000000000000\""
      ]
     },
     "execution_count": 19,
     "metadata": {},
     "output_type": "execute_result"
    }
   ],
   "source": [
    "bitstring(str[6])"
   ]
  },
  {
   "cell_type": "code",
   "execution_count": 11,
   "metadata": {
    "execution": {
     "iopub.execute_input": "2022-01-05T16:14:17.626418Z",
     "iopub.status.busy": "2022-01-05T16:14:17.625922Z",
     "iopub.status.idle": "2022-01-05T16:14:17.916144Z",
     "shell.execute_reply": "2022-01-05T16:14:17.915741Z"
    }
   },
   "outputs": [
    {
     "data": {
      "text/plain": [
       "(Char, 32)"
      ]
     },
     "execution_count": 11,
     "metadata": {},
     "output_type": "execute_result"
    }
   ],
   "source": [
    "typeof(str[6]), length(bitstring(str[6]))"
   ]
  },
  {
   "cell_type": "markdown",
   "metadata": {},
   "source": [
    "Strings are not primitive types, but rather point to the start of a sequence\n",
    "of `Char`s in memory.  In this case, there are $32*13=416$ bits/52\n",
    "bytes in memory.\n",
    "\n",
    "Strings are _immutable_: once created they cannot be changed.\n",
    "But a new string can be created that modifies an existing string.\n",
    "The simplest example is `*`, which concatenates two strings:"
   ]
  },
  {
   "cell_type": "code",
   "execution_count": 12,
   "metadata": {
    "execution": {
     "iopub.execute_input": "2022-01-05T16:14:17.919235Z",
     "iopub.status.busy": "2022-01-05T16:14:17.918103Z",
     "iopub.status.idle": "2022-01-05T16:14:17.921641Z",
     "shell.execute_reply": "2022-01-05T16:14:17.920338Z"
    }
   },
   "outputs": [
    {
     "data": {
      "text/plain": [
       "\"hibye\""
      ]
     },
     "execution_count": 12,
     "metadata": {},
     "output_type": "execute_result"
    }
   ],
   "source": [
    "\"hi\" * \"bye\" # *叫做concatenation联合 operation"
   ]
  },
  {
   "cell_type": "code",
   "execution_count": 21,
   "metadata": {},
   "outputs": [
    {
     "data": {
      "text/plain": [
       "\"byehi\""
      ]
     },
     "execution_count": 21,
     "metadata": {},
     "output_type": "execute_result"
    }
   ],
   "source": [
    "\"bye\" * \"hi\" # concatenation:  non-commutive"
   ]
  },
  {
   "cell_type": "markdown",
   "metadata": {},
   "source": [
    "(Why `*`? Because concatenation is non-commutive.)\n",
    "We can combine this with indexing to, for example, create a new string\n",
    "with a different last character:"
   ]
  },
  {
   "cell_type": "code",
   "execution_count": 13,
   "metadata": {
    "execution": {
     "iopub.execute_input": "2022-01-05T16:14:17.924062Z",
     "iopub.status.busy": "2022-01-05T16:14:17.923236Z",
     "iopub.status.idle": "2022-01-05T16:14:17.925956Z",
     "shell.execute_reply": "2022-01-05T16:14:17.925543Z"
    }
   },
   "outputs": [
    {
     "data": {
      "text/plain": [
       "\"hello world 😂\""
      ]
     },
     "execution_count": 13,
     "metadata": {},
     "output_type": "execute_result"
    }
   ],
   "source": [
    "str[1:end-1] * \"😂\""
   ]
  },
  {
   "cell_type": "markdown",
   "metadata": {},
   "source": [
    "### Parsing strings\n",
    "\n",
    "We can use the command `parse` to turn a string into an integer:"
   ]
  },
  {
   "cell_type": "code",
   "execution_count": 28,
   "metadata": {
    "execution": {
     "iopub.execute_input": "2022-01-05T16:14:17.928180Z",
     "iopub.status.busy": "2022-01-05T16:14:17.927386Z",
     "iopub.status.idle": "2022-01-05T16:14:17.929881Z",
     "shell.execute_reply": "2022-01-05T16:14:17.928754Z"
    }
   },
   "outputs": [
    {
     "data": {
      "text/plain": [
       "123"
      ]
     },
     "execution_count": 28,
     "metadata": {},
     "output_type": "execute_result"
    }
   ],
   "source": [
    "parse(Int, \"123\") # 把 string“123” 变成Int 默认64-bit"
   ]
  },
  {
   "cell_type": "code",
   "execution_count": 25,
   "metadata": {},
   "outputs": [
    {
     "data": {
      "text/plain": [
       "123"
      ]
     },
     "execution_count": 25,
     "metadata": {},
     "output_type": "execute_result"
    }
   ],
   "source": [
    "parse(Int8, \"123\")"
   ]
  },
  {
   "cell_type": "markdown",
   "metadata": {},
   "source": [
    "We can specify base 2 as an optional argument:"
   ]
  },
  {
   "cell_type": "code",
   "execution_count": 27,
   "metadata": {
    "execution": {
     "iopub.execute_input": "2022-01-05T16:14:17.932535Z",
     "iopub.status.busy": "2022-01-05T16:14:17.931809Z",
     "iopub.status.idle": "2022-01-05T16:14:17.947587Z",
     "shell.execute_reply": "2022-01-05T16:14:17.947076Z"
    }
   },
   "outputs": [
    {
     "data": {
      "text/plain": [
       "-5"
      ]
     },
     "execution_count": 27,
     "metadata": {},
     "output_type": "execute_result"
    }
   ],
   "source": [
    "parse(Int, \"-101\"; base=2) # bitstring 变Int 得不到我们想要bitstring的数"
   ]
  },
  {
   "cell_type": "code",
   "execution_count": 29,
   "metadata": {},
   "outputs": [
    {
     "data": {
      "text/plain": [
       "\"1111111111111111111111111111111111111111111111111111111111111011\""
      ]
     },
     "execution_count": 29,
     "metadata": {},
     "output_type": "execute_result"
    }
   ],
   "source": [
    "bitstring(-5) "
   ]
  },
  {
   "cell_type": "markdown",
   "metadata": {},
   "source": [
    "If we are specifying\n",
    "bits its safer to parse as an `UInt32`, otherwise the first bit\n",
    "is not recognised as a sign:"
   ]
  },
  {
   "cell_type": "code",
   "execution_count": 16,
   "metadata": {
    "execution": {
     "iopub.execute_input": "2022-01-05T16:14:17.949543Z",
     "iopub.status.busy": "2022-01-05T16:14:17.949029Z",
     "iopub.status.idle": "2022-01-05T16:14:18.214517Z",
     "shell.execute_reply": "2022-01-05T16:14:18.213961Z"
    }
   },
   "outputs": [
    {
     "data": {
      "text/plain": [
       "0xf09f998a"
      ]
     },
     "execution_count": 16,
     "metadata": {},
     "output_type": "execute_result"
    }
   ],
   "source": [
    "bts = \"11110000100111111001100110001010\"\n",
    "x = parse(UInt32, bts; base=2)"
   ]
  },
  {
   "cell_type": "markdown",
   "metadata": {},
   "source": [
    "The function `reinterpret` allows us to reinterpret the resulting\n",
    "sequence of 32 bits as a different type. For example, we can reinterpret\n",
    "as an `Int32` in which case the first bit is taken to be the sign bit\n",
    "and we get a negative number:"
   ]
  },
  {
   "cell_type": "code",
   "execution_count": 17,
   "metadata": {
    "execution": {
     "iopub.execute_input": "2022-01-05T16:14:18.216600Z",
     "iopub.status.busy": "2022-01-05T16:14:18.216100Z",
     "iopub.status.idle": "2022-01-05T16:14:18.420102Z",
     "shell.execute_reply": "2022-01-05T16:14:18.419717Z"
    }
   },
   "outputs": [
    {
     "data": {
      "text/plain": [
       "-257975926"
      ]
     },
     "execution_count": 17,
     "metadata": {},
     "output_type": "execute_result"
    }
   ],
   "source": [
    "reinterpret(Int32, x) # reinterpret as Int32"
   ]
  },
  {
   "cell_type": "code",
   "execution_count": 31,
   "metadata": {},
   "outputs": [
    {
     "data": {
      "text/plain": [
       "\"1111111111111111111111111111111111110000100111111001100110001010\""
      ]
     },
     "execution_count": 31,
     "metadata": {},
     "output_type": "execute_result"
    }
   ],
   "source": [
    "bitstring(-257975926) # as expected = bts"
   ]
  },
  {
   "cell_type": "markdown",
   "metadata": {},
   "source": [
    "We can also reinterpret as a `Char`:"
   ]
  },
  {
   "cell_type": "code",
   "execution_count": 18,
   "metadata": {
    "execution": {
     "iopub.execute_input": "2022-01-05T16:14:18.422745Z",
     "iopub.status.busy": "2022-01-05T16:14:18.421803Z",
     "iopub.status.idle": "2022-01-05T16:14:18.675290Z",
     "shell.execute_reply": "2022-01-05T16:14:18.674622Z"
    }
   },
   "outputs": [
    {
     "data": {
      "text/plain": [
       "'🙊': Unicode U+1F64A (category So: Symbol, other)"
      ]
     },
     "execution_count": 18,
     "metadata": {},
     "output_type": "execute_result"
    }
   ],
   "source": [
    "reinterpret(Char, x) # reinterpret as Character"
   ]
  },
  {
   "cell_type": "markdown",
   "metadata": {},
   "source": [
    "We will use `parse` and `reinterpret` as it allows one to easily manipulate bits. 这两个function一起可以把bitstring变成type eg. signed integer 或者 Character\n",
    "\n",
    "\n",
    "This is not actually how one should\n",
    "do it as it is slow.\n",
    "\n",
    "### Bitwise operations (advanced不考)\n",
    "\n",
    "In practice, one should manipulate bits using bitwise operations.\n",
    "These will not be required in this course and are not examinable, but\n",
    "are valuable to know if you have a career involving high performance computing.\n",
    "The `p << k` shifts the bits of `p` to the left `k` times inserting zeros,\n",
    "while `p >> k` shifts to the right:"
   ]
  },
  {
   "cell_type": "code",
   "execution_count": 19,
   "metadata": {
    "execution": {
     "iopub.execute_input": "2022-01-05T16:14:18.677401Z",
     "iopub.status.busy": "2022-01-05T16:14:18.676770Z",
     "iopub.status.idle": "2022-01-05T16:14:18.710228Z",
     "shell.execute_reply": "2022-01-05T16:14:18.709700Z"
    }
   },
   "outputs": [
    {
     "name": "stdout",
     "output_type": "stream",
     "text": [
      "0000000000000000000000000000000000000000000000000000000000010111\n",
      "0000000000000000000000000000000000000000000000000000000001011100\n",
      "0000000000000000000000000000000000000000000000000000000000000101\n"
     ]
    }
   ],
   "source": [
    "println(bitstring(23));\n",
    "println(bitstring(23 << 2));\n",
    "println(bitstring(23 >> 2));"
   ]
  },
  {
   "cell_type": "markdown",
   "metadata": {},
   "source": [
    "The operations `&`, `|` and `⊻` do bitwise and, or, and xor.\n",
    "\n",
    "## 3. Vectors, Matrices, and Arrays\n",
    "\n",
    "We can create a vector using brackets:"
   ]
  },
  {
   "cell_type": "code",
   "execution_count": 33,
   "metadata": {
    "execution": {
     "iopub.execute_input": "2022-01-05T16:14:18.712182Z",
     "iopub.status.busy": "2022-01-05T16:14:18.711688Z",
     "iopub.status.idle": "2022-01-05T16:14:19.383044Z",
     "shell.execute_reply": "2022-01-05T16:14:19.382535Z"
    }
   },
   "outputs": [
    {
     "data": {
      "text/plain": [
       "3-element Vector{Int64}:\n",
       " 11\n",
       " 24\n",
       " 32"
      ]
     },
     "execution_count": 33,
     "metadata": {},
     "output_type": "execute_result"
    }
   ],
   "source": [
    "v = [11, 24, 32] "
   ]
  },
  {
   "cell_type": "markdown",
   "metadata": {},
   "source": [
    "Like a string, elements are accessed via brackets. Julia\n",
    "uses 1-based indexing (like Matlab and Mathematica, unlike\n",
    "Python and C which use 0-based indexing):"
   ]
  },
  {
   "cell_type": "code",
   "execution_count": 21,
   "metadata": {
    "execution": {
     "iopub.execute_input": "2022-01-05T16:14:19.384875Z",
     "iopub.status.busy": "2022-01-05T16:14:19.384373Z",
     "iopub.status.idle": "2022-01-05T16:14:19.632828Z",
     "shell.execute_reply": "2022-01-05T16:14:19.632367Z"
    }
   },
   "outputs": [
    {
     "data": {
      "text/plain": [
       "(11, 32)"
      ]
     },
     "execution_count": 21,
     "metadata": {},
     "output_type": "execute_result"
    }
   ],
   "source": [
    "v[1], v[3]"
   ]
  },
  {
   "cell_type": "markdown",
   "metadata": {},
   "source": [
    "Accessing outside the range gives an error:"
   ]
  },
  {
   "cell_type": "code",
   "execution_count": 22,
   "metadata": {
    "execution": {
     "iopub.execute_input": "2022-01-05T16:14:19.634867Z",
     "iopub.status.busy": "2022-01-05T16:14:19.634333Z",
     "iopub.status.idle": "2022-01-05T16:14:20.809515Z",
     "shell.execute_reply": "2022-01-05T16:14:20.809065Z"
    }
   },
   "outputs": [
    {
     "ename": "LoadError",
     "evalue": "BoundsError: attempt to access 3-element Vector{Int64} at index [4]",
     "output_type": "error",
     "traceback": [
      "BoundsError: attempt to access 3-element Vector{Int64} at index [4]",
      "",
      "Stacktrace:",
      " [1] getindex(A::Vector{Int64}, i1::Int64)",
      "   @ Base ./array.jl:861",
      " [2] top-level scope",
      "   @ In[22]:1",
      " [3] eval",
      "   @ ./boot.jl:373 [inlined]",
      " [4] include_string(mapexpr::typeof(REPL.softscope), mod::Module, code::String, filename::String)",
      "   @ Base ./loading.jl:1196"
     ]
    }
   ],
   "source": [
    "v[4]"
   ]
  },
  {
   "cell_type": "markdown",
   "metadata": {},
   "source": [
    "Vectors can be made with different types, for example,\n",
    "here is a vector of three 8-bit integers:"
   ]
  },
  {
   "cell_type": "code",
   "execution_count": 23,
   "metadata": {
    "execution": {
     "iopub.execute_input": "2022-01-05T16:14:20.811473Z",
     "iopub.status.busy": "2022-01-05T16:14:20.810880Z",
     "iopub.status.idle": "2022-01-05T16:14:21.262821Z",
     "shell.execute_reply": "2022-01-05T16:14:21.262372Z"
    }
   },
   "outputs": [
    {
     "data": {
      "text/plain": [
       "3-element Vector{Int8}:\n",
       " 11\n",
       " 24\n",
       " 32"
      ]
     },
     "execution_count": 23,
     "metadata": {},
     "output_type": "execute_result"
    }
   ],
   "source": [
    "v = [Int8(11), Int8(24), Int8(32)]"
   ]
  },
  {
   "cell_type": "code",
   "execution_count": 34,
   "metadata": {},
   "outputs": [
    {
     "data": {
      "text/plain": [
       "3-element Vector{Int8}:\n",
       " 11\n",
       " 24\n",
       " 32"
      ]
     },
     "execution_count": 34,
     "metadata": {},
     "output_type": "execute_result"
    }
   ],
   "source": [
    "Int8[11, 24, 32] # entry都是Int的vector可以直接这样简便定义"
   ]
  },
  {
   "cell_type": "markdown",
   "metadata": {},
   "source": [
    "Just like strings, Vectors are not primitive types,\n",
    "but rather point to the start of sequence of bits in memory \n",
    "that are interpreted in the corresponding type.\n",
    "In this last case, there are $3*8=24$ bits/3 bytes in memory.\n",
    "\n",
    "1 byte(B) = 8 bits(b)  \n",
    "\n",
    "\n",
    "The easiest way to create a vector is to use `zeros` to create a zero `Vector`\n",
    "and then modify its entries:"
   ]
  },
  {
   "cell_type": "code",
   "execution_count": 24,
   "metadata": {
    "execution": {
     "iopub.execute_input": "2022-01-05T16:14:21.264930Z",
     "iopub.status.busy": "2022-01-05T16:14:21.264324Z",
     "iopub.status.idle": "2022-01-05T16:14:21.274004Z",
     "shell.execute_reply": "2022-01-05T16:14:21.273569Z"
    }
   },
   "outputs": [
    {
     "data": {
      "text/plain": [
       "5-element Vector{Int64}:\n",
       " 0\n",
       " 3\n",
       " 0\n",
       " 0\n",
       " 0"
      ]
     },
     "execution_count": 24,
     "metadata": {},
     "output_type": "execute_result"
    }
   ],
   "source": [
    "v = zeros(Int, 5)\n",
    "v[2] = 3\n",
    "v"
   ]
  },
  {
   "cell_type": "markdown",
   "metadata": {},
   "source": [
    "Note: we can't assign a non-integer floating point number to an integer vector:"
   ]
  },
  {
   "cell_type": "code",
   "execution_count": 25,
   "metadata": {
    "execution": {
     "iopub.execute_input": "2022-01-05T16:14:21.276220Z",
     "iopub.status.busy": "2022-01-05T16:14:21.275602Z",
     "iopub.status.idle": "2022-01-05T16:14:21.375088Z",
     "shell.execute_reply": "2022-01-05T16:14:21.374658Z"
    }
   },
   "outputs": [
    {
     "ename": "LoadError",
     "evalue": "InexactError: Int64(3.5)",
     "output_type": "error",
     "traceback": [
      "InexactError: Int64(3.5)",
      "",
      "Stacktrace:",
      " [1] Int64",
      "   @ ./float.jl:812 [inlined]",
      " [2] convert",
      "   @ ./number.jl:7 [inlined]",
      " [3] setindex!(A::Vector{Int64}, x::Float64, i1::Int64)",
      "   @ Base ./array.jl:903",
      " [4] top-level scope",
      "   @ In[25]:1",
      " [5] eval",
      "   @ ./boot.jl:373 [inlined]",
      " [6] include_string(mapexpr::typeof(REPL.softscope), mod::Module, code::String, filename::String)",
      "   @ Base ./loading.jl:1196"
     ]
    }
   ],
   "source": [
    "v[2] = 3.5 # wrong entry type # create完成的vector不可以改entry type了"
   ]
  },
  {
   "cell_type": "markdown",
   "metadata": {},
   "source": [
    "We can also create vectors with `ones` (a vector of all ones), `rand` (a vector of random numbers between `0` and `1`)\n",
    "and `randn` (a vector of samples of normal distributed quasi-random numbers).\n",
    "\n"
   ]
  },
  {
   "cell_type": "code",
   "execution_count": 38,
   "metadata": {},
   "outputs": [
    {
     "data": {
      "text/plain": [
       "5-element Vector{Int64}:\n",
       " 1\n",
       " 1\n",
       " 1\n",
       " 1\n",
       " 1"
      ]
     },
     "execution_count": 38,
     "metadata": {},
     "output_type": "execute_result"
    }
   ],
   "source": [
    "ones(Int8, 5)"
   ]
  },
  {
   "cell_type": "code",
   "execution_count": 49,
   "metadata": {},
   "outputs": [
    {
     "data": {
      "text/plain": [
       "5-element Vector{Float64}:\n",
       " -1.3061467039381076\n",
       " -1.1937372333213403\n",
       " -0.786260573387634\n",
       "  1.3139492847925576\n",
       " -1.863547811935479"
      ]
     },
     "execution_count": 49,
     "metadata": {},
     "output_type": "execute_result"
    }
   ],
   "source": [
    "randn(5)"
   ]
  },
  {
   "cell_type": "markdown",
   "metadata": {},
   "source": [
    "When we create a vector whose entries are of different types, they are mapped to a type that can represent every entry.\n",
    "For example, here we input a list of one `Int32` followed by three `Int64`s, which are automatically converted to\n",
    "all be `Int64`:"
   ]
  },
  {
   "cell_type": "code",
   "execution_count": 26,
   "metadata": {
    "execution": {
     "iopub.execute_input": "2022-01-05T16:14:21.377467Z",
     "iopub.status.busy": "2022-01-05T16:14:21.376897Z",
     "iopub.status.idle": "2022-01-05T16:14:21.403958Z",
     "shell.execute_reply": "2022-01-05T16:14:21.403576Z"
    }
   },
   "outputs": [
    {
     "data": {
      "text/plain": [
       "4-element Vector{Int64}:\n",
       " 1\n",
       " 2\n",
       " 3\n",
       " 4"
      ]
     },
     "execution_count": 26,
     "metadata": {},
     "output_type": "execute_result"
    }
   ],
   "source": [
    "[Int32(1), 2, 3, 4] # Int64 include Int32"
   ]
  },
  {
   "cell_type": "code",
   "execution_count": 50,
   "metadata": {},
   "outputs": [
    {
     "data": {
      "text/plain": [
       "4-element Vector{Float64}:\n",
       " 1.0\n",
       " 2.0\n",
       " 3.0\n",
       " 4.6"
      ]
     },
     "execution_count": 50,
     "metadata": {},
     "output_type": "execute_result"
    }
   ],
   "source": [
    "[Int32(1), 2, 3, 4.6] # Float64 include Int"
   ]
  },
  {
   "cell_type": "markdown",
   "metadata": {},
   "source": [
    "In the event that the types cannot automatically be converted, it defaults to an `Any` vector, which\n",
    "is similar to a Python list.\n",
    "This is bad performancewise as it does not know how many bits each element will need, so should be avoided."
   ]
  },
  {
   "cell_type": "code",
   "execution_count": 51,
   "metadata": {
    "execution": {
     "iopub.execute_input": "2022-01-05T16:14:21.406104Z",
     "iopub.status.busy": "2022-01-05T16:14:21.405545Z",
     "iopub.status.idle": "2022-01-05T16:14:22.125325Z",
     "shell.execute_reply": "2022-01-05T16:14:22.124794Z"
    }
   },
   "outputs": [
    {
     "data": {
      "text/plain": [
       "3-element Vector{Any}:\n",
       " 1.0\n",
       " 1\n",
       "  \"1\""
      ]
     },
     "execution_count": 51,
     "metadata": {},
     "output_type": "execute_result"
    }
   ],
   "source": [
    "[1.0, 1, \"1\"] # no type include other types, therefore `Any` type"
   ]
  },
  {
   "cell_type": "markdown",
   "metadata": {},
   "source": [
    "We can also specify the type of the Vector explicitly by writing the desired type before the first bracket:"
   ]
  },
  {
   "cell_type": "code",
   "execution_count": 28,
   "metadata": {
    "execution": {
     "iopub.execute_input": "2022-01-05T16:14:22.127391Z",
     "iopub.status.busy": "2022-01-05T16:14:22.126876Z",
     "iopub.status.idle": "2022-01-05T16:14:22.573832Z",
     "shell.execute_reply": "2022-01-05T16:14:22.573323Z"
    }
   },
   "outputs": [
    {
     "data": {
      "text/plain": [
       "3-element Vector{Int32}:\n",
       " 1\n",
       " 2\n",
       " 3"
      ]
     },
     "execution_count": 28,
     "metadata": {},
     "output_type": "execute_result"
    }
   ],
   "source": [
    "Int32[1, 2, 3]"
   ]
  },
  {
   "cell_type": "markdown",
   "metadata": {},
   "source": [
    "We can also create an array using comprehensions:"
   ]
  },
  {
   "cell_type": "code",
   "execution_count": 29,
   "metadata": {
    "execution": {
     "iopub.execute_input": "2022-01-05T16:14:22.575992Z",
     "iopub.status.busy": "2022-01-05T16:14:22.575450Z",
     "iopub.status.idle": "2022-01-05T16:14:22.596759Z",
     "shell.execute_reply": "2022-01-05T16:14:22.596298Z"
    }
   },
   "outputs": [
    {
     "data": {
      "text/plain": [
       "5-element Vector{Int64}:\n",
       "  1\n",
       "  4\n",
       "  9\n",
       " 16\n",
       " 25"
      ]
     },
     "execution_count": 29,
     "metadata": {},
     "output_type": "execute_result"
    }
   ],
   "source": [
    "[k^2 for k = 1:5]"
   ]
  },
  {
   "cell_type": "markdown",
   "metadata": {},
   "source": [
    "Matrices are created similar to vectors, but by specifying two dimensions instead of one.\n",
    "Again, the simplest way is to use `zeros` to create a matrix of all zeros:"
   ]
  },
  {
   "cell_type": "code",
   "execution_count": 52,
   "metadata": {
    "execution": {
     "iopub.execute_input": "2022-01-05T16:14:22.598838Z",
     "iopub.status.busy": "2022-01-05T16:14:22.598226Z",
     "iopub.status.idle": "2022-01-05T16:14:22.972318Z",
     "shell.execute_reply": "2022-01-05T16:14:22.971632Z"
    }
   },
   "outputs": [
    {
     "data": {
      "text/plain": [
       "5×6 Matrix{Int64}:\n",
       " 0  0  0  0  0  0\n",
       " 0  0  0  0  0  0\n",
       " 0  0  0  0  0  0\n",
       " 0  0  0  0  0  0\n",
       " 0  0  0  0  0  0"
      ]
     },
     "execution_count": 52,
     "metadata": {},
     "output_type": "execute_result"
    }
   ],
   "source": [
    "zeros(Int, 5, 6) # creates a 5x6 matrix of Int zeros"
   ]
  },
  {
   "cell_type": "code",
   "execution_count": 54,
   "metadata": {},
   "outputs": [
    {
     "data": {
      "text/plain": [
       "5×6×3 Array{Int64, 3}:\n",
       "[:, :, 1] =\n",
       " 0  0  0  0  0  0\n",
       " 0  0  0  0  0  0\n",
       " 0  0  0  0  0  0\n",
       " 0  0  0  0  0  0\n",
       " 0  0  0  0  0  0\n",
       "\n",
       "[:, :, 2] =\n",
       " 0  0  0  0  0  0\n",
       " 0  0  0  0  0  0\n",
       " 0  0  0  0  0  0\n",
       " 0  0  0  0  0  0\n",
       " 0  0  0  0  0  0\n",
       "\n",
       "[:, :, 3] =\n",
       " 0  0  0  0  0  0\n",
       " 0  0  0  0  0  0\n",
       " 0  0  0  0  0  0\n",
       " 0  0  0  0  0  0\n",
       " 0  0  0  0  0  0"
      ]
     },
     "execution_count": 54,
     "metadata": {},
     "output_type": "execute_result"
    }
   ],
   "source": [
    "zeros(Int, 5, 6, 3)"
   ]
  },
  {
   "cell_type": "code",
   "execution_count": 57,
   "metadata": {},
   "outputs": [
    {
     "data": {
      "text/plain": [
       "false"
      ]
     },
     "execution_count": 57,
     "metadata": {},
     "output_type": "execute_result"
    }
   ],
   "source": [
    "zeros(Int, 5, 1) == zeros(Int, 5) # column matrix =/= vector 和python的不同之处"
   ]
  },
  {
   "cell_type": "markdown",
   "metadata": {},
   "source": [
    "We can also create matrices by hand.  Here, spaces delimit the columns and semicolons delimit the rows:"
   ]
  },
  {
   "cell_type": "code",
   "execution_count": 31,
   "metadata": {
    "execution": {
     "iopub.execute_input": "2022-01-05T16:14:22.975169Z",
     "iopub.status.busy": "2022-01-05T16:14:22.974508Z",
     "iopub.status.idle": "2022-01-05T16:14:23.004887Z",
     "shell.execute_reply": "2022-01-05T16:14:23.004331Z"
    }
   },
   "outputs": [
    {
     "data": {
      "text/plain": [
       "3×2 Matrix{Int64}:\n",
       " 1  2\n",
       " 3  4\n",
       " 5  6"
      ]
     },
     "execution_count": 31,
     "metadata": {},
     "output_type": "execute_result"
    }
   ],
   "source": [
    "A = [1 2; 3 4; 5 6]"
   ]
  },
  {
   "cell_type": "markdown",
   "metadata": {},
   "source": [
    "We can also create matrices using brackets, a formula, and a `for` command:"
   ]
  },
  {
   "cell_type": "code",
   "execution_count": 32,
   "metadata": {
    "execution": {
     "iopub.execute_input": "2022-01-05T16:14:23.008306Z",
     "iopub.status.busy": "2022-01-05T16:14:23.007409Z",
     "iopub.status.idle": "2022-01-05T16:14:23.068984Z",
     "shell.execute_reply": "2022-01-05T16:14:23.068535Z"
    }
   },
   "outputs": [
    {
     "data": {
      "text/plain": [
       "5×5 Matrix{Int64}:\n",
       "  2   3   4   5   6\n",
       "  5   6   7   8   9\n",
       " 10  11  12  13  14\n",
       " 17  18  19  20  21\n",
       " 26  27  28  29  30"
      ]
     },
     "execution_count": 32,
     "metadata": {},
     "output_type": "execute_result"
    }
   ],
   "source": [
    "[k^2+j for k=1:5, j=1:5] # comprehension"
   ]
  },
  {
   "cell_type": "markdown",
   "metadata": {},
   "source": [
    "Matrices are really vectors in disguise.  They are still stored in memory in a consecutive sequence of bits.\n",
    "We can see the underlying vector using the `vec` command:"
   ]
  },
  {
   "cell_type": "code",
   "execution_count": 33,
   "metadata": {
    "execution": {
     "iopub.execute_input": "2022-01-05T16:14:23.070853Z",
     "iopub.status.busy": "2022-01-05T16:14:23.070351Z",
     "iopub.status.idle": "2022-01-05T16:14:23.081955Z",
     "shell.execute_reply": "2022-01-05T16:14:23.081472Z"
    }
   },
   "outputs": [
    {
     "data": {
      "text/plain": [
       "6-element Vector{Int64}:\n",
       " 1\n",
       " 3\n",
       " 5\n",
       " 2\n",
       " 4\n",
       " 6"
      ]
     },
     "execution_count": 33,
     "metadata": {},
     "output_type": "execute_result"
    }
   ],
   "source": [
    "vec(A)"
   ]
  },
  {
   "cell_type": "markdown",
   "metadata": {},
   "source": [
    "The only difference between matrices and vectors from the computers perspective is that they have a `size` which \n",
    "changes the interpretation of whats stored in memory:"
   ]
  },
  {
   "cell_type": "code",
   "execution_count": 63,
   "metadata": {},
   "outputs": [
    {
     "data": {
      "text/plain": [
       "(3,)"
      ]
     },
     "execution_count": 63,
     "metadata": {},
     "output_type": "execute_result"
    }
   ],
   "source": [
    "size([1, 2, 3]) # vector size 只有一个维度"
   ]
  },
  {
   "cell_type": "code",
   "execution_count": 34,
   "metadata": {
    "execution": {
     "iopub.execute_input": "2022-01-05T16:14:23.083764Z",
     "iopub.status.busy": "2022-01-05T16:14:23.083264Z",
     "iopub.status.idle": "2022-01-05T16:14:23.088619Z",
     "shell.execute_reply": "2022-01-05T16:14:23.088167Z"
    }
   },
   "outputs": [
    {
     "data": {
      "text/plain": [
       "(3, 2)"
      ]
     },
     "execution_count": 34,
     "metadata": {},
     "output_type": "execute_result"
    }
   ],
   "source": [
    "size(A) # 但是matrix size有两"
   ]
  },
  {
   "cell_type": "markdown",
   "metadata": {},
   "source": [
    "Matrices can be manipulated easily on a computer.  We can multiply a matrix times vector:"
   ]
  },
  {
   "cell_type": "code",
   "execution_count": 74,
   "metadata": {},
   "outputs": [
    {
     "data": {
      "text/plain": [
       "3-element Vector{Int64}:\n",
       " 1\n",
       " 2\n",
       " 3"
      ]
     },
     "execution_count": 74,
     "metadata": {},
     "output_type": "execute_result"
    }
   ],
   "source": [
    "[1,2,3] # vector"
   ]
  },
  {
   "cell_type": "code",
   "execution_count": 71,
   "metadata": {},
   "outputs": [
    {
     "data": {
      "text/plain": [
       "3-element Vector{Int64}:\n",
       " 1\n",
       " 2\n",
       " 3"
      ]
     },
     "execution_count": 71,
     "metadata": {},
     "output_type": "execute_result"
    }
   ],
   "source": [
    "[1;2;3] # vector"
   ]
  },
  {
   "cell_type": "code",
   "execution_count": 73,
   "metadata": {},
   "outputs": [
    {
     "data": {
      "text/plain": [
       "1×3 Matrix{Int64}:\n",
       " 1  2  3"
      ]
     },
     "execution_count": 73,
     "metadata": {},
     "output_type": "execute_result"
    }
   ],
   "source": [
    "[1 2 3] # 1*3 matrix"
   ]
  },
  {
   "cell_type": "code",
   "execution_count": 35,
   "metadata": {
    "execution": {
     "iopub.execute_input": "2022-01-05T16:14:23.091028Z",
     "iopub.status.busy": "2022-01-05T16:14:23.090379Z",
     "iopub.status.idle": "2022-01-05T16:14:23.173821Z",
     "shell.execute_reply": "2022-01-05T16:14:23.172989Z"
    },
    "scrolled": true
   },
   "outputs": [
    {
     "data": {
      "text/plain": [
       "3-element Vector{Int64}:\n",
       " 26\n",
       " 60\n",
       " 94"
      ]
     },
     "execution_count": 35,
     "metadata": {},
     "output_type": "execute_result"
    }
   ],
   "source": [
    "x = [8; 9] # 2-element vector\n",
    "A * x"
   ]
  },
  {
   "cell_type": "markdown",
   "metadata": {},
   "source": [
    "or a matrix times matrix:"
   ]
  },
  {
   "cell_type": "code",
   "execution_count": 36,
   "metadata": {
    "execution": {
     "iopub.execute_input": "2022-01-05T16:14:23.177325Z",
     "iopub.status.busy": "2022-01-05T16:14:23.176451Z",
     "iopub.status.idle": "2022-01-05T16:14:23.765320Z",
     "shell.execute_reply": "2022-01-05T16:14:23.764877Z"
    }
   },
   "outputs": [
    {
     "data": {
      "text/plain": [
       "3×2 Matrix{Int64}:\n",
       " 16  19\n",
       " 36  43\n",
       " 56  67"
      ]
     },
     "execution_count": 36,
     "metadata": {},
     "output_type": "execute_result"
    }
   ],
   "source": [
    "A * [4 5; 6 7] # matrix multiplication"
   ]
  },
  {
   "cell_type": "markdown",
   "metadata": {},
   "source": [
    "If you use `.*`, it does entrywise multiplication:"
   ]
  },
  {
   "cell_type": "code",
   "execution_count": 75,
   "metadata": {
    "execution": {
     "iopub.execute_input": "2022-01-05T16:14:23.767135Z",
     "iopub.status.busy": "2022-01-05T16:14:23.766626Z",
     "iopub.status.idle": "2022-01-05T16:14:23.853374Z",
     "shell.execute_reply": "2022-01-05T16:14:23.852963Z"
    }
   },
   "outputs": [
    {
     "data": {
      "text/plain": [
       "2×2 Matrix{Int64}:\n",
       "  4  10\n",
       " 18  28"
      ]
     },
     "execution_count": 75,
     "metadata": {},
     "output_type": "execute_result"
    }
   ],
   "source": [
    "[1 2; 3 4] .* [4 5; 6 7] # entry-wise multiplication"
   ]
  },
  {
   "cell_type": "markdown",
   "metadata": {},
   "source": [
    "We can take the transpose of a real vector as follows:"
   ]
  },
  {
   "cell_type": "code",
   "execution_count": 79,
   "metadata": {
    "execution": {
     "iopub.execute_input": "2022-01-05T16:14:23.855329Z",
     "iopub.status.busy": "2022-01-05T16:14:23.854836Z",
     "iopub.status.idle": "2022-01-05T16:14:24.240191Z",
     "shell.execute_reply": "2022-01-05T16:14:24.239751Z"
    }
   },
   "outputs": [
    {
     "data": {
      "text/plain": [
       "1×3 adjoint(::Vector{Int64}) with eltype Int64:\n",
       " 1  2  3"
      ]
     },
     "execution_count": 79,
     "metadata": {},
     "output_type": "execute_result"
    }
   ],
   "source": [
    "a = [1, 2, 3]\n",
    "a'"
   ]
  },
  {
   "cell_type": "markdown",
   "metadata": {},
   "source": [
    "Note for complex-valued vectors this is the conjugate-transpose,\n",
    "and so one may need to use `transpose(a)`. Both `a'` and `transpose(a)`\n",
    "should be thought of as \"dual-vectors\", and so multiplcation with a\n",
    "transposed vector with a normal vector gives a constant:"
   ]
  },
  {
   "cell_type": "code",
   "execution_count": 80,
   "metadata": {
    "execution": {
     "iopub.execute_input": "2022-01-05T16:14:24.242797Z",
     "iopub.status.busy": "2022-01-05T16:14:24.242201Z",
     "iopub.status.idle": "2022-01-05T16:14:24.257690Z",
     "shell.execute_reply": "2022-01-05T16:14:24.257240Z"
    }
   },
   "outputs": [
    {
     "data": {
      "text/plain": [
       "32"
      ]
     },
     "execution_count": 80,
     "metadata": {},
     "output_type": "execute_result"
    }
   ],
   "source": [
    "b = [4, 5, 6]\n",
    "a' * b # row vector * vector"
   ]
  },
  {
   "cell_type": "code",
   "execution_count": 81,
   "metadata": {},
   "outputs": [
    {
     "data": {
      "text/plain": [
       "1-element Vector{Int64}:\n",
       " 32"
      ]
     },
     "execution_count": 81,
     "metadata": {},
     "output_type": "execute_result"
    }
   ],
   "source": [
    "a = [1 2 3] \n",
    "a * b # row matrix * vector"
   ]
  },
  {
   "cell_type": "markdown",
   "metadata": {},
   "source": [
    "One important note: a vector is not the same as an `n x 1` matrix, and a transposed\n",
    "vector is not the same as a `1 x n` matrix.\n",
    "\n",
    "### Accessing and altering subsections of arrays \n",
    "\n",
    "We will use the following notation to get at the columns and rows of matrices:\n",
    "```\n",
    "A[a:b,k]    # returns the a-th through b-th rows of the k-th column of A as a Vector of length (b-a+1)\n",
    "A[k,a:b]    # returns the a-th through b-th columns of the k-th row of A as a Vector of length (b-a+1)\n",
    "A[:,k]      # returns all rows of the k-th column of A as a Vector of length size(A,1)\n",
    "A[k,:]      # returns all columns of the k-th row of A as a Vector of length size(A,2)\n",
    "A[a:b,c:d]  # returns the a-th through b-th rows and c-th through d-th columns of A \n",
    "            # as a (b-a+1) x (d-c+1) Matrix\n",
    "```\n",
    " The ranges `a:b` and `c:d` can be replaced by any `AbstractVector{Int}`.  For example:"
   ]
  },
  {
   "cell_type": "code",
   "execution_count": 83,
   "metadata": {
    "execution": {
     "iopub.execute_input": "2022-01-05T16:14:24.259920Z",
     "iopub.status.busy": "2022-01-05T16:14:24.259250Z",
     "iopub.status.idle": "2022-01-05T16:14:24.322672Z",
     "shell.execute_reply": "2022-01-05T16:14:24.321992Z"
    }
   },
   "outputs": [
    {
     "data": {
      "text/plain": [
       "3-element Vector{Int64}:\n",
       "  2\n",
       "  8\n",
       " 11"
      ]
     },
     "execution_count": 83,
     "metadata": {},
     "output_type": "execute_result"
    }
   ],
   "source": [
    "A = [1 2 3;\n",
    "     4 5 6;\n",
    "    \n",
    "     7 8 9;\n",
    "     10 11 12]\n",
    "A[[1,3,4],2]  # returns the 1st, 3rd and 4th rows of the 2nd column of A"
   ]
  },
  {
   "cell_type": "code",
   "execution_count": 88,
   "metadata": {},
   "outputs": [
    {
     "data": {
      "text/plain": [
       "2×2 Matrix{Int64}:\n",
       " 1  3\n",
       " 4  6"
      ]
     },
     "execution_count": 88,
     "metadata": {},
     "output_type": "execute_result"
    }
   ],
   "source": [
    "A[1:2,[1,3]] "
   ]
  },
  {
   "cell_type": "markdown",
   "metadata": {},
   "source": [
    "**Exercise**  Can you guess what `A[2,[1,3,4]]` returns, using the definition of `A` as above?  \n",
    "What about `A[1:2,[1,3]]`?  And `A[1,B[1:2,1]]`?  And `vec(A[1,B[1:2,1]])`?\n",
    "\n",
    "We can also use this notation to modify entries of the matrix.  For example, we can set the `1:2` x `2:3` subblock of A to `[1 2; 3 4]` as follows:"
   ]
  },
  {
   "cell_type": "code",
   "execution_count": 41,
   "metadata": {
    "execution": {
     "iopub.execute_input": "2022-01-05T16:14:24.325041Z",
     "iopub.status.busy": "2022-01-05T16:14:24.324532Z",
     "iopub.status.idle": "2022-01-05T16:14:24.360796Z",
     "shell.execute_reply": "2022-01-05T16:14:24.360178Z"
    }
   },
   "outputs": [
    {
     "data": {
      "text/plain": [
       "4×3 Matrix{Int64}:\n",
       "  1   1   2\n",
       "  4   3   4\n",
       "  7   8   9\n",
       " 10  11  12"
      ]
     },
     "execution_count": 41,
     "metadata": {},
     "output_type": "execute_result"
    }
   ],
   "source": [
    "A[1:2,2:3] = [1 2; 3 4] # index 用于modify entries\n",
    "A"
   ]
  },
  {
   "cell_type": "markdown",
   "metadata": {},
   "source": [
    "### Broadcasting\n",
    "\n",
    "It often is necessary to apply a function to every entry of a vector.\n",
    "By adding `.` to the end of a function we \"broadcast\" the function over\n",
    "a vector:\n",
    "\n",
    "除了function `cos` 还有`sign`, `exp`..."
   ]
  },
  {
   "cell_type": "code",
   "execution_count": 90,
   "metadata": {
    "execution": {
     "iopub.execute_input": "2022-01-05T16:14:24.363918Z",
     "iopub.status.busy": "2022-01-05T16:14:24.362871Z",
     "iopub.status.idle": "2022-01-05T16:14:24.904568Z",
     "shell.execute_reply": "2022-01-05T16:14:24.904127Z"
    }
   },
   "outputs": [
    {
     "data": {
      "text/plain": [
       "3-element Vector{Float64}:\n",
       "  0.5403023058681398\n",
       " -0.4161468365471424\n",
       " -0.9899924966004454"
      ]
     },
     "execution_count": 90,
     "metadata": {},
     "output_type": "execute_result"
    }
   ],
   "source": [
    "x = [1,2,3]\n",
    "cos.(x) # equivalent to [cos(1), cos(2), cos(3)]"
   ]
  },
  {
   "cell_type": "code",
   "execution_count": 91,
   "metadata": {},
   "outputs": [
    {
     "ename": "LoadError",
     "evalue": "MethodError: no method matching cos(::Vector{Int64})\n\u001b[0mClosest candidates are:\n\u001b[0m  cos(\u001b[91m::T\u001b[39m) where T<:Union{Float32, Float64} at /Applications/Julia-1.7.app/Contents/Resources/julia/share/julia/base/special/trig.jl:98\n\u001b[0m  cos(\u001b[91m::LinearAlgebra.Hermitian{var\"#s858\", S} where {var\"#s858\"<:Complex, S<:(AbstractMatrix{<:var\"#s858\"})}\u001b[39m) at /Applications/Julia-1.7.app/Contents/Resources/julia/share/julia/stdlib/v1.7/LinearAlgebra/src/symmetric.jl:761\n\u001b[0m  cos(\u001b[91m::Union{LinearAlgebra.Hermitian{var\"#s859\", S}, LinearAlgebra.Symmetric{var\"#s859\", S}} where {var\"#s859\"<:Real, S}\u001b[39m) at /Applications/Julia-1.7.app/Contents/Resources/julia/share/julia/stdlib/v1.7/LinearAlgebra/src/symmetric.jl:757\n\u001b[0m  ...",
     "output_type": "error",
     "traceback": [
      "MethodError: no method matching cos(::Vector{Int64})\n\u001b[0mClosest candidates are:\n\u001b[0m  cos(\u001b[91m::T\u001b[39m) where T<:Union{Float32, Float64} at /Applications/Julia-1.7.app/Contents/Resources/julia/share/julia/base/special/trig.jl:98\n\u001b[0m  cos(\u001b[91m::LinearAlgebra.Hermitian{var\"#s858\", S} where {var\"#s858\"<:Complex, S<:(AbstractMatrix{<:var\"#s858\"})}\u001b[39m) at /Applications/Julia-1.7.app/Contents/Resources/julia/share/julia/stdlib/v1.7/LinearAlgebra/src/symmetric.jl:761\n\u001b[0m  cos(\u001b[91m::Union{LinearAlgebra.Hermitian{var\"#s859\", S}, LinearAlgebra.Symmetric{var\"#s859\", S}} where {var\"#s859\"<:Real, S}\u001b[39m) at /Applications/Julia-1.7.app/Contents/Resources/julia/share/julia/stdlib/v1.7/LinearAlgebra/src/symmetric.jl:757\n\u001b[0m  ...",
      "",
      "Stacktrace:",
      " [1] top-level scope",
      "   @ In[91]:1",
      " [2] eval",
      "   @ ./boot.jl:373 [inlined]",
      " [3] include_string(mapexpr::typeof(REPL.softscope), mod::Module, code::String, filename::String)",
      "   @ Base ./loading.jl:1196"
     ]
    }
   ],
   "source": [
    "cos(x) # 不可以直接对vector operation，不会 entry-wise 的"
   ]
  },
  {
   "cell_type": "code",
   "execution_count": 96,
   "metadata": {},
   "outputs": [
    {
     "data": {
      "text/plain": [
       "2×2 Matrix{Float64}:\n",
       "  0.855423  -0.110876\n",
       " -0.166315   0.689109"
      ]
     },
     "execution_count": 96,
     "metadata": {},
     "output_type": "execute_result"
    }
   ],
   "source": [
    "x = [1 2; 3 4]\n",
    "cos(x) # 可以对 n*n matrix operation，会 entry-wise 的"
   ]
  },
  {
   "cell_type": "markdown",
   "metadata": {},
   "source": [
    "Broadcasting has some interesting behaviour for matrices.\n",
    "If one dimension of a matrix (or vector) is 1, it automatically\n",
    "repeats the matrix (or vector) to match the size of another example.\n",
    "\n",
    "**Example**"
   ]
  },
  {
   "cell_type": "code",
   "execution_count": 43,
   "metadata": {
    "execution": {
     "iopub.execute_input": "2022-01-05T16:14:24.906700Z",
     "iopub.status.busy": "2022-01-05T16:14:24.906089Z",
     "iopub.status.idle": "2022-01-05T16:14:24.979094Z",
     "shell.execute_reply": "2022-01-05T16:14:24.978583Z"
    }
   },
   "outputs": [
    {
     "data": {
      "text/plain": [
       "3×2 Matrix{Int64}:\n",
       "  4   5\n",
       "  8  10\n",
       " 12  15"
      ]
     },
     "execution_count": 43,
     "metadata": {},
     "output_type": "execute_result"
    }
   ],
   "source": [
    "[1,2,3] .* [4,5]'   column vector 和 row vector"
   ]
  },
  {
   "cell_type": "markdown",
   "metadata": {},
   "source": [
    "Since `size([1,2,3],2) == 1` it repeats the same vector to match the size\n",
    "`size([4,5]',2) == 2`. Similarly, `[4,5]'` is repeated 3 times. So the\n",
    "above is equivalent to:"
   ]
  },
  {
   "cell_type": "code",
   "execution_count": 44,
   "metadata": {
    "execution": {
     "iopub.execute_input": "2022-01-05T16:14:24.981110Z",
     "iopub.status.busy": "2022-01-05T16:14:24.980485Z",
     "iopub.status.idle": "2022-01-05T16:14:24.983521Z",
     "shell.execute_reply": "2022-01-05T16:14:24.983141Z"
    }
   },
   "outputs": [
    {
     "data": {
      "text/plain": [
       "3×2 Matrix{Int64}:\n",
       "  4   5\n",
       "  8  10\n",
       " 12  15"
      ]
     },
     "execution_count": 44,
     "metadata": {},
     "output_type": "execute_result"
    }
   ],
   "source": [
    "[1 1; 2 2; 3 3] .* [4 5; 4 5; 4 5]"
   ]
  },
  {
   "cell_type": "markdown",
   "metadata": {},
   "source": [
    "Note we can also use broadcasting with our own functions (construction discussed later):"
   ]
  },
  {
   "cell_type": "code",
   "execution_count": 45,
   "metadata": {
    "execution": {
     "iopub.execute_input": "2022-01-05T16:14:24.985660Z",
     "iopub.status.busy": "2022-01-05T16:14:24.985053Z",
     "iopub.status.idle": "2022-01-05T16:14:25.375146Z",
     "shell.execute_reply": "2022-01-05T16:14:25.374686Z"
    }
   },
   "outputs": [
    {
     "data": {
      "text/plain": [
       "3×2 Matrix{Float64}:\n",
       " -0.91113    0.0044257\n",
       " -0.839072   0.843854\n",
       "  0.0044257  0.907447"
      ]
     },
     "execution_count": 45,
     "metadata": {},
     "output_type": "execute_result"
    }
   ],
   "source": [
    "f = (x,y) -> cos(x + 2y) # 每个entry对应坐标xy x行y列\n",
    "f.([1,2,3], [4,5]')"
   ]
  },
  {
   "cell_type": "markdown",
   "metadata": {},
   "source": [
    "### Ranges\n",
    "\n",
    "We have already seen that we can represent a range of integers via `a:b`. Note we can\n",
    "convert it to a `Vector` as follows:"
   ]
  },
  {
   "cell_type": "code",
   "execution_count": 97,
   "metadata": {},
   "outputs": [
    {
     "data": {
      "text/plain": [
       "UnitRange{Int64}"
      ]
     },
     "execution_count": 97,
     "metadata": {},
     "output_type": "execute_result"
    }
   ],
   "source": [
    "typeof(2:6) "
   ]
  },
  {
   "cell_type": "code",
   "execution_count": 46,
   "metadata": {
    "execution": {
     "iopub.execute_input": "2022-01-05T16:14:25.377151Z",
     "iopub.status.busy": "2022-01-05T16:14:25.376662Z",
     "iopub.status.idle": "2022-01-05T16:14:25.387831Z",
     "shell.execute_reply": "2022-01-05T16:14:25.387390Z"
    }
   },
   "outputs": [
    {
     "data": {
      "text/plain": [
       "5-element Vector{Int64}:\n",
       " 2\n",
       " 3\n",
       " 4\n",
       " 5\n",
       " 6"
      ]
     },
     "execution_count": 46,
     "metadata": {},
     "output_type": "execute_result"
    }
   ],
   "source": [
    "Vector(2:6) # act like vector"
   ]
  },
  {
   "cell_type": "markdown",
   "metadata": {},
   "source": [
    "We can also specify a step:"
   ]
  },
  {
   "cell_type": "code",
   "execution_count": 98,
   "metadata": {
    "execution": {
     "iopub.execute_input": "2022-01-05T16:14:25.389915Z",
     "iopub.status.busy": "2022-01-05T16:14:25.389372Z",
     "iopub.status.idle": "2022-01-05T16:14:25.678971Z",
     "shell.execute_reply": "2022-01-05T16:14:25.678574Z"
    }
   },
   "outputs": [
    {
     "data": {
      "text/plain": [
       "([2, 4, 6], [6, 5, 4, 3, 2])"
      ]
     },
     "execution_count": 98,
     "metadata": {},
     "output_type": "execute_result"
    }
   ],
   "source": [
    "Vector(2:2:6), Vector(6:-1:2) # 中间的数代表间隔大小， 首位两边都包括"
   ]
  },
  {
   "cell_type": "markdown",
   "metadata": {},
   "source": [
    "Finally, the `range` function gives more functionality, for example, we can create 4 evenly\n",
    "spaced points between `-1` and `1`:"
   ]
  },
  {
   "cell_type": "code",
   "execution_count": 100,
   "metadata": {
    "execution": {
     "iopub.execute_input": "2022-01-05T16:14:25.680773Z",
     "iopub.status.busy": "2022-01-05T16:14:25.680262Z",
     "iopub.status.idle": "2022-01-05T16:14:25.796697Z",
     "shell.execute_reply": "2022-01-05T16:14:25.796316Z"
    }
   },
   "outputs": [
    {
     "data": {
      "text/plain": [
       "4-element Vector{Float64}:\n",
       " -1.0\n",
       " -0.3333333333333333\n",
       "  0.3333333333333333\n",
       "  1.0"
      ]
     },
     "execution_count": 100,
     "metadata": {},
     "output_type": "execute_result"
    }
   ],
   "source": [
    "v = Vector(range(-1, 1; length=4)) "
   ]
  },
  {
   "cell_type": "code",
   "execution_count": 99,
   "metadata": {},
   "outputs": [
    {
     "data": {
      "text/plain": [
       "-1.0:0.6666666666666666:1.0"
      ]
     },
     "execution_count": 99,
     "metadata": {},
     "output_type": "execute_result"
    }
   ],
   "source": [
    "range(-1, 1; length=4) # output：最小数，等差的差，最大数 length代表数的个数，4个数，3等分"
   ]
  },
  {
   "cell_type": "markdown",
   "metadata": {},
   "source": [
    "Note that `Vector` is mutable but a range is not:"
   ]
  },
  {
   "cell_type": "code",
   "execution_count": 49,
   "metadata": {
    "execution": {
     "iopub.execute_input": "2022-01-05T16:14:25.798713Z",
     "iopub.status.busy": "2022-01-05T16:14:25.798141Z",
     "iopub.status.idle": "2022-01-05T16:14:25.850552Z",
     "shell.execute_reply": "2022-01-05T16:14:25.850108Z"
    }
   },
   "outputs": [
    {
     "ename": "LoadError",
     "evalue": "setindex! not defined for UnitRange{Int64}",
     "output_type": "error",
     "traceback": [
      "setindex! not defined for UnitRange{Int64}",
      "",
      "Stacktrace:",
      " [1] error(::String, ::Type)",
      "   @ Base ./error.jl:42",
      " [2] error_if_canonical_setindex(#unused#::IndexLinear, A::UnitRange{Int64}, #unused#::Int64)",
      "   @ Base ./abstractarray.jl:1323",
      " [3] setindex!(A::UnitRange{Int64}, v::Int64, I::Int64)",
      "   @ Base ./abstractarray.jl:1314",
      " [4] top-level scope",
      "   @ In[49]:2",
      " [5] eval",
      "   @ ./boot.jl:373 [inlined]",
      " [6] include_string(mapexpr::typeof(REPL.softscope), mod::Module, code::String, filename::String)",
      "   @ Base ./loading.jl:1196"
     ]
    }
   ],
   "source": [
    "r = 2:6\n",
    "r[2] = 3   # Not allowed  因为range很efficient 没有把 2，3，4，5，6展开"
   ]
  },
  {
   "cell_type": "code",
   "execution_count": 101,
   "metadata": {},
   "outputs": [
    {
     "data": {
      "text/plain": [
       "6"
      ]
     },
     "execution_count": 101,
     "metadata": {},
     "output_type": "execute_result"
    }
   ],
   "source": [
    "v[2] = 6 # vector mutable: vector可以用index换掉指代位置的element"
   ]
  },
  {
   "cell_type": "markdown",
   "metadata": {},
   "source": [
    "## 4. Types\n",
    "\n",
    "\n",
    "Julia has two different kinds of types: primitive types (like `Int64`, `Int32`, `UInt32` and `Char`) and composite types.\n",
    "Here is an example of an in-built composite type representing complex numbers, for example,\n",
    "$z = 1+2{\\rm i}$:"
   ]
  },
  {
   "cell_type": "code",
   "execution_count": 104,
   "metadata": {
    "execution": {
     "iopub.execute_input": "2022-01-05T16:14:25.852551Z",
     "iopub.status.busy": "2022-01-05T16:14:25.852059Z",
     "iopub.status.idle": "2022-01-05T16:14:25.864076Z",
     "shell.execute_reply": "2022-01-05T16:14:25.863635Z"
    }
   },
   "outputs": [
    {
     "data": {
      "text/plain": [
       "Complex{Int64}"
      ]
     },
     "execution_count": 104,
     "metadata": {},
     "output_type": "execute_result"
    }
   ],
   "source": [
    "z = 1 + 2im\n",
    "typeof(z)"
   ]
  },
  {
   "cell_type": "code",
   "execution_count": 102,
   "metadata": {},
   "outputs": [
    {
     "data": {
      "text/plain": [
       "ComplexF64 (alias for Complex{Float64})"
      ]
     },
     "execution_count": 102,
     "metadata": {},
     "output_type": "execute_result"
    }
   ],
   "source": [
    "typeof(1.5+2im)"
   ]
  },
  {
   "cell_type": "markdown",
   "metadata": {},
   "source": [
    "A complex number consists of two fields: a real part (denoted `re`)\n",
    "and an imaginary part (denoted `im`).\n",
    "Fields of a type can be accessed using the `.` notation:"
   ]
  },
  {
   "cell_type": "code",
   "execution_count": 106,
   "metadata": {
    "execution": {
     "iopub.execute_input": "2022-01-05T16:14:25.866039Z",
     "iopub.status.busy": "2022-01-05T16:14:25.865518Z",
     "iopub.status.idle": "2022-01-05T16:14:25.871547Z",
     "shell.execute_reply": "2022-01-05T16:14:25.871156Z"
    }
   },
   "outputs": [
    {
     "data": {
      "text/plain": [
       "(1, 2)"
      ]
     },
     "execution_count": 106,
     "metadata": {},
     "output_type": "execute_result"
    }
   ],
   "source": [
    "z.re, z.im"
   ]
  },
  {
   "cell_type": "code",
   "execution_count": 105,
   "metadata": {},
   "outputs": [
    {
     "data": {
      "text/plain": [
       "(1, 2)"
      ]
     },
     "execution_count": 105,
     "metadata": {},
     "output_type": "execute_result"
    }
   ],
   "source": [
    "real(z), imag(z)"
   ]
  },
  {
   "cell_type": "markdown",
   "metadata": {},
   "source": [
    "We can make our own types.  Let's make a type to represent complex numbers in the format\n",
    "$$z=r {\\rm exp}({\\rm i}\\theta)$$\n",
    "That is, we want to create a type with two fields: `r` and `θ`.\n",
    "This is done using the `struct` syntax,\n",
    "followed by a list of names for the fields,\n",
    "and finally the keyword `end`."
   ]
  },
  {
   "cell_type": "code",
   "execution_count": 107,
   "metadata": {
    "execution": {
     "iopub.execute_input": "2022-01-05T16:14:25.874231Z",
     "iopub.status.busy": "2022-01-05T16:14:25.873178Z",
     "iopub.status.idle": "2022-01-05T16:14:26.171625Z",
     "shell.execute_reply": "2022-01-05T16:14:26.171184Z"
    }
   },
   "outputs": [
    {
     "data": {
      "text/plain": [
       "RadialComplex(1, 0.1)"
      ]
     },
     "execution_count": 107,
     "metadata": {},
     "output_type": "execute_result"
    }
   ],
   "source": [
    "struct RadialComplex\n",
    "    r\n",
    "    θ\n",
    "end\n",
    "z = RadialComplex(1,0.1)"
   ]
  },
  {
   "cell_type": "markdown",
   "metadata": {},
   "source": [
    "We can access the fields using `.`:"
   ]
  },
  {
   "cell_type": "code",
   "execution_count": 108,
   "metadata": {
    "execution": {
     "iopub.execute_input": "2022-01-05T16:14:26.174477Z",
     "iopub.status.busy": "2022-01-05T16:14:26.173642Z",
     "iopub.status.idle": "2022-01-05T16:14:26.464249Z",
     "shell.execute_reply": "2022-01-05T16:14:26.463873Z"
    }
   },
   "outputs": [
    {
     "data": {
      "text/plain": [
       "(1, 0.1)"
      ]
     },
     "execution_count": 108,
     "metadata": {},
     "output_type": "execute_result"
    }
   ],
   "source": [
    "z.r, z.θ"
   ]
  },
  {
   "cell_type": "code",
   "execution_count": 109,
   "metadata": {},
   "outputs": [
    {
     "ename": "LoadError",
     "evalue": "setfield!: immutable struct of type RadialComplex cannot be changed",
     "output_type": "error",
     "traceback": [
      "setfield!: immutable struct of type RadialComplex cannot be changed",
      "",
      "Stacktrace:",
      " [1] setproperty!(x::RadialComplex, f::Symbol, v::Int64)",
      "   @ Base ./Base.jl:43",
      " [2] top-level scope",
      "   @ In[109]:1",
      " [3] eval",
      "   @ ./boot.jl:373 [inlined]",
      " [4] include_string(mapexpr::typeof(REPL.softscope), mod::Module, code::String, filename::String)",
      "   @ Base ./loading.jl:1196"
     ]
    }
   ],
   "source": [
    "z.r = 2 # immutable 不可以通过index指代来更改某个field参数"
   ]
  },
  {
   "cell_type": "markdown",
   "metadata": {},
   "source": [
    "Note that the fields are immutable: we can create\n",
    "a new `RadialComplex` but we cannot modify an existing one.\n",
    "To make a mutable type we use the command `mutable struct`:"
   ]
  },
  {
   "cell_type": "code",
   "execution_count": 54,
   "metadata": {
    "execution": {
     "iopub.execute_input": "2022-01-05T16:14:26.466488Z",
     "iopub.status.busy": "2022-01-05T16:14:26.465806Z",
     "iopub.status.idle": "2022-01-05T16:14:26.682564Z",
     "shell.execute_reply": "2022-01-05T16:14:26.682170Z"
    }
   },
   "outputs": [
    {
     "data": {
      "text/plain": [
       "MutableRadialComplex(2, 3)"
      ]
     },
     "execution_count": 54,
     "metadata": {},
     "output_type": "execute_result"
    }
   ],
   "source": [
    "mutable struct MutableRadialComplex\n",
    "    r\n",
    "    θ\n",
    "end\n",
    "\n",
    "z = MutableRadialComplex(1,2)\n",
    "z.r = 2\n",
    "z.θ = 3\n",
    "z"
   ]
  },
  {
   "cell_type": "markdown",
   "metadata": {},
   "source": [
    "### Abstract types\n",
    "\n",
    "Every type is a sub-type of an _abstract type_, which can never be instantiated on its own.\n",
    "For example, every integer and floating point number is a real number.  \n",
    "Therefore, there is an abstract type `Real`, which encapsulates many other types, \n",
    "including `Float64`, `Float32`, `Int64` and `Int32`.  \n",
    "\n",
    "We can test if type `T` is part of an abstract type `V` using the sytax `T <: V`:"
   ]
  },
  {
   "cell_type": "code",
   "execution_count": 55,
   "metadata": {
    "execution": {
     "iopub.execute_input": "2022-01-05T16:14:26.684473Z",
     "iopub.status.busy": "2022-01-05T16:14:26.683954Z",
     "iopub.status.idle": "2022-01-05T16:14:26.966869Z",
     "shell.execute_reply": "2022-01-05T16:14:26.966421Z"
    }
   },
   "outputs": [
    {
     "data": {
      "text/plain": [
       "(true, true, true)"
      ]
     },
     "execution_count": 55,
     "metadata": {},
     "output_type": "execute_result"
    }
   ],
   "source": [
    "Float64 <: Real, Float32 <: Real, Int64 <: Real"
   ]
  },
  {
   "cell_type": "markdown",
   "metadata": {},
   "source": [
    "Every type has one and only one super type只有一个supertype（比当前这个type上一个level的包含这个type的东西）, which is _always_ an abstract type.  \n",
    "The function `supertype` applied to a type returns its super type:"
   ]
  },
  {
   "cell_type": "code",
   "execution_count": 56,
   "metadata": {
    "execution": {
     "iopub.execute_input": "2022-01-05T16:14:26.968740Z",
     "iopub.status.busy": "2022-01-05T16:14:26.968155Z",
     "iopub.status.idle": "2022-01-05T16:14:26.972216Z",
     "shell.execute_reply": "2022-01-05T16:14:26.971710Z"
    }
   },
   "outputs": [
    {
     "data": {
      "text/plain": [
       "Signed"
      ]
     },
     "execution_count": 56,
     "metadata": {},
     "output_type": "execute_result"
    }
   ],
   "source": [
    "supertype(Int32)  # returns Signed, which represents all signed integers."
   ]
  },
  {
   "cell_type": "code",
   "execution_count": 110,
   "metadata": {},
   "outputs": [
    {
     "data": {
      "text/plain": [
       "Integer"
      ]
     },
     "execution_count": 110,
     "metadata": {},
     "output_type": "execute_result"
    }
   ],
   "source": [
    "supertype(Signed)"
   ]
  },
  {
   "cell_type": "code",
   "execution_count": 111,
   "metadata": {},
   "outputs": [
    {
     "data": {
      "text/plain": [
       "Real"
      ]
     },
     "execution_count": 111,
     "metadata": {},
     "output_type": "execute_result"
    }
   ],
   "source": [
    "supertype(Integer)"
   ]
  },
  {
   "cell_type": "code",
   "execution_count": 112,
   "metadata": {},
   "outputs": [
    {
     "data": {
      "text/plain": [
       "Number"
      ]
     },
     "execution_count": 112,
     "metadata": {},
     "output_type": "execute_result"
    }
   ],
   "source": [
    "supertype(Real)"
   ]
  },
  {
   "cell_type": "code",
   "execution_count": 113,
   "metadata": {},
   "outputs": [
    {
     "data": {
      "text/plain": [
       "Any"
      ]
     },
     "execution_count": 113,
     "metadata": {},
     "output_type": "execute_result"
    }
   ],
   "source": [
    "supertype(Number) # Any 就是最大的supertype了 "
   ]
  },
  {
   "cell_type": "code",
   "execution_count": 57,
   "metadata": {
    "execution": {
     "iopub.execute_input": "2022-01-05T16:14:26.974575Z",
     "iopub.status.busy": "2022-01-05T16:14:26.973911Z",
     "iopub.status.idle": "2022-01-05T16:14:26.976323Z",
     "shell.execute_reply": "2022-01-05T16:14:26.975925Z"
    }
   },
   "outputs": [
    {
     "data": {
      "text/plain": [
       "AbstractFloat"
      ]
     },
     "execution_count": 57,
     "metadata": {},
     "output_type": "execute_result"
    }
   ],
   "source": [
    "supertype(Float32) # returns `AbstractFloat`, which is a subtype of `Real`"
   ]
  },
  {
   "cell_type": "code",
   "execution_count": 142,
   "metadata": {},
   "outputs": [
    {
     "data": {
      "text/plain": [
       "AbstractVector{Float64} (alias for AbstractArray{Float64, 1})"
      ]
     },
     "execution_count": 142,
     "metadata": {},
     "output_type": "execute_result"
    }
   ],
   "source": [
    "supertype(supertype(Vector{Float64}))"
   ]
  },
  {
   "cell_type": "markdown",
   "metadata": {},
   "source": [
    "An abstract type also has a super type:"
   ]
  },
  {
   "cell_type": "code",
   "execution_count": 58,
   "metadata": {
    "execution": {
     "iopub.execute_input": "2022-01-05T16:14:26.978216Z",
     "iopub.status.busy": "2022-01-05T16:14:26.977585Z",
     "iopub.status.idle": "2022-01-05T16:14:26.979975Z",
     "shell.execute_reply": "2022-01-05T16:14:26.979557Z"
    }
   },
   "outputs": [
    {
     "data": {
      "text/plain": [
       "Number"
      ]
     },
     "execution_count": 58,
     "metadata": {},
     "output_type": "execute_result"
    }
   ],
   "source": [
    "supertype(Real)"
   ]
  },
  {
   "cell_type": "markdown",
   "metadata": {},
   "source": [
    "### Type annotation and templating\n",
    "\n",
    "The types `RadialComplex` and `MutableRadialComplex` \n",
    "won't be efficient as we have not told the compiler\n",
    "the type of `r` and `θ`. For the purposes of this module,\n",
    "this is fine as we are not focussing on high performance\n",
    "computing. However, it may be of interest how to rectify this.\n",
    "\n",
    "\n",
    "We can impose a type on the field name with `::`:"
   ]
  },
  {
   "cell_type": "code",
   "execution_count": 59,
   "metadata": {
    "execution": {
     "iopub.execute_input": "2022-01-05T16:14:26.981754Z",
     "iopub.status.busy": "2022-01-05T16:14:26.981210Z",
     "iopub.status.idle": "2022-01-05T16:14:27.280258Z",
     "shell.execute_reply": "2022-01-05T16:14:27.279805Z"
    }
   },
   "outputs": [
    {
     "data": {
      "text/plain": [
       "(1.0, 0.1)"
      ]
     },
     "execution_count": 59,
     "metadata": {},
     "output_type": "execute_result"
    }
   ],
   "source": [
    "struct FastRadialComplex\n",
    "    r::Float64\n",
    "    θ::Float64\n",
    "end\n",
    "z = FastRadialComplex(1,0.1)\n",
    "z.r, z.θ"
   ]
  },
  {
   "cell_type": "markdown",
   "metadata": {},
   "source": [
    "In this case `z` is stored using precisely 128-bits.\n",
    "\n",
    "Sometimes we want to support multiple types.\n",
    "For example, we may wish to support 32-bit\n",
    "floats. This can be done as follows:"
   ]
  },
  {
   "cell_type": "code",
   "execution_count": 124,
   "metadata": {
    "execution": {
     "iopub.execute_input": "2022-01-05T16:14:27.282330Z",
     "iopub.status.busy": "2022-01-05T16:14:27.281751Z",
     "iopub.status.idle": "2022-01-05T16:14:27.515618Z",
     "shell.execute_reply": "2022-01-05T16:14:27.515192Z"
    }
   },
   "outputs": [
    {
     "data": {
      "text/plain": [
       "TemplatedRadialComplex{Float32}(1.0f0, 0.1f0)"
      ]
     },
     "execution_count": 124,
     "metadata": {},
     "output_type": "execute_result"
    }
   ],
   "source": [
    "struct TemplatedRadialComplex{T}\n",
    "    r::T\n",
    "    θ::T\n",
    "end\n",
    "z = TemplatedRadialComplex(1f0,0.1f0) # f0 creates a `Float32` # rθ两个field的系数一定要相同 type 因为struct中定义了"
   ]
  },
  {
   "cell_type": "code",
   "execution_count": 116,
   "metadata": {},
   "outputs": [
    {
     "ename": "LoadError",
     "evalue": "UndefVarError: TemplatedRadialComplex not defined",
     "output_type": "error",
     "traceback": [
      "UndefVarError: TemplatedRadialComplex not defined",
      "",
      "Stacktrace:",
      " [1] top-level scope",
      "   @ In[116]:1",
      " [2] eval",
      "   @ ./boot.jl:373 [inlined]",
      " [3] include_string(mapexpr::typeof(REPL.softscope), mod::Module, code::String, filename::String)",
      "   @ Base ./loading.jl:1196"
     ]
    }
   ],
   "source": [
    "z = TemplatedRadialComplex(1, 2.3) # 不同type就会报错 和定义不符合"
   ]
  },
  {
   "cell_type": "markdown",
   "metadata": {},
   "source": [
    "This is stored in precisely 64-bits.\n",
    "\n",
    "\n",
    "### Relationship with C structs, heap and stack (advanced)\n",
    "\n",
    "For those familiar with C, a `struct` in Julia\n",
    "whose fields are primitive types or composite\n",
    "types built from primitive types,\n",
    "is exactly equivalent to a `struct` C,\n",
    "and can in fact be passed to C functions without\n",
    "any performance cost. Behind the scenes Julia uses the\n",
    "LLVM compiler and so C and Julia can be freely mixed.\n",
    "\n",
    "Another thing to note is that there are two types of\n",
    "memory: the [stack](https://en.wikipedia.org/wiki/Stack-based_memory_allocation)\n",
    "and the [heap](https://en.wikipedia.org/wiki/Memory_management). The stack has\n",
    "fixed memory length and is much\n",
    "faster as it avoids dynamic allocation and deallocation of memory.\n",
    "So an instance of a type with a known fixed length\n",
    "(like `FastRadialComplex`) will\n",
    "typically be in the stack and be much faster than\n",
    "an instance of a type with unknown or variable length\n",
    "(like `RadialComplex` or `Vector`), which will be on the heap.\n",
    "\n",
    "For stack-allocated instances, the compiler may even go a step further\n",
    "and compile a function so\n",
    "that an instance of a type only lives on the cache or even in registers.\n",
    "\n",
    "## 5. Loops and branches\n",
    "\n",
    "For loops work essentially the same as in Python. The one\n",
    "caveat is to remember we are using 1-based indexing, e.g.,\n",
    "`1:5` is a range consisting of `[1,2,3,4,5]`:"
   ]
  },
  {
   "cell_type": "code",
   "execution_count": 129,
   "metadata": {
    "execution": {
     "iopub.execute_input": "2022-01-05T16:14:27.517660Z",
     "iopub.status.busy": "2022-01-05T16:14:27.517131Z",
     "iopub.status.idle": "2022-01-05T16:14:27.551738Z",
     "shell.execute_reply": "2022-01-05T16:14:27.551388Z"
    }
   },
   "outputs": [
    {
     "name": "stdout",
     "output_type": "stream",
     "text": [
      "1\n",
      "4\n",
      "9\n",
      "16\n",
      "25\n"
     ]
    }
   ],
   "source": [
    "for k = 1:5\n",
    "    println(k^2) \n",
    "end"
   ]
  },
  {
   "cell_type": "markdown",
   "metadata": {},
   "source": [
    "While loops look like"
   ]
  },
  {
   "cell_type": "code",
   "execution_count": 62,
   "metadata": {
    "execution": {
     "iopub.execute_input": "2022-01-05T16:14:27.553513Z",
     "iopub.status.busy": "2022-01-05T16:14:27.553026Z",
     "iopub.status.idle": "2022-01-05T16:14:27.562622Z",
     "shell.execute_reply": "2022-01-05T16:14:27.561873Z"
    }
   },
   "outputs": [
    {
     "name": "stdout",
     "output_type": "stream",
     "text": [
      "x is 1 which is less than 5, incrementing!\n",
      "x is 2 which is less than 5, incrementing!\n",
      "x is 3 which is less than 5, incrementing!\n",
      "x is 4 which is less than 5, incrementing!\n"
     ]
    },
    {
     "data": {
      "text/plain": [
       "5"
      ]
     },
     "execution_count": 62,
     "metadata": {},
     "output_type": "execute_result"
    }
   ],
   "source": [
    "x = 1\n",
    "while x < 5\n",
    "    println(\"x is $x which is less than 5, incrementing!\") # 用 $x表示x是会随function变的 代入变量x再string中\n",
    "    x += 1\n",
    "end\n",
    "x"
   ]
  },
  {
   "cell_type": "markdown",
   "metadata": {},
   "source": [
    "If-elseif-else statements look like:"
   ]
  },
  {
   "cell_type": "code",
   "execution_count": 63,
   "metadata": {
    "execution": {
     "iopub.execute_input": "2022-01-05T16:14:27.564644Z",
     "iopub.status.busy": "2022-01-05T16:14:27.564132Z",
     "iopub.status.idle": "2022-01-05T16:14:27.569140Z",
     "shell.execute_reply": "2022-01-05T16:14:27.568718Z"
    }
   },
   "outputs": [
    {
     "name": "stdout",
     "output_type": "stream",
     "text": [
      "it's odd\n"
     ]
    }
   ],
   "source": [
    "x = 5\n",
    "if isodd(x)           # 不用写==True\n",
    "    println(\"it's odd\")\n",
    "elseif x == 2\n",
    "    println(\"it's 2\")\n",
    "else\n",
    "    println(\"it's even\")\n",
    "end"
   ]
  },
  {
   "cell_type": "markdown",
   "metadata": {},
   "source": [
    "## 6. Functions\n",
    "\n",
    "Functions are created in a number of ways.\n",
    "The most standard way is using the keyword `function`, \n",
    "followed by a name for the function, \n",
    "and in parentheses a list of arguments.  \n",
    "Let's make a function that takes in a \n",
    "single number $x$ and returns $x^2$."
   ]
  },
  {
   "cell_type": "code",
   "execution_count": 132,
   "metadata": {
    "execution": {
     "iopub.execute_input": "2022-01-05T16:14:27.571281Z",
     "iopub.status.busy": "2022-01-05T16:14:27.570771Z",
     "iopub.status.idle": "2022-01-05T16:14:27.576227Z",
     "shell.execute_reply": "2022-01-05T16:14:27.575846Z"
    }
   },
   "outputs": [
    {
     "data": {
      "text/plain": [
       "(4, 9)"
      ]
     },
     "execution_count": 132,
     "metadata": {},
     "output_type": "execute_result"
    }
   ],
   "source": [
    "function sq(x)\n",
    "    y = x^2\n",
    "    y\n",
    "end\n",
    "sq(2), sq(3)"
   ]
  },
  {
   "cell_type": "markdown",
   "metadata": {},
   "source": [
    "There is also a convenient syntax for defining functions on\n",
    "one line, e.g., we can also write"
   ]
  },
  {
   "cell_type": "code",
   "execution_count": 65,
   "metadata": {
    "execution": {
     "iopub.execute_input": "2022-01-05T16:14:27.578132Z",
     "iopub.status.busy": "2022-01-05T16:14:27.577629Z",
     "iopub.status.idle": "2022-01-05T16:14:27.777644Z",
     "shell.execute_reply": "2022-01-05T16:14:27.777227Z"
    }
   },
   "outputs": [
    {
     "data": {
      "text/plain": [
       "sq (generic function with 1 method)"
      ]
     },
     "execution_count": 65,
     "metadata": {},
     "output_type": "execute_result"
    }
   ],
   "source": [
    "sq(x) = x^2"
   ]
  },
  {
   "cell_type": "markdown",
   "metadata": {},
   "source": [
    "Multiple arguments to the function can be included with `,`.  \n",
    "Here's a function that takes in 3 arguments and returns the average.  \n",
    "(We write it on 3 lines only to show that functions can take multiple lines.)"
   ]
  },
  {
   "cell_type": "code",
   "execution_count": 66,
   "metadata": {
    "execution": {
     "iopub.execute_input": "2022-01-05T16:14:27.779954Z",
     "iopub.status.busy": "2022-01-05T16:14:27.779415Z",
     "iopub.status.idle": "2022-01-05T16:14:27.785481Z",
     "shell.execute_reply": "2022-01-05T16:14:27.785038Z"
    }
   },
   "outputs": [
    {
     "data": {
      "text/plain": [
       "2.0"
      ]
     },
     "execution_count": 66,
     "metadata": {},
     "output_type": "execute_result"
    }
   ],
   "source": [
    "function av(x, y, z)\n",
    "    ret = x + y\n",
    "    ret = ret + z\n",
    "    ret/3\n",
    "end\n",
    "av(1, 2, 3)"
   ]
  },
  {
   "cell_type": "markdown",
   "metadata": {},
   "source": [
    "Variables live in different scopes.  In the previous example, `x`, `y`, `z` and `ret` are _local variables_: \n",
    "they only exist inside of `av`.  \n",
    "So this means `x` and `z` are _not_ the same as our complex number `x` and `z` defined above.\n",
    "\n",
    "**Warning**: if you reference variables not defined inside the function, they will use the outer scope definition.  \n",
    "The following example shows that if we mistype the first argument as `xx`, \n",
    "then it takes on the outer scope definition `x`, which is a complex number:"
   ]
  },
  {
   "cell_type": "code",
   "execution_count": 136,
   "metadata": {
    "execution": {
     "iopub.execute_input": "2022-01-05T16:14:27.787741Z",
     "iopub.status.busy": "2022-01-05T16:14:27.787121Z",
     "iopub.status.idle": "2022-01-05T16:14:27.867214Z",
     "shell.execute_reply": "2022-01-05T16:14:27.866782Z"
    }
   },
   "outputs": [
    {
     "data": {
      "text/plain": [
       "av2 (generic function with 1 method)"
      ]
     },
     "execution_count": 136,
     "metadata": {},
     "output_type": "execute_result"
    }
   ],
   "source": [
    "function av2(xx, y, z)\n",
    "    (x + y + z)/3\n",
    "end  "
   ]
  },
  {
   "cell_type": "code",
   "execution_count": 134,
   "metadata": {},
   "outputs": [
    {
     "data": {
      "text/plain": [
       "4"
      ]
     },
     "execution_count": 134,
     "metadata": {},
     "output_type": "execute_result"
    }
   ],
   "source": [
    "x=4 "
   ]
  },
  {
   "cell_type": "code",
   "execution_count": 137,
   "metadata": {},
   "outputs": [
    {
     "data": {
      "text/plain": [
       "3.0"
      ]
     },
     "execution_count": 137,
     "metadata": {},
     "output_type": "execute_result"
    }
   ],
   "source": [
    "av2(1,2,3) # 因为av2定义的时候notation搞错了，所以用的是 global value x，即function之外，这个file里的x数值"
   ]
  },
  {
   "cell_type": "markdown",
   "metadata": {},
   "source": [
    "You should almost never use this feature!!  \n",
    "We should ideally be able to predict the output of a function from knowing just the inputs.\n",
    "\n",
    "**Example**\n",
    "Let's create a function that calculates the average of the entries of a vector."
   ]
  },
  {
   "cell_type": "code",
   "execution_count": 68,
   "metadata": {
    "execution": {
     "iopub.execute_input": "2022-01-05T16:14:27.869147Z",
     "iopub.status.busy": "2022-01-05T16:14:27.868630Z",
     "iopub.status.idle": "2022-01-05T16:14:27.881413Z",
     "shell.execute_reply": "2022-01-05T16:14:27.880913Z"
    }
   },
   "outputs": [
    {
     "data": {
      "text/plain": [
       "3.5"
      ]
     },
     "execution_count": 68,
     "metadata": {},
     "output_type": "execute_result"
    }
   ],
   "source": [
    "function vecaverage(v)\n",
    "    ret=0\n",
    "    for k = 1:length(v)\n",
    "        ret = ret + v[k]\n",
    "    end\n",
    "    ret/length(v)\n",
    "end\n",
    "vecaverage([1,5,2,3,8,2])"
   ]
  },
  {
   "cell_type": "markdown",
   "metadata": {},
   "source": [
    "Julia has an inbuilt `sum` command that we can use to check our code:"
   ]
  },
  {
   "cell_type": "code",
   "execution_count": 69,
   "metadata": {
    "execution": {
     "iopub.execute_input": "2022-01-05T16:14:27.883264Z",
     "iopub.status.busy": "2022-01-05T16:14:27.882764Z",
     "iopub.status.idle": "2022-01-05T16:14:27.892883Z",
     "shell.execute_reply": "2022-01-05T16:14:27.892208Z"
    }
   },
   "outputs": [
    {
     "data": {
      "text/plain": [
       "3.5"
      ]
     },
     "execution_count": 69,
     "metadata": {},
     "output_type": "execute_result"
    }
   ],
   "source": [
    "sum([1,5,2,3,8,2])/6 "
   ]
  },
  {
   "cell_type": "markdown",
   "metadata": {},
   "source": [
    "### Functions with type signatures\n",
    "\n",
    "functions can be defined only for specific types using `::` after the variable name.\n",
    "The same function name can be used with different type signatures.  \n",
    "\n",
    "The following defines a function `mydot` that calculates the dot product, with a definition changing\n",
    "depending on whether it is an `Integer` or a `Vector`.  \n",
    "Note that `Integer` is an abstract type that includes all integer types:\n",
    "`mydot` is defined for pairs of `Int64`'s, `Int32`'s, etc."
   ]
  },
  {
   "cell_type": "code",
   "execution_count": 70,
   "metadata": {
    "execution": {
     "iopub.execute_input": "2022-01-05T16:14:27.894933Z",
     "iopub.status.busy": "2022-01-05T16:14:27.894438Z",
     "iopub.status.idle": "2022-01-05T16:14:27.900184Z",
     "shell.execute_reply": "2022-01-05T16:14:27.899804Z"
    }
   },
   "outputs": [
    {
     "data": {
      "text/plain": [
       "30"
      ]
     },
     "execution_count": 70,
     "metadata": {},
     "output_type": "execute_result"
    }
   ],
   "source": [
    "function mydot(a::Integer, b::Integer) # 定义一个combine number和vector乘法的product叫mydot  不同type分开写function，function名字一样即可\n",
    "    a*b\n",
    "end\n",
    "\n",
    "function mydot(a::AbstractVector, b::AbstractVector)\n",
    "    # we assume length(a)  == length(b)\n",
    "    ret = 0\n",
    "    for k = 1:length(a)\n",
    "        ret = ret + a[k]*b[k]\n",
    "    end\n",
    "    ret\n",
    "end\n",
    "\n",
    "mydot(5, 6)  # calls the first definition"
   ]
  },
  {
   "cell_type": "code",
   "execution_count": 71,
   "metadata": {
    "execution": {
     "iopub.execute_input": "2022-01-05T16:14:27.901986Z",
     "iopub.status.busy": "2022-01-05T16:14:27.901493Z",
     "iopub.status.idle": "2022-01-05T16:14:28.119252Z",
     "shell.execute_reply": "2022-01-05T16:14:28.118770Z"
    }
   },
   "outputs": [
    {
     "data": {
      "text/plain": [
       "30"
      ]
     },
     "execution_count": 71,
     "metadata": {},
     "output_type": "execute_result"
    }
   ],
   "source": [
    "mydot(Int8(5), Int8(6))   # also calls the first definition"
   ]
  },
  {
   "cell_type": "code",
   "execution_count": 72,
   "metadata": {
    "execution": {
     "iopub.execute_input": "2022-01-05T16:14:28.121084Z",
     "iopub.status.busy": "2022-01-05T16:14:28.120571Z",
     "iopub.status.idle": "2022-01-05T16:14:28.132506Z",
     "shell.execute_reply": "2022-01-05T16:14:28.132047Z"
    }
   },
   "outputs": [
    {
     "data": {
      "text/plain": [
       "32"
      ]
     },
     "execution_count": 72,
     "metadata": {},
     "output_type": "execute_result"
    }
   ],
   "source": [
    "mydot(1:3, [4,5,6])    # calls the second definition 1:3也算是一种vector"
   ]
  },
  {
   "cell_type": "code",
   "execution_count": 150,
   "metadata": {},
   "outputs": [
    {
     "data": {
      "text/plain": [
       "32"
      ]
     },
     "execution_count": 150,
     "metadata": {},
     "output_type": "execute_result"
    }
   ],
   "source": [
    "dot(1:3,[4,5,6])  # Julia built-in function 要在开头加上using LinearAlgebra"
   ]
  },
  {
   "cell_type": "markdown",
   "metadata": {},
   "source": [
    "We should actually check that the lengths of `a` and `b` match.  \n",
    "Let's rewrite `mydot` using an `if`, `else` statement.  The following code only does \n",
    "the for loop if the length of a is equal to the length of b, otherwise, it throws an error.\n",
    "\n",
    "If we name something with the exact same signature (name, and argument types),\n",
    "previous definitions get overriden. Here we correct the implementation of `mydot`\n",
    "to throw an error if the lengths of the inputs do not match:"
   ]
  },
  {
   "cell_type": "code",
   "execution_count": 73,
   "metadata": {
    "execution": {
     "iopub.execute_input": "2022-01-05T16:14:28.134481Z",
     "iopub.status.busy": "2022-01-05T16:14:28.133931Z",
     "iopub.status.idle": "2022-01-05T16:14:28.158703Z",
     "shell.execute_reply": "2022-01-05T16:14:28.157969Z"
    }
   },
   "outputs": [
    {
     "ename": "LoadError",
     "evalue": "arguments have different lengths",
     "output_type": "error",
     "traceback": [
      "arguments have different lengths",
      "",
      "Stacktrace:",
      " [1] error(s::String)",
      "   @ Base ./error.jl:33",
      " [2] mydot(a::Vector{Int64}, b::Vector{Int64})",
      "   @ Main ./In[73]:8",
      " [3] top-level scope",
      "   @ In[73]:12",
      " [4] eval",
      "   @ ./boot.jl:373 [inlined]",
      " [5] include_string(mapexpr::typeof(REPL.softscope), mod::Module, code::String, filename::String)",
      "   @ Base ./loading.jl:1196"
     ]
    }
   ],
   "source": [
    "function mydot(a::AbstractVector, b::AbstractVector)\n",
    "    ret=0    \n",
    "    if length(a) == length(b)\n",
    "        for k = 1:length(a)\n",
    "            ret = ret + a[k]*b[k]\n",
    "        end\n",
    "    else\n",
    "        error(\"arguments have different lengths\") \n",
    "    end\n",
    "    ret    \n",
    "end\n",
    "mydot([1,2,3], [5,6,7,8])"
   ]
  },
  {
   "cell_type": "markdown",
   "metadata": {},
   "source": [
    "### Anonymous (lambda) functions\n",
    "\n",
    "Just like Python it is possible to make anonymous functions,\n",
    "with two variants on syntax:"
   ]
  },
  {
   "cell_type": "code",
   "execution_count": 159,
   "metadata": {
    "execution": {
     "iopub.execute_input": "2022-01-05T16:14:28.161212Z",
     "iopub.status.busy": "2022-01-05T16:14:28.160701Z",
     "iopub.status.idle": "2022-01-05T16:14:28.247180Z",
     "shell.execute_reply": "2022-01-05T16:14:28.246772Z"
    }
   },
   "outputs": [
    {
     "data": {
      "text/plain": [
       "#31 (generic function with 1 method)"
      ]
     },
     "execution_count": 159,
     "metadata": {},
     "output_type": "execute_result"
    }
   ],
   "source": [
    "f = x -> x^2"
   ]
  },
  {
   "cell_type": "code",
   "execution_count": 161,
   "metadata": {},
   "outputs": [
    {
     "data": {
      "text/plain": [
       "4"
      ]
     },
     "execution_count": 161,
     "metadata": {},
     "output_type": "execute_result"
    }
   ],
   "source": [
    "f(2)"
   ]
  },
  {
   "cell_type": "code",
   "execution_count": null,
   "metadata": {},
   "outputs": [],
   "source": [
    "g = function(x)\n",
    "    x^2\n",
    "end"
   ]
  },
  {
   "cell_type": "code",
   "execution_count": 162,
   "metadata": {},
   "outputs": [
    {
     "data": {
      "text/plain": [
       "9"
      ]
     },
     "execution_count": 162,
     "metadata": {},
     "output_type": "execute_result"
    }
   ],
   "source": [
    "g(3)"
   ]
  },
  {
   "cell_type": "markdown",
   "metadata": {},
   "source": [
    "There is not much difference between named and anonymous functions,\n",
    "both are compiled in the same manner. One can essentially think of\n",
    "named functions as \"global constant anonymous functions\".\n",
    "\n",
    "### Tuples\n",
    "\n",
    "`Tuples` are similar to vectors but written with the notation `(x,y,z)` instead of `[x,y,z]`. \n",
    "They allow the storage of _different types_.  For example:"
   ]
  },
  {
   "cell_type": "code",
   "execution_count": 163,
   "metadata": {
    "execution": {
     "iopub.execute_input": "2022-01-05T16:14:28.249107Z",
     "iopub.status.busy": "2022-01-05T16:14:28.248583Z",
     "iopub.status.idle": "2022-01-05T16:14:28.546586Z",
     "shell.execute_reply": "2022-01-05T16:14:28.546209Z"
    }
   },
   "outputs": [
    {
     "data": {
      "text/plain": [
       "(1, 2.0, \"hi\")"
      ]
     },
     "execution_count": 163,
     "metadata": {},
     "output_type": "execute_result"
    }
   ],
   "source": [
    "t = (1,2.0,\"hi\") # different type 放在一起"
   ]
  },
  {
   "cell_type": "code",
   "execution_count": 165,
   "metadata": {},
   "outputs": [
    {
     "ename": "LoadError",
     "evalue": "MethodError: no method matching setindex!(::Tuple{Int64, Float64, String}, ::Int64, ::Int64)",
     "output_type": "error",
     "traceback": [
      "MethodError: no method matching setindex!(::Tuple{Int64, Float64, String}, ::Int64, ::Int64)",
      "",
      "Stacktrace:",
      " [1] top-level scope",
      "   @ In[165]:2",
      " [2] eval",
      "   @ ./boot.jl:373 [inlined]",
      " [3] include_string(mapexpr::typeof(REPL.softscope), mod::Module, code::String, filename::String)",
      "   @ Base ./loading.jl:1196"
     ]
    }
   ],
   "source": [
    "# immutable\n",
    "t[1]=2"
   ]
  },
  {
   "cell_type": "markdown",
   "metadata": {},
   "source": [
    "On the surface, this is very similar to a `Vector{Any}`:"
   ]
  },
  {
   "cell_type": "code",
   "execution_count": 164,
   "metadata": {
    "execution": {
     "iopub.execute_input": "2022-01-05T16:14:28.548481Z",
     "iopub.status.busy": "2022-01-05T16:14:28.547977Z",
     "iopub.status.idle": "2022-01-05T16:14:28.578145Z",
     "shell.execute_reply": "2022-01-05T16:14:28.577740Z"
    }
   },
   "outputs": [
    {
     "data": {
      "text/plain": [
       "3-element Vector{Any}:\n",
       " 1\n",
       " 2.0\n",
       "  \"hi\""
      ]
     },
     "execution_count": 164,
     "metadata": {},
     "output_type": "execute_result"
    }
   ],
   "source": [
    "v=[1,2.0,\"hi\"]"
   ]
  },
  {
   "cell_type": "markdown",
   "metadata": {},
   "source": [
    "The main difference is that a `Tuple` knows the type of its arguments:"
   ]
  },
  {
   "cell_type": "code",
   "execution_count": 77,
   "metadata": {
    "execution": {
     "iopub.execute_input": "2022-01-05T16:14:28.580355Z",
     "iopub.status.busy": "2022-01-05T16:14:28.579765Z",
     "iopub.status.idle": "2022-01-05T16:14:28.582301Z",
     "shell.execute_reply": "2022-01-05T16:14:28.581861Z"
    }
   },
   "outputs": [
    {
     "data": {
      "text/plain": [
       "Tuple{Int64, Float64, String}"
      ]
     },
     "execution_count": 77,
     "metadata": {},
     "output_type": "execute_result"
    }
   ],
   "source": [
    "typeof(t)"
   ]
  },
  {
   "cell_type": "markdown",
   "metadata": {},
   "source": [
    "The main benefit of tuples for us is that they provide a convenient\n",
    "way to return multiple arguments from a function. \n",
    "For example, the following returns both `cos(x)` and `x^2`\n",
    "from a single function:"
   ]
  },
  {
   "cell_type": "code",
   "execution_count": 78,
   "metadata": {
    "execution": {
     "iopub.execute_input": "2022-01-05T16:14:28.584046Z",
     "iopub.status.busy": "2022-01-05T16:14:28.583547Z",
     "iopub.status.idle": "2022-01-05T16:14:28.878038Z",
     "shell.execute_reply": "2022-01-05T16:14:28.877466Z"
    }
   },
   "outputs": [
    {
     "data": {
      "text/plain": [
       "(0.28366218546322625, 25)"
      ]
     },
     "execution_count": 78,
     "metadata": {},
     "output_type": "execute_result"
    }
   ],
   "source": [
    "function mytuplereturn(x)\n",
    "    (cos(x), x^2)\n",
    "end\n",
    "mytuplereturn(5)"
   ]
  },
  {
   "cell_type": "markdown",
   "metadata": {},
   "source": [
    "We can also employ the convenient syntax to create two variables at once:"
   ]
  },
  {
   "cell_type": "code",
   "execution_count": 79,
   "metadata": {
    "execution": {
     "iopub.execute_input": "2022-01-05T16:14:28.880228Z",
     "iopub.status.busy": "2022-01-05T16:14:28.879699Z",
     "iopub.status.idle": "2022-01-05T16:14:28.889726Z",
     "shell.execute_reply": "2022-01-05T16:14:28.889349Z"
    }
   },
   "outputs": [
    {
     "data": {
      "text/plain": [
       "(0.28366218546322625, 25)"
      ]
     },
     "execution_count": 79,
     "metadata": {},
     "output_type": "execute_result"
    }
   ],
   "source": [
    "x,y = mytuplereturn(5)"
   ]
  },
  {
   "cell_type": "markdown",
   "metadata": {},
   "source": [
    "## Modules, Packages, and Plotting\n",
    "\n",
    "Julia, like Python, has modules and packages.\n",
    "For example to load support for linear algebra functionality\n",
    "like `norm` and `det`, we need to load the `LinearAlgebra` module:\n",
    "\n",
    "`norm` norm of vector\n",
    "\n",
    "`det`  det of matrix\n",
    "\n",
    "`eigvals` eigenvalues of matrix\n"
   ]
  },
  {
   "cell_type": "code",
   "execution_count": 168,
   "metadata": {
    "execution": {
     "iopub.execute_input": "2022-01-05T16:14:28.891795Z",
     "iopub.status.busy": "2022-01-05T16:14:28.891219Z",
     "iopub.status.idle": "2022-01-05T16:14:29.177580Z",
     "shell.execute_reply": "2022-01-05T16:14:29.177157Z"
    }
   },
   "outputs": [
    {
     "data": {
      "text/plain": [
       "(3.7416573867739413, -2.0, [-0.3722813232690143, 5.372281323269014])"
      ]
     },
     "execution_count": 168,
     "metadata": {},
     "output_type": "execute_result"
    }
   ],
   "source": [
    "using LinearAlgebra\n",
    "norm([1,2,3]), det([1 2; 3 4]) "
   ]
  },
  {
   "cell_type": "code",
   "execution_count": 169,
   "metadata": {},
   "outputs": [
    {
     "data": {
      "text/plain": [
       "2-element Vector{Float64}:\n",
       " -0.3722813232690143\n",
       "  5.372281323269014"
      ]
     },
     "execution_count": 169,
     "metadata": {},
     "output_type": "execute_result"
    }
   ],
   "source": [
    "eigvals([1 2; \n",
    "         3 4])"
   ]
  },
  {
   "cell_type": "markdown",
   "metadata": {},
   "source": [
    "It is fairly straightword to create ones own modules and packages, however,\n",
    "we will not need modules in this....module.\n",
    "\n",
    "### Plotting\n",
    "\n",
    "Some important functionality such as plotting requires non-built in\n",
    "packages. There are many packages such as [PyPlot.jl](https://github.com/JuliaPy/PyPlot.jl),\n",
    "which wraps Python's [matplotlib](https://matplotlib.org) and\n",
    "[Makie.jl](https://github.com/JuliaPlots/Makie.jl), which is a state-of-the-art\n",
    "GPU based 3D plotting package. We will use [Plots.jl](https://github.com/JuliaPlots/Plots.jl),\n",
    "which is an umbrella package that supports different backends.\n",
    "\n",
    "For example, we can plot a simple function as follows:"
   ]
  },
  {
   "cell_type": "code",
   "execution_count": 172,
   "metadata": {
    "execution": {
     "iopub.execute_input": "2022-01-05T16:14:29.179755Z",
     "iopub.status.busy": "2022-01-05T16:14:29.179182Z",
     "iopub.status.idle": "2022-01-05T16:14:41.425412Z",
     "shell.execute_reply": "2022-01-05T16:14:41.423519Z"
    }
   },
   "outputs": [
    {
     "data": {
      "image/svg+xml": [
       "<?xml version=\"1.0\" encoding=\"utf-8\"?>\n",
       "<svg xmlns=\"http://www.w3.org/2000/svg\" xmlns:xlink=\"http://www.w3.org/1999/xlink\" width=\"600\" height=\"400\" viewBox=\"0 0 2400 1600\">\n",
       "<defs>\n",
       "  <clipPath id=\"clip860\">\n",
       "    <rect x=\"0\" y=\"0\" width=\"2400\" height=\"1600\"/>\n",
       "  </clipPath>\n",
       "</defs>\n",
       "<path clip-path=\"url(#clip860)\" d=\"\n",
       "M0 1600 L2400 1600 L2400 0 L0 0  Z\n",
       "  \" fill=\"#ffffff\" fill-rule=\"evenodd\" fill-opacity=\"1\"/>\n",
       "<defs>\n",
       "  <clipPath id=\"clip861\">\n",
       "    <rect x=\"480\" y=\"0\" width=\"1681\" height=\"1600\"/>\n",
       "  </clipPath>\n",
       "</defs>\n",
       "<path clip-path=\"url(#clip860)\" d=\"\n",
       "M147.478 1486.45 L2352.76 1486.45 L2352.76 47.2441 L147.478 47.2441  Z\n",
       "  \" fill=\"#ffffff\" fill-rule=\"evenodd\" fill-opacity=\"1\"/>\n",
       "<defs>\n",
       "  <clipPath id=\"clip862\">\n",
       "    <rect x=\"147\" y=\"47\" width=\"2206\" height=\"1440\"/>\n",
       "  </clipPath>\n",
       "</defs>\n",
       "<polyline clip-path=\"url(#clip862)\" style=\"stroke:#000000; stroke-linecap:butt; stroke-linejoin:round; stroke-width:2; stroke-opacity:0.1; fill:none\" points=\"\n",
       "  256.775,1486.45 256.775,47.2441 \n",
       "  \"/>\n",
       "<polyline clip-path=\"url(#clip862)\" style=\"stroke:#000000; stroke-linecap:butt; stroke-linejoin:round; stroke-width:2; stroke-opacity:0.1; fill:none\" points=\"\n",
       "  587.889,1486.45 587.889,47.2441 \n",
       "  \"/>\n",
       "<polyline clip-path=\"url(#clip862)\" style=\"stroke:#000000; stroke-linecap:butt; stroke-linejoin:round; stroke-width:2; stroke-opacity:0.1; fill:none\" points=\"\n",
       "  919.003,1486.45 919.003,47.2441 \n",
       "  \"/>\n",
       "<polyline clip-path=\"url(#clip862)\" style=\"stroke:#000000; stroke-linecap:butt; stroke-linejoin:round; stroke-width:2; stroke-opacity:0.1; fill:none\" points=\"\n",
       "  1250.12,1486.45 1250.12,47.2441 \n",
       "  \"/>\n",
       "<polyline clip-path=\"url(#clip862)\" style=\"stroke:#000000; stroke-linecap:butt; stroke-linejoin:round; stroke-width:2; stroke-opacity:0.1; fill:none\" points=\"\n",
       "  1581.23,1486.45 1581.23,47.2441 \n",
       "  \"/>\n",
       "<polyline clip-path=\"url(#clip862)\" style=\"stroke:#000000; stroke-linecap:butt; stroke-linejoin:round; stroke-width:2; stroke-opacity:0.1; fill:none\" points=\"\n",
       "  1912.35,1486.45 1912.35,47.2441 \n",
       "  \"/>\n",
       "<polyline clip-path=\"url(#clip862)\" style=\"stroke:#000000; stroke-linecap:butt; stroke-linejoin:round; stroke-width:2; stroke-opacity:0.1; fill:none\" points=\"\n",
       "  2243.46,1486.45 2243.46,47.2441 \n",
       "  \"/>\n",
       "<polyline clip-path=\"url(#clip860)\" style=\"stroke:#000000; stroke-linecap:butt; stroke-linejoin:round; stroke-width:4; stroke-opacity:1; fill:none\" points=\"\n",
       "  147.478,1486.45 2352.76,1486.45 \n",
       "  \"/>\n",
       "<polyline clip-path=\"url(#clip860)\" style=\"stroke:#000000; stroke-linecap:butt; stroke-linejoin:round; stroke-width:4; stroke-opacity:1; fill:none\" points=\"\n",
       "  256.775,1486.45 256.775,1467.55 \n",
       "  \"/>\n",
       "<polyline clip-path=\"url(#clip860)\" style=\"stroke:#000000; stroke-linecap:butt; stroke-linejoin:round; stroke-width:4; stroke-opacity:1; fill:none\" points=\"\n",
       "  587.889,1486.45 587.889,1467.55 \n",
       "  \"/>\n",
       "<polyline clip-path=\"url(#clip860)\" style=\"stroke:#000000; stroke-linecap:butt; stroke-linejoin:round; stroke-width:4; stroke-opacity:1; fill:none\" points=\"\n",
       "  919.003,1486.45 919.003,1467.55 \n",
       "  \"/>\n",
       "<polyline clip-path=\"url(#clip860)\" style=\"stroke:#000000; stroke-linecap:butt; stroke-linejoin:round; stroke-width:4; stroke-opacity:1; fill:none\" points=\"\n",
       "  1250.12,1486.45 1250.12,1467.55 \n",
       "  \"/>\n",
       "<polyline clip-path=\"url(#clip860)\" style=\"stroke:#000000; stroke-linecap:butt; stroke-linejoin:round; stroke-width:4; stroke-opacity:1; fill:none\" points=\"\n",
       "  1581.23,1486.45 1581.23,1467.55 \n",
       "  \"/>\n",
       "<polyline clip-path=\"url(#clip860)\" style=\"stroke:#000000; stroke-linecap:butt; stroke-linejoin:round; stroke-width:4; stroke-opacity:1; fill:none\" points=\"\n",
       "  1912.35,1486.45 1912.35,1467.55 \n",
       "  \"/>\n",
       "<polyline clip-path=\"url(#clip860)\" style=\"stroke:#000000; stroke-linecap:butt; stroke-linejoin:round; stroke-width:4; stroke-opacity:1; fill:none\" points=\"\n",
       "  2243.46,1486.45 2243.46,1467.55 \n",
       "  \"/>\n",
       "<path clip-path=\"url(#clip860)\" d=\"M226.243 1532.02 L255.918 1532.02 L255.918 1535.95 L226.243 1535.95 L226.243 1532.02 Z\" fill=\"#000000\" fill-rule=\"evenodd\" fill-opacity=\"1\" /><path clip-path=\"url(#clip860)\" d=\"M280.177 1530.21 Q283.534 1530.93 285.409 1533.2 Q287.307 1535.47 287.307 1538.8 Q287.307 1543.92 283.789 1546.72 Q280.27 1549.52 273.789 1549.52 Q271.613 1549.52 269.298 1549.08 Q267.006 1548.66 264.552 1547.81 L264.552 1543.29 Q266.497 1544.43 268.812 1545.01 Q271.127 1545.58 273.65 1545.58 Q278.048 1545.58 280.339 1543.85 Q282.654 1542.11 282.654 1538.8 Q282.654 1535.75 280.501 1534.03 Q278.372 1532.3 274.552 1532.3 L270.525 1532.3 L270.525 1528.45 L274.738 1528.45 Q278.187 1528.45 280.015 1527.09 Q281.844 1525.7 281.844 1523.11 Q281.844 1520.45 279.946 1519.03 Q278.071 1517.6 274.552 1517.6 Q272.631 1517.6 270.432 1518.01 Q268.233 1518.43 265.594 1519.31 L265.594 1515.14 Q268.256 1514.4 270.571 1514.03 Q272.909 1513.66 274.969 1513.66 Q280.293 1513.66 283.395 1516.09 Q286.497 1518.5 286.497 1522.62 Q286.497 1525.49 284.853 1527.48 Q283.21 1529.45 280.177 1530.21 Z\" fill=\"#000000\" fill-rule=\"evenodd\" fill-opacity=\"1\" /><path clip-path=\"url(#clip860)\" d=\"M557.831 1532.02 L587.507 1532.02 L587.507 1535.95 L557.831 1535.95 L557.831 1532.02 Z\" fill=\"#000000\" fill-rule=\"evenodd\" fill-opacity=\"1\" /><path clip-path=\"url(#clip860)\" d=\"M601.627 1544.91 L617.947 1544.91 L617.947 1548.85 L596.002 1548.85 L596.002 1544.91 Q598.664 1542.16 603.248 1537.53 Q607.854 1532.88 609.035 1531.53 Q611.28 1529.01 612.16 1527.27 Q613.062 1525.51 613.062 1523.82 Q613.062 1521.07 611.118 1519.33 Q609.197 1517.6 606.095 1517.6 Q603.896 1517.6 601.442 1518.36 Q599.011 1519.13 596.234 1520.68 L596.234 1515.95 Q599.058 1514.82 601.511 1514.24 Q603.965 1513.66 606.002 1513.66 Q611.372 1513.66 614.567 1516.35 Q617.761 1519.03 617.761 1523.52 Q617.761 1525.65 616.951 1527.57 Q616.164 1529.47 614.058 1532.07 Q613.479 1532.74 610.377 1535.95 Q607.275 1539.15 601.627 1544.91 Z\" fill=\"#000000\" fill-rule=\"evenodd\" fill-opacity=\"1\" /><path clip-path=\"url(#clip860)\" d=\"M888.76 1532.02 L918.436 1532.02 L918.436 1535.95 L888.76 1535.95 L888.76 1532.02 Z\" fill=\"#000000\" fill-rule=\"evenodd\" fill-opacity=\"1\" /><path clip-path=\"url(#clip860)\" d=\"M929.338 1544.91 L936.977 1544.91 L936.977 1518.55 L928.667 1520.21 L928.667 1515.95 L936.931 1514.29 L941.607 1514.29 L941.607 1544.91 L949.246 1544.91 L949.246 1548.85 L929.338 1548.85 L929.338 1544.91 Z\" fill=\"#000000\" fill-rule=\"evenodd\" fill-opacity=\"1\" /><path clip-path=\"url(#clip860)\" d=\"M1250.12 1517.37 Q1246.51 1517.37 1244.68 1520.93 Q1242.87 1524.47 1242.87 1531.6 Q1242.87 1538.71 1244.68 1542.27 Q1246.51 1545.82 1250.12 1545.82 Q1253.75 1545.82 1255.56 1542.27 Q1257.39 1538.71 1257.39 1531.6 Q1257.39 1524.47 1255.56 1520.93 Q1253.75 1517.37 1250.12 1517.37 M1250.12 1513.66 Q1255.93 1513.66 1258.98 1518.27 Q1262.06 1522.85 1262.06 1531.6 Q1262.06 1540.33 1258.98 1544.94 Q1255.93 1549.52 1250.12 1549.52 Q1244.31 1549.52 1241.23 1544.94 Q1238.17 1540.33 1238.17 1531.6 Q1238.17 1522.85 1241.23 1518.27 Q1244.31 1513.66 1250.12 1513.66 Z\" fill=\"#000000\" fill-rule=\"evenodd\" fill-opacity=\"1\" /><path clip-path=\"url(#clip860)\" d=\"M1571.61 1544.91 L1579.25 1544.91 L1579.25 1518.55 L1570.94 1520.21 L1570.94 1515.95 L1579.21 1514.29 L1583.88 1514.29 L1583.88 1544.91 L1591.52 1544.91 L1591.52 1548.85 L1571.61 1548.85 L1571.61 1544.91 Z\" fill=\"#000000\" fill-rule=\"evenodd\" fill-opacity=\"1\" /><path clip-path=\"url(#clip860)\" d=\"M1907 1544.91 L1923.32 1544.91 L1923.32 1548.85 L1901.37 1548.85 L1901.37 1544.91 Q1904.03 1542.16 1908.62 1537.53 Q1913.22 1532.88 1914.41 1531.53 Q1916.65 1529.01 1917.53 1527.27 Q1918.43 1525.51 1918.43 1523.82 Q1918.43 1521.07 1916.49 1519.33 Q1914.57 1517.6 1911.47 1517.6 Q1909.27 1517.6 1906.81 1518.36 Q1904.38 1519.13 1901.6 1520.68 L1901.6 1515.95 Q1904.43 1514.82 1906.88 1514.24 Q1909.34 1513.66 1911.37 1513.66 Q1916.74 1513.66 1919.94 1516.35 Q1923.13 1519.03 1923.13 1523.52 Q1923.13 1525.65 1922.32 1527.57 Q1921.53 1529.47 1919.43 1532.07 Q1918.85 1532.74 1915.75 1535.95 Q1912.65 1539.15 1907 1544.91 Z\" fill=\"#000000\" fill-rule=\"evenodd\" fill-opacity=\"1\" /><path clip-path=\"url(#clip860)\" d=\"M2247.71 1530.21 Q2251.06 1530.93 2252.94 1533.2 Q2254.84 1535.47 2254.84 1538.8 Q2254.84 1543.92 2251.32 1546.72 Q2247.8 1549.52 2241.32 1549.52 Q2239.14 1549.52 2236.83 1549.08 Q2234.54 1548.66 2232.08 1547.81 L2232.08 1543.29 Q2234.03 1544.43 2236.34 1545.01 Q2238.66 1545.58 2241.18 1545.58 Q2245.58 1545.58 2247.87 1543.85 Q2250.18 1542.11 2250.18 1538.8 Q2250.18 1535.75 2248.03 1534.03 Q2245.9 1532.3 2242.08 1532.3 L2238.05 1532.3 L2238.05 1528.45 L2242.27 1528.45 Q2245.72 1528.45 2247.54 1527.09 Q2249.37 1525.7 2249.37 1523.11 Q2249.37 1520.45 2247.48 1519.03 Q2245.6 1517.6 2242.08 1517.6 Q2240.16 1517.6 2237.96 1518.01 Q2235.76 1518.43 2233.12 1519.31 L2233.12 1515.14 Q2235.79 1514.4 2238.1 1514.03 Q2240.44 1513.66 2242.5 1513.66 Q2247.82 1513.66 2250.92 1516.09 Q2254.03 1518.5 2254.03 1522.62 Q2254.03 1525.49 2252.38 1527.48 Q2250.74 1529.45 2247.71 1530.21 Z\" fill=\"#000000\" fill-rule=\"evenodd\" fill-opacity=\"1\" /><polyline clip-path=\"url(#clip862)\" style=\"stroke:#000000; stroke-linecap:butt; stroke-linejoin:round; stroke-width:2; stroke-opacity:0.1; fill:none\" points=\"\n",
       "  147.478,1445.72 2352.76,1445.72 \n",
       "  \"/>\n",
       "<polyline clip-path=\"url(#clip862)\" style=\"stroke:#000000; stroke-linecap:butt; stroke-linejoin:round; stroke-width:2; stroke-opacity:0.1; fill:none\" points=\"\n",
       "  147.478,1106.28 2352.76,1106.28 \n",
       "  \"/>\n",
       "<polyline clip-path=\"url(#clip862)\" style=\"stroke:#000000; stroke-linecap:butt; stroke-linejoin:round; stroke-width:2; stroke-opacity:0.1; fill:none\" points=\"\n",
       "  147.478,766.844 2352.76,766.844 \n",
       "  \"/>\n",
       "<polyline clip-path=\"url(#clip862)\" style=\"stroke:#000000; stroke-linecap:butt; stroke-linejoin:round; stroke-width:2; stroke-opacity:0.1; fill:none\" points=\"\n",
       "  147.478,427.409 2352.76,427.409 \n",
       "  \"/>\n",
       "<polyline clip-path=\"url(#clip862)\" style=\"stroke:#000000; stroke-linecap:butt; stroke-linejoin:round; stroke-width:2; stroke-opacity:0.1; fill:none\" points=\"\n",
       "  147.478,87.9729 2352.76,87.9729 \n",
       "  \"/>\n",
       "<polyline clip-path=\"url(#clip860)\" style=\"stroke:#000000; stroke-linecap:butt; stroke-linejoin:round; stroke-width:4; stroke-opacity:1; fill:none\" points=\"\n",
       "  147.478,1486.45 147.478,47.2441 \n",
       "  \"/>\n",
       "<polyline clip-path=\"url(#clip860)\" style=\"stroke:#000000; stroke-linecap:butt; stroke-linejoin:round; stroke-width:4; stroke-opacity:1; fill:none\" points=\"\n",
       "  147.478,1445.72 166.376,1445.72 \n",
       "  \"/>\n",
       "<polyline clip-path=\"url(#clip860)\" style=\"stroke:#000000; stroke-linecap:butt; stroke-linejoin:round; stroke-width:4; stroke-opacity:1; fill:none\" points=\"\n",
       "  147.478,1106.28 166.376,1106.28 \n",
       "  \"/>\n",
       "<polyline clip-path=\"url(#clip860)\" style=\"stroke:#000000; stroke-linecap:butt; stroke-linejoin:round; stroke-width:4; stroke-opacity:1; fill:none\" points=\"\n",
       "  147.478,766.844 166.376,766.844 \n",
       "  \"/>\n",
       "<polyline clip-path=\"url(#clip860)\" style=\"stroke:#000000; stroke-linecap:butt; stroke-linejoin:round; stroke-width:4; stroke-opacity:1; fill:none\" points=\"\n",
       "  147.478,427.409 166.376,427.409 \n",
       "  \"/>\n",
       "<polyline clip-path=\"url(#clip860)\" style=\"stroke:#000000; stroke-linecap:butt; stroke-linejoin:round; stroke-width:4; stroke-opacity:1; fill:none\" points=\"\n",
       "  147.478,87.9729 166.376,87.9729 \n",
       "  \"/>\n",
       "<path clip-path=\"url(#clip860)\" d=\"M51.3625 1446.17 L81.0383 1446.17 L81.0383 1450.1 L51.3625 1450.1 L51.3625 1446.17 Z\" fill=\"#000000\" fill-rule=\"evenodd\" fill-opacity=\"1\" /><path clip-path=\"url(#clip860)\" d=\"M95.1586 1459.06 L111.478 1459.06 L111.478 1463 L89.5336 1463 L89.5336 1459.06 Q92.1956 1456.31 96.7789 1451.68 Q101.385 1447.02 102.566 1445.68 Q104.811 1443.16 105.691 1441.42 Q106.594 1439.66 106.594 1437.97 Q106.594 1435.22 104.649 1433.48 Q102.728 1431.75 99.6261 1431.75 Q97.4271 1431.75 94.9734 1432.51 Q92.5428 1433.27 89.7651 1434.82 L89.7651 1430.1 Q92.5891 1428.97 95.0428 1428.39 Q97.4965 1427.81 99.5335 1427.81 Q104.904 1427.81 108.098 1430.5 Q111.293 1433.18 111.293 1437.67 Q111.293 1439.8 110.483 1441.72 Q109.696 1443.62 107.589 1446.21 Q107.01 1446.88 103.909 1450.1 Q100.807 1453.3 95.1586 1459.06 Z\" fill=\"#000000\" fill-rule=\"evenodd\" fill-opacity=\"1\" /><path clip-path=\"url(#clip860)\" d=\"M50.9921 1106.73 L80.6679 1106.73 L80.6679 1110.67 L50.9921 1110.67 L50.9921 1106.73 Z\" fill=\"#000000\" fill-rule=\"evenodd\" fill-opacity=\"1\" /><path clip-path=\"url(#clip860)\" d=\"M91.5706 1119.62 L99.2095 1119.62 L99.2095 1093.26 L90.8993 1094.93 L90.8993 1090.67 L99.1632 1089 L103.839 1089 L103.839 1119.62 L111.478 1119.62 L111.478 1123.56 L91.5706 1123.56 L91.5706 1119.62 Z\" fill=\"#000000\" fill-rule=\"evenodd\" fill-opacity=\"1\" /><path clip-path=\"url(#clip860)\" d=\"M99.5335 752.643 Q95.9224 752.643 94.0937 756.208 Q92.2882 759.749 92.2882 766.879 Q92.2882 773.985 94.0937 777.55 Q95.9224 781.092 99.5335 781.092 Q103.168 781.092 104.973 777.55 Q106.802 773.985 106.802 766.879 Q106.802 759.749 104.973 756.208 Q103.168 752.643 99.5335 752.643 M99.5335 748.939 Q105.344 748.939 108.399 753.546 Q111.478 758.129 111.478 766.879 Q111.478 775.606 108.399 780.212 Q105.344 784.796 99.5335 784.796 Q93.7234 784.796 90.6447 780.212 Q87.5892 775.606 87.5892 766.879 Q87.5892 758.129 90.6447 753.546 Q93.7234 748.939 99.5335 748.939 Z\" fill=\"#000000\" fill-rule=\"evenodd\" fill-opacity=\"1\" /><path clip-path=\"url(#clip860)\" d=\"M91.5706 440.753 L99.2095 440.753 L99.2095 414.388 L90.8993 416.055 L90.8993 411.795 L99.1632 410.129 L103.839 410.129 L103.839 440.753 L111.478 440.753 L111.478 444.689 L91.5706 444.689 L91.5706 440.753 Z\" fill=\"#000000\" fill-rule=\"evenodd\" fill-opacity=\"1\" /><path clip-path=\"url(#clip860)\" d=\"M95.1586 101.318 L111.478 101.318 L111.478 105.253 L89.5336 105.253 L89.5336 101.318 Q92.1956 98.5631 96.7789 93.9335 Q101.385 89.2808 102.566 87.9382 Q104.811 85.4151 105.691 83.679 Q106.594 81.9197 106.594 80.2299 Q106.594 77.4753 104.649 75.7392 Q102.728 74.0031 99.6261 74.0031 Q97.4271 74.0031 94.9734 74.767 Q92.5428 75.5309 89.7651 77.0818 L89.7651 72.3596 Q92.5891 71.2253 95.0428 70.6466 Q97.4965 70.0679 99.5335 70.0679 Q104.904 70.0679 108.098 72.7531 Q111.293 75.4383 111.293 79.929 Q111.293 82.0586 110.483 83.9799 Q109.696 85.878 107.589 88.4706 Q107.01 89.1419 103.909 92.3595 Q100.807 95.5539 95.1586 101.318 Z\" fill=\"#000000\" fill-rule=\"evenodd\" fill-opacity=\"1\" /><polyline clip-path=\"url(#clip862)\" style=\"stroke:#009af9; stroke-linecap:butt; stroke-linejoin:round; stroke-width:4; stroke-opacity:1; fill:none\" points=\"\n",
       "  209.891,1106.28 211.974,1106.27 214.057,1106.25 216.139,1106.22 218.222,1106.17 220.304,1106.11 222.387,1106.04 224.469,1105.95 226.552,1105.85 228.634,1105.74 \n",
       "  230.717,1105.61 232.799,1105.47 234.882,1105.31 236.964,1105.15 239.047,1104.96 241.129,1104.77 243.212,1104.56 245.295,1104.34 247.377,1104.11 249.46,1103.86 \n",
       "  251.542,1103.6 253.625,1103.32 255.707,1103.04 257.79,1102.73 259.872,1102.42 261.955,1102.09 264.037,1101.75 266.12,1101.4 268.202,1101.03 270.285,1100.65 \n",
       "  272.367,1100.26 274.45,1099.85 276.533,1099.43 278.615,1099 280.698,1098.55 282.78,1098.09 284.863,1097.62 286.945,1097.13 289.028,1096.63 291.11,1096.12 \n",
       "  293.193,1095.59 295.275,1095.06 297.358,1094.51 299.44,1093.94 301.523,1093.37 303.605,1092.78 305.688,1092.17 307.771,1091.56 309.853,1090.93 311.936,1090.29 \n",
       "  314.018,1089.63 316.101,1088.97 318.183,1088.29 320.266,1087.6 322.348,1086.89 324.431,1086.17 326.513,1085.44 328.596,1084.7 330.678,1083.94 332.761,1083.18 \n",
       "  334.843,1082.4 336.926,1081.6 339.009,1080.8 341.091,1079.98 343.174,1079.15 345.256,1078.31 347.339,1077.45 349.421,1076.59 351.504,1075.71 353.586,1074.82 \n",
       "  355.669,1073.91 357.751,1073 359.834,1072.07 361.916,1071.13 363.999,1070.18 366.081,1069.21 368.164,1068.23 370.247,1067.25 372.329,1066.25 374.412,1065.24 \n",
       "  376.494,1064.21 378.577,1063.18 380.659,1062.13 382.742,1061.07 384.824,1060 386.907,1058.92 388.989,1057.82 391.072,1056.72 393.154,1055.6 395.237,1054.48 \n",
       "  397.319,1053.34 399.402,1052.19 401.485,1051.02 403.567,1049.85 405.65,1048.67 407.732,1047.47 409.815,1046.26 411.897,1045.05 413.98,1043.82 416.062,1042.58 \n",
       "  418.145,1041.33 420.227,1040.07 422.31,1038.79 424.392,1037.51 426.475,1036.22 428.557,1034.91 430.64,1033.6 432.723,1032.27 434.805,1030.94 436.888,1029.59 \n",
       "  438.97,1028.23 441.053,1026.87 443.135,1025.49 445.218,1024.1 447.3,1022.7 449.383,1021.3 451.465,1019.88 453.548,1018.45 455.63,1017.01 457.713,1015.56 \n",
       "  459.795,1014.11 461.878,1012.64 463.961,1011.16 466.043,1009.68 468.126,1008.18 470.208,1006.67 472.291,1005.16 474.373,1003.63 476.456,1002.1 478.538,1000.55 \n",
       "  480.621,999.002 482.703,997.44 484.786,995.868 486.868,994.288 488.951,992.699 491.033,991.101 493.116,989.494 495.199,987.878 497.281,986.253 499.364,984.62 \n",
       "  501.446,982.978 503.529,981.328 505.611,979.669 507.694,978.002 509.776,976.326 511.859,974.642 513.941,972.95 516.024,971.25 518.106,969.541 520.189,967.825 \n",
       "  522.271,966.1 524.354,964.368 526.437,962.628 528.519,960.88 530.602,959.125 532.684,957.362 534.767,955.591 536.849,953.813 538.932,952.027 541.014,950.235 \n",
       "  543.097,948.435 545.179,946.627 547.262,944.813 549.344,942.991 551.427,941.163 553.509,939.328 555.592,937.486 557.675,935.637 559.757,933.781 561.84,931.919 \n",
       "  563.922,930.051 566.005,928.175 568.087,926.294 570.17,924.406 572.252,922.512 574.335,920.612 576.417,918.706 578.5,916.793 580.582,914.875 582.665,912.951 \n",
       "  584.747,911.021 586.83,909.086 588.913,907.144 590.995,905.198 593.078,903.246 595.16,901.288 597.243,899.325 599.325,897.357 601.408,895.384 603.49,893.405 \n",
       "  605.573,891.422 607.655,889.433 609.738,887.44 611.82,885.442 613.903,883.44 615.985,881.432 618.068,879.42 620.151,877.404 622.233,875.384 624.316,873.359 \n",
       "  626.398,871.33 628.481,869.296 630.563,867.259 632.646,865.218 634.728,863.172 636.811,861.123 638.893,859.071 640.976,857.014 643.058,854.954 645.141,852.891 \n",
       "  647.223,850.824 649.306,848.754 651.389,846.681 653.471,844.604 655.554,842.525 657.636,840.442 659.719,838.356 661.801,836.268 663.884,834.177 665.966,832.083 \n",
       "  668.049,829.987 670.131,827.888 672.214,825.787 674.296,823.683 676.379,821.577 678.461,819.469 680.544,817.359 682.627,815.247 684.709,813.133 686.792,811.017 \n",
       "  688.874,808.9 690.957,806.78 693.039,804.66 695.122,802.537 697.204,800.414 699.287,798.289 701.369,796.162 703.452,794.035 705.534,791.906 707.617,789.777 \n",
       "  709.699,787.646 711.782,785.515 713.865,783.383 715.947,781.25 718.03,779.117 720.112,776.983 722.195,774.849 724.277,772.715 726.36,770.58 728.442,768.445 \n",
       "  730.525,766.311 732.607,764.176 734.69,762.041 736.772,759.906 738.855,757.772 740.937,755.638 743.02,753.505 745.103,751.372 747.185,749.24 749.268,747.108 \n",
       "  751.35,744.977 753.433,742.847 755.515,740.718 757.598,738.59 759.68,736.463 761.763,734.337 763.845,732.213 765.928,730.09 768.01,727.968 770.093,725.848 \n",
       "  772.175,723.73 774.258,721.613 776.341,719.498 778.423,717.385 780.506,715.274 782.588,713.165 784.671,711.058 786.753,708.953 788.836,706.851 790.918,704.751 \n",
       "  793.001,702.653 795.083,700.558 797.166,698.466 799.248,696.376 801.331,694.289 803.413,692.205 805.496,690.124 807.579,688.046 809.661,685.971 811.744,683.899 \n",
       "  813.826,681.831 815.909,679.765 817.991,677.704 820.074,675.646 822.156,673.591 824.239,671.54 826.321,669.493 828.404,667.45 830.486,665.41 832.569,663.375 \n",
       "  834.651,661.344 836.734,659.317 838.817,657.294 840.899,655.276 842.982,653.262 845.064,651.252 847.147,649.247 849.229,647.247 851.312,645.251 853.394,643.26 \n",
       "  855.477,641.275 857.559,639.294 859.642,637.318 861.724,635.347 863.807,633.381 865.889,631.421 867.972,629.466 870.055,627.517 872.137,625.573 874.22,623.634 \n",
       "  876.302,621.702 878.385,619.775 880.467,617.854 882.55,615.938 884.632,614.029 886.715,612.126 888.797,610.229 890.88,608.338 892.962,606.453 895.045,604.575 \n",
       "  897.127,602.703 899.21,600.837 901.293,598.979 903.375,597.126 905.458,595.281 907.54,593.442 909.623,591.61 911.705,589.786 913.788,587.968 915.87,586.157 \n",
       "  917.953,584.353 920.035,582.557 922.118,580.767 924.2,578.986 926.283,577.211 928.365,575.444 930.448,573.685 932.531,571.933 934.613,570.189 936.696,568.453 \n",
       "  938.778,566.725 940.861,565.005 942.943,563.292 945.026,561.588 947.108,559.892 949.191,558.203 951.273,556.524 953.356,554.852 955.438,553.189 957.521,551.534 \n",
       "  959.603,549.888 961.686,548.251 963.769,546.622 965.851,545.002 967.934,543.39 970.016,541.788 972.099,540.194 974.181,538.609 976.264,537.033 978.346,535.467 \n",
       "  980.429,533.909 982.511,532.361 984.594,530.822 986.676,529.293 988.759,527.772 990.841,526.262 992.924,524.76 995.007,523.269 997.089,521.787 999.172,520.314 \n",
       "  1001.25,518.852 1003.34,517.399 1005.42,515.956 1007.5,514.523 1009.58,513.1 1011.67,511.687 1013.75,510.284 1015.83,508.891 1017.91,507.509 1020,506.137 \n",
       "  1022.08,504.775 1024.16,503.423 1026.24,502.082 1028.33,500.751 1030.41,499.431 1032.49,498.121 1034.57,496.823 1036.66,495.534 1038.74,494.257 1040.82,492.99 \n",
       "  1042.9,491.734 1044.99,490.489 1047.07,489.255 1049.15,488.032 1051.23,486.82 1053.32,485.619 1055.4,484.429 1057.48,483.25 1059.57,482.082 1061.65,480.926 \n",
       "  1063.73,479.781 1065.81,478.648 1067.9,477.525 1069.98,476.415 1072.06,475.315 1074.14,474.228 1076.23,473.152 1078.31,472.087 1080.39,471.034 1082.47,469.993 \n",
       "  1084.56,468.964 1086.64,467.946 1088.72,466.94 1090.8,465.946 1092.89,464.964 1094.97,463.994 1097.05,463.036 1099.13,462.09 1101.22,461.156 1103.3,460.234 \n",
       "  1105.38,459.324 1107.46,458.426 1109.55,457.541 1111.63,456.668 1113.71,455.807 1115.79,454.958 1117.88,454.122 1119.96,453.298 1122.04,452.486 1124.12,451.687 \n",
       "  1126.21,450.9 1128.29,450.126 1130.37,449.365 1132.45,448.616 1134.54,447.879 1136.62,447.155 1138.7,446.444 1140.78,445.745 1142.87,445.06 1144.95,444.387 \n",
       "  1147.03,443.726 1149.11,443.079 1151.2,442.444 1153.28,441.822 1155.36,441.213 1157.44,440.617 1159.53,440.033 1161.61,439.463 1163.69,438.906 1165.77,438.361 \n",
       "  1167.86,437.83 1169.94,437.311 1172.02,436.806 1174.1,436.314 1176.19,435.834 1178.27,435.368 1180.35,434.915 1182.43,434.475 1184.52,434.048 1186.6,433.635 \n",
       "  1188.68,433.234 1190.76,432.847 1192.85,432.473 1194.93,432.112 1197.01,431.765 1199.09,431.43 1201.18,431.109 1203.26,430.802 1205.34,430.507 1207.42,430.226 \n",
       "  1209.51,429.958 1211.59,429.704 1213.67,429.463 1215.76,429.235 1217.84,429.02 1219.92,428.819 1222,428.631 1224.09,428.457 1226.17,428.296 1228.25,428.149 \n",
       "  1230.33,428.014 1232.42,427.894 1234.5,427.786 1236.58,427.692 1238.66,427.612 1240.75,427.545 1242.83,427.491 1244.91,427.451 1246.99,427.424 1249.08,427.41 \n",
       "  1251.16,427.41 1253.24,427.424 1255.32,427.451 1257.41,427.491 1259.49,427.545 1261.57,427.612 1263.65,427.692 1265.74,427.786 1267.82,427.894 1269.9,428.014 \n",
       "  1271.98,428.149 1274.07,428.296 1276.15,428.457 1278.23,428.631 1280.31,428.819 1282.4,429.02 1284.48,429.235 1286.56,429.463 1288.64,429.704 1290.73,429.958 \n",
       "  1292.81,430.226 1294.89,430.507 1296.97,430.802 1299.06,431.109 1301.14,431.43 1303.22,431.765 1305.3,432.112 1307.39,432.473 1309.47,432.847 1311.55,433.234 \n",
       "  1313.63,433.635 1315.72,434.048 1317.8,434.475 1319.88,434.915 1321.96,435.368 1324.05,435.834 1326.13,436.314 1328.21,436.806 1330.29,437.311 1332.38,437.83 \n",
       "  1334.46,438.361 1336.54,438.906 1338.62,439.463 1340.71,440.033 1342.79,440.617 1344.87,441.213 1346.95,441.822 1349.04,442.444 1351.12,443.079 1353.2,443.726 \n",
       "  1355.28,444.387 1357.37,445.06 1359.45,445.745 1361.53,446.444 1363.61,447.155 1365.7,447.879 1367.78,448.616 1369.86,449.365 1371.95,450.126 1374.03,450.9 \n",
       "  1376.11,451.687 1378.19,452.486 1380.28,453.298 1382.36,454.122 1384.44,454.958 1386.52,455.807 1388.61,456.668 1390.69,457.541 1392.77,458.426 1394.85,459.324 \n",
       "  1396.94,460.234 1399.02,461.156 1401.1,462.09 1403.18,463.036 1405.27,463.994 1407.35,464.964 1409.43,465.946 1411.51,466.94 1413.6,467.946 1415.68,468.964 \n",
       "  1417.76,469.993 1419.84,471.034 1421.93,472.087 1424.01,473.152 1426.09,474.228 1428.17,475.315 1430.26,476.415 1432.34,477.525 1434.42,478.648 1436.5,479.781 \n",
       "  1438.59,480.926 1440.67,482.082 1442.75,483.25 1444.83,484.429 1446.92,485.619 1449,486.82 1451.08,488.032 1453.16,489.255 1455.25,490.489 1457.33,491.734 \n",
       "  1459.41,492.99 1461.49,494.257 1463.58,495.534 1465.66,496.823 1467.74,498.121 1469.82,499.431 1471.91,500.751 1473.99,502.082 1476.07,503.423 1478.15,504.775 \n",
       "  1480.24,506.137 1482.32,507.509 1484.4,508.891 1486.48,510.284 1488.57,511.687 1490.65,513.1 1492.73,514.523 1494.81,515.956 1496.9,517.399 1498.98,518.852 \n",
       "  1501.06,520.314 1503.14,521.787 1505.23,523.269 1507.31,524.76 1509.39,526.262 1511.47,527.772 1513.56,529.293 1515.64,530.822 1517.72,532.361 1519.8,533.909 \n",
       "  1521.89,535.467 1523.97,537.033 1526.05,538.609 1528.14,540.194 1530.22,541.788 1532.3,543.39 1534.38,545.002 1536.47,546.622 1538.55,548.251 1540.63,549.888 \n",
       "  1542.71,551.534 1544.8,553.189 1546.88,554.852 1548.96,556.524 1551.04,558.203 1553.13,559.892 1555.21,561.588 1557.29,563.292 1559.37,565.005 1561.46,566.725 \n",
       "  1563.54,568.453 1565.62,570.189 1567.7,571.933 1569.79,573.685 1571.87,575.444 1573.95,577.211 1576.03,578.986 1578.12,580.767 1580.2,582.557 1582.28,584.353 \n",
       "  1584.36,586.157 1586.45,587.968 1588.53,589.786 1590.61,591.61 1592.69,593.442 1594.78,595.281 1596.86,597.126 1598.94,598.979 1601.02,600.837 1603.11,602.703 \n",
       "  1605.19,604.575 1607.27,606.453 1609.35,608.338 1611.44,610.229 1613.52,612.126 1615.6,614.029 1617.68,615.938 1619.77,617.854 1621.85,619.775 1623.93,621.702 \n",
       "  1626.01,623.634 1628.1,625.573 1630.18,627.517 1632.26,629.466 1634.34,631.421 1636.43,633.381 1638.51,635.347 1640.59,637.318 1642.67,639.294 1644.76,641.275 \n",
       "  1646.84,643.26 1648.92,645.251 1651,647.247 1653.09,649.247 1655.17,651.252 1657.25,653.262 1659.33,655.276 1661.42,657.294 1663.5,659.317 1665.58,661.344 \n",
       "  1667.66,663.375 1669.75,665.41 1671.83,667.45 1673.91,669.493 1676,671.54 1678.08,673.591 1680.16,675.646 1682.24,677.704 1684.33,679.765 1686.41,681.831 \n",
       "  1688.49,683.899 1690.57,685.971 1692.66,688.046 1694.74,690.124 1696.82,692.205 1698.9,694.289 1700.99,696.376 1703.07,698.466 1705.15,700.558 1707.23,702.653 \n",
       "  1709.32,704.751 1711.4,706.851 1713.48,708.953 1715.56,711.058 1717.65,713.165 1719.73,715.274 1721.81,717.385 1723.89,719.498 1725.98,721.613 1728.06,723.73 \n",
       "  1730.14,725.848 1732.22,727.968 1734.31,730.09 1736.39,732.213 1738.47,734.337 1740.55,736.463 1742.64,738.59 1744.72,740.718 1746.8,742.847 1748.88,744.977 \n",
       "  1750.97,747.108 1753.05,749.24 1755.13,751.372 1757.21,753.505 1759.3,755.638 1761.38,757.772 1763.46,759.906 1765.54,762.041 1767.63,764.176 1769.71,766.311 \n",
       "  1771.79,768.445 1773.87,770.58 1775.96,772.715 1778.04,774.849 1780.12,776.983 1782.2,779.117 1784.29,781.25 1786.37,783.383 1788.45,785.515 1790.53,787.646 \n",
       "  1792.62,789.777 1794.7,791.906 1796.78,794.035 1798.86,796.162 1800.95,798.289 1803.03,800.414 1805.11,802.537 1807.19,804.66 1809.28,806.78 1811.36,808.9 \n",
       "  1813.44,811.017 1815.52,813.133 1817.61,815.247 1819.69,817.359 1821.77,819.469 1823.85,821.577 1825.94,823.683 1828.02,825.787 1830.1,827.888 1832.19,829.987 \n",
       "  1834.27,832.083 1836.35,834.177 1838.43,836.268 1840.52,838.356 1842.6,840.442 1844.68,842.525 1846.76,844.604 1848.85,846.681 1850.93,848.754 1853.01,850.824 \n",
       "  1855.09,852.891 1857.18,854.954 1859.26,857.014 1861.34,859.071 1863.42,861.123 1865.51,863.172 1867.59,865.218 1869.67,867.259 1871.75,869.296 1873.84,871.33 \n",
       "  1875.92,873.359 1878,875.384 1880.08,877.404 1882.17,879.42 1884.25,881.432 1886.33,883.44 1888.41,885.442 1890.5,887.44 1892.58,889.433 1894.66,891.422 \n",
       "  1896.74,893.405 1898.83,895.384 1900.91,897.357 1902.99,899.325 1905.07,901.288 1907.16,903.246 1909.24,905.198 1911.32,907.144 1913.4,909.086 1915.49,911.021 \n",
       "  1917.57,912.951 1919.65,914.875 1921.73,916.793 1923.82,918.706 1925.9,920.612 1927.98,922.512 1930.06,924.406 1932.15,926.294 1934.23,928.175 1936.31,930.051 \n",
       "  1938.39,931.919 1940.48,933.781 1942.56,935.637 1944.64,937.486 1946.72,939.328 1948.81,941.163 1950.89,942.991 1952.97,944.813 1955.05,946.627 1957.14,948.435 \n",
       "  1959.22,950.235 1961.3,952.027 1963.38,953.813 1965.47,955.591 1967.55,957.362 1969.63,959.125 1971.71,960.88 1973.8,962.628 1975.88,964.368 1977.96,966.1 \n",
       "  1980.04,967.825 1982.13,969.541 1984.21,971.25 1986.29,972.95 1988.38,974.642 1990.46,976.326 1992.54,978.002 1994.62,979.669 1996.71,981.328 1998.79,982.978 \n",
       "  2000.87,984.62 2002.95,986.253 2005.04,987.878 2007.12,989.494 2009.2,991.101 2011.28,992.699 2013.37,994.288 2015.45,995.868 2017.53,997.44 2019.61,999.002 \n",
       "  2021.7,1000.55 2023.78,1002.1 2025.86,1003.63 2027.94,1005.16 2030.03,1006.67 2032.11,1008.18 2034.19,1009.68 2036.27,1011.16 2038.36,1012.64 2040.44,1014.11 \n",
       "  2042.52,1015.56 2044.6,1017.01 2046.69,1018.45 2048.77,1019.88 2050.85,1021.3 2052.93,1022.7 2055.02,1024.1 2057.1,1025.49 2059.18,1026.87 2061.26,1028.23 \n",
       "  2063.35,1029.59 2065.43,1030.94 2067.51,1032.27 2069.59,1033.6 2071.68,1034.91 2073.76,1036.22 2075.84,1037.51 2077.92,1038.79 2080.01,1040.07 2082.09,1041.33 \n",
       "  2084.17,1042.58 2086.25,1043.82 2088.34,1045.05 2090.42,1046.26 2092.5,1047.47 2094.58,1048.67 2096.67,1049.85 2098.75,1051.02 2100.83,1052.19 2102.91,1053.34 \n",
       "  2105,1054.48 2107.08,1055.6 2109.16,1056.72 2111.24,1057.82 2113.33,1058.92 2115.41,1060 2117.49,1061.07 2119.57,1062.13 2121.66,1063.18 2123.74,1064.21 \n",
       "  2125.82,1065.24 2127.9,1066.25 2129.99,1067.25 2132.07,1068.23 2134.15,1069.21 2136.23,1070.18 2138.32,1071.13 2140.4,1072.07 2142.48,1073 2144.57,1073.91 \n",
       "  2146.65,1074.82 2148.73,1075.71 2150.81,1076.59 2152.9,1077.45 2154.98,1078.31 2157.06,1079.15 2159.14,1079.98 2161.23,1080.8 2163.31,1081.6 2165.39,1082.4 \n",
       "  2167.47,1083.18 2169.56,1083.94 2171.64,1084.7 2173.72,1085.44 2175.8,1086.17 2177.89,1086.89 2179.97,1087.6 2182.05,1088.29 2184.13,1088.97 2186.22,1089.63 \n",
       "  2188.3,1090.29 2190.38,1090.93 2192.46,1091.56 2194.55,1092.17 2196.63,1092.78 2198.71,1093.37 2200.79,1093.94 2202.88,1094.51 2204.96,1095.06 2207.04,1095.59 \n",
       "  2209.12,1096.12 2211.21,1096.63 2213.29,1097.13 2215.37,1097.62 2217.45,1098.09 2219.54,1098.55 2221.62,1099 2223.7,1099.43 2225.78,1099.85 2227.87,1100.26 \n",
       "  2229.95,1100.65 2232.03,1101.03 2234.11,1101.4 2236.2,1101.75 2238.28,1102.09 2240.36,1102.42 2242.44,1102.73 2244.53,1103.04 2246.61,1103.32 2248.69,1103.6 \n",
       "  2250.77,1103.86 2252.86,1104.11 2254.94,1104.34 2257.02,1104.56 2259.1,1104.77 2261.19,1104.96 2263.27,1105.15 2265.35,1105.31 2267.43,1105.47 2269.52,1105.61 \n",
       "  2271.6,1105.74 2273.68,1105.85 2275.76,1105.95 2277.85,1106.04 2279.93,1106.11 2282.01,1106.17 2284.09,1106.22 2286.18,1106.25 2288.26,1106.27 2290.34,1106.28 \n",
       "  \n",
       "  \"/>\n",
       "<polyline clip-path=\"url(#clip862)\" style=\"stroke:#e26f46; stroke-linecap:butt; stroke-linejoin:round; stroke-width:4; stroke-opacity:1; fill:none\" points=\"\n",
       "  209.891,1445.72 211.974,1445.7 214.057,1445.66 216.139,1445.59 218.222,1445.5 220.304,1445.38 222.387,1445.23 224.469,1445.06 226.552,1444.86 228.634,1444.63 \n",
       "  230.717,1444.37 232.799,1444.09 234.882,1443.78 236.964,1443.45 239.047,1443.09 241.129,1442.7 243.212,1442.28 245.295,1441.84 247.377,1441.37 249.46,1440.87 \n",
       "  251.542,1440.35 253.625,1439.8 255.707,1439.23 257.79,1438.63 259.872,1438 261.955,1437.34 264.037,1436.66 266.12,1435.95 268.202,1435.22 270.285,1434.45 \n",
       "  272.367,1433.67 274.45,1432.85 276.533,1432.01 278.615,1431.15 280.698,1430.25 282.78,1429.33 284.863,1428.39 286.945,1427.42 289.028,1426.42 291.11,1425.4 \n",
       "  293.193,1424.35 295.275,1423.27 297.358,1422.17 299.44,1421.04 301.523,1419.89 303.605,1418.71 305.688,1417.5 307.771,1416.27 309.853,1415.01 311.936,1413.73 \n",
       "  314.018,1412.42 316.101,1411.09 318.183,1409.73 320.266,1408.35 322.348,1406.94 324.431,1405.5 326.513,1404.04 328.596,1402.56 330.678,1401.05 332.761,1399.51 \n",
       "  334.843,1397.95 336.926,1396.36 339.009,1394.75 341.091,1393.12 343.174,1391.46 345.256,1389.77 347.339,1388.06 349.421,1386.33 351.504,1384.57 353.586,1382.79 \n",
       "  355.669,1380.98 357.751,1379.15 359.834,1377.29 361.916,1375.41 363.999,1373.51 366.081,1371.58 368.164,1369.63 370.247,1367.65 372.329,1365.65 374.412,1363.63 \n",
       "  376.494,1361.58 378.577,1359.51 380.659,1357.41 382.742,1355.3 384.824,1353.16 386.907,1350.99 388.989,1348.81 391.072,1346.6 393.154,1344.36 395.237,1342.11 \n",
       "  397.319,1339.83 399.402,1337.53 401.485,1335.2 403.567,1332.86 405.65,1330.49 407.732,1328.1 409.815,1325.68 411.897,1323.25 413.98,1320.79 416.062,1318.31 \n",
       "  418.145,1315.81 420.227,1313.29 422.31,1310.74 424.392,1308.18 426.475,1305.59 428.557,1302.98 430.64,1300.35 432.723,1297.7 434.805,1295.03 436.888,1292.34 \n",
       "  438.97,1289.62 441.053,1286.89 443.135,1284.14 445.218,1281.36 447.3,1278.56 449.383,1275.75 451.465,1272.91 453.548,1270.06 455.63,1267.18 457.713,1264.28 \n",
       "  459.795,1261.37 461.878,1258.43 463.961,1255.48 466.043,1252.51 468.126,1249.51 470.208,1246.5 472.291,1243.47 474.373,1240.42 476.456,1237.35 478.538,1234.26 \n",
       "  480.621,1231.16 482.703,1228.03 484.786,1224.89 486.868,1221.73 488.951,1218.55 491.033,1215.36 493.116,1212.14 495.199,1208.91 497.281,1205.66 499.364,1202.4 \n",
       "  501.446,1199.11 503.529,1195.81 505.611,1192.49 507.694,1189.16 509.776,1185.81 511.859,1182.44 513.941,1179.06 516.024,1175.66 518.106,1172.24 520.189,1168.81 \n",
       "  522.271,1165.36 524.354,1161.89 526.437,1158.41 528.519,1154.92 530.602,1151.41 532.684,1147.88 534.767,1144.34 536.849,1140.78 538.932,1137.21 541.014,1133.62 \n",
       "  543.097,1130.02 545.179,1126.41 547.262,1122.78 549.344,1119.14 551.427,1115.48 553.509,1111.81 555.592,1108.13 557.675,1104.43 559.757,1100.72 561.84,1096.99 \n",
       "  563.922,1093.26 566.005,1089.51 568.087,1085.74 570.17,1081.97 572.252,1078.18 574.335,1074.38 576.417,1070.57 578.5,1066.74 580.582,1062.91 582.665,1059.06 \n",
       "  584.747,1055.2 586.83,1051.33 588.913,1047.44 590.995,1043.55 593.078,1039.65 595.16,1035.73 597.243,1031.81 599.325,1027.87 601.408,1023.92 603.49,1019.97 \n",
       "  605.573,1016 607.655,1012.02 609.738,1008.04 611.82,1004.04 613.903,1000.03 615.985,996.02 618.068,991.997 620.151,987.964 622.233,983.923 624.316,979.873 \n",
       "  626.398,975.815 628.481,971.748 630.563,967.674 632.646,963.591 634.728,959.501 636.811,955.403 638.893,951.297 640.976,947.185 643.058,943.065 645.141,938.938 \n",
       "  647.223,934.804 649.306,930.664 651.389,926.517 653.471,922.364 655.554,918.205 657.636,914.039 659.719,909.868 661.801,905.692 663.884,901.51 665.966,897.322 \n",
       "  668.049,893.129 670.131,888.932 672.214,884.729 674.296,880.522 676.379,876.31 678.461,872.094 680.544,867.874 682.627,863.65 684.709,859.422 686.792,855.19 \n",
       "  688.874,850.955 690.957,846.717 693.039,842.475 695.122,838.23 697.204,833.983 699.287,829.733 701.369,825.48 703.452,821.225 705.534,816.968 707.617,812.709 \n",
       "  709.699,808.448 711.782,804.186 713.865,799.922 715.947,795.656 718.03,791.39 720.112,787.123 722.195,782.854 724.277,778.586 726.36,774.316 728.442,770.047 \n",
       "  730.525,765.777 732.607,761.507 734.69,757.238 736.772,752.969 738.855,748.7 740.937,744.432 743.02,740.165 745.103,735.899 747.185,731.635 749.268,727.371 \n",
       "  751.35,723.11 753.433,718.85 755.515,714.592 757.598,710.336 759.68,706.082 761.763,701.83 763.845,697.582 765.928,693.336 768.01,689.092 770.093,684.852 \n",
       "  772.175,680.616 774.258,676.382 776.341,672.152 778.423,667.926 780.506,663.704 782.588,659.486 784.671,655.272 786.753,651.063 788.836,646.858 790.918,642.658 \n",
       "  793.001,638.462 795.083,634.272 797.166,630.087 799.248,625.908 801.331,621.734 803.413,617.566 805.496,613.404 807.579,609.247 809.661,605.097 811.744,600.954 \n",
       "  813.826,596.817 815.909,592.687 817.991,588.563 820.074,584.447 822.156,580.338 824.239,576.236 826.321,572.142 828.404,568.055 830.486,563.977 832.569,559.906 \n",
       "  834.651,555.844 836.734,551.79 838.817,547.744 840.899,543.707 842.982,539.679 845.064,535.66 847.147,531.65 849.229,527.649 851.312,523.658 853.394,519.677 \n",
       "  855.477,515.705 857.559,511.743 859.642,507.791 861.724,503.85 863.807,499.919 865.889,495.998 867.972,492.088 870.055,488.189 872.137,484.301 874.22,480.425 \n",
       "  876.302,476.559 878.385,472.705 880.467,468.863 882.55,465.032 884.632,461.214 886.715,457.407 888.797,453.613 890.88,449.831 892.962,446.062 895.045,442.305 \n",
       "  897.127,438.561 899.21,434.831 901.293,431.113 903.375,427.409 905.458,423.718 907.54,420.04 909.623,416.377 911.705,412.727 913.788,409.091 915.87,405.469 \n",
       "  917.953,401.862 920.035,398.269 922.118,394.691 924.2,391.127 926.283,387.578 928.365,384.045 930.448,380.526 932.531,377.023 934.613,373.535 936.696,370.062 \n",
       "  938.778,366.606 940.861,363.165 942.943,359.74 945.026,356.331 947.108,352.939 949.191,349.563 951.273,346.203 953.356,342.86 955.438,339.534 957.521,336.224 \n",
       "  959.603,332.932 961.686,329.657 963.769,326.399 965.851,323.159 967.934,319.936 970.016,316.731 972.099,313.543 974.181,310.374 976.264,307.223 978.346,304.089 \n",
       "  980.429,300.974 982.511,297.878 984.594,294.8 986.676,291.741 988.759,288.7 990.841,285.679 992.924,282.676 995.007,279.693 997.089,276.729 999.172,273.784 \n",
       "  1001.25,270.859 1003.34,267.954 1005.42,265.068 1007.5,262.202 1009.58,259.356 1011.67,256.53 1013.75,253.724 1015.83,250.939 1017.91,248.173 1020,245.429 \n",
       "  1022.08,242.705 1024.16,240.002 1026.24,237.32 1028.33,234.658 1030.41,232.018 1032.49,229.399 1034.57,226.801 1036.66,224.224 1038.74,221.669 1040.82,219.136 \n",
       "  1042.9,216.624 1044.99,214.134 1047.07,211.665 1049.15,209.219 1051.23,206.795 1053.32,204.393 1055.4,202.013 1057.48,199.656 1059.57,197.321 1061.65,195.008 \n",
       "  1063.73,192.718 1065.81,190.451 1067.9,188.207 1069.98,185.985 1072.06,183.787 1074.14,181.611 1076.23,179.459 1078.31,177.33 1080.39,175.224 1082.47,173.142 \n",
       "  1084.56,171.083 1086.64,169.048 1088.72,167.036 1090.8,165.048 1092.89,163.084 1094.97,161.144 1097.05,159.228 1099.13,157.335 1101.22,155.467 1103.3,153.623 \n",
       "  1105.38,151.804 1107.46,150.008 1109.55,148.237 1111.63,146.491 1113.71,144.769 1115.79,143.072 1117.88,141.399 1119.96,139.751 1122.04,138.128 1124.12,136.53 \n",
       "  1126.21,134.956 1128.29,133.408 1130.37,131.885 1132.45,130.387 1134.54,128.914 1136.62,127.466 1138.7,126.044 1140.78,124.647 1142.87,123.275 1144.95,121.929 \n",
       "  1147.03,120.608 1149.11,119.313 1151.2,118.043 1153.28,116.8 1155.36,115.581 1157.44,114.389 1159.53,113.222 1161.61,112.082 1163.69,110.967 1165.77,109.878 \n",
       "  1167.86,108.815 1169.94,107.778 1172.02,106.768 1174.1,105.783 1176.19,104.824 1178.27,103.892 1180.35,102.986 1182.43,102.106 1184.52,101.253 1186.6,100.425 \n",
       "  1188.68,99.6245 1190.76,98.85 1192.85,98.102 1194.93,97.3804 1197.01,96.6853 1199.09,96.0167 1201.18,95.3746 1203.26,94.7591 1205.34,94.1702 1207.42,93.6079 \n",
       "  1209.51,93.0722 1211.59,92.5632 1213.67,92.0809 1215.76,91.6252 1217.84,91.1963 1219.92,90.794 1222,90.4186 1224.09,90.0698 1226.17,89.7479 1228.25,89.4527 \n",
       "  1230.33,89.1844 1232.42,88.9428 1234.5,88.7281 1236.58,88.5401 1238.66,88.3791 1240.75,88.2448 1242.83,88.1374 1244.91,88.0568 1246.99,88.0031 1249.08,87.9763 \n",
       "  1251.16,87.9763 1253.24,88.0031 1255.32,88.0568 1257.41,88.1374 1259.49,88.2448 1261.57,88.3791 1263.65,88.5401 1265.74,88.7281 1267.82,88.9428 1269.9,89.1844 \n",
       "  1271.98,89.4527 1274.07,89.7479 1276.15,90.0698 1278.23,90.4186 1280.31,90.794 1282.4,91.1963 1284.48,91.6252 1286.56,92.0809 1288.64,92.5632 1290.73,93.0722 \n",
       "  1292.81,93.6079 1294.89,94.1702 1296.97,94.7591 1299.06,95.3746 1301.14,96.0167 1303.22,96.6853 1305.3,97.3804 1307.39,98.102 1309.47,98.85 1311.55,99.6245 \n",
       "  1313.63,100.425 1315.72,101.253 1317.8,102.106 1319.88,102.986 1321.96,103.892 1324.05,104.824 1326.13,105.783 1328.21,106.768 1330.29,107.778 1332.38,108.815 \n",
       "  1334.46,109.878 1336.54,110.967 1338.62,112.082 1340.71,113.222 1342.79,114.389 1344.87,115.581 1346.95,116.8 1349.04,118.043 1351.12,119.313 1353.2,120.608 \n",
       "  1355.28,121.929 1357.37,123.275 1359.45,124.647 1361.53,126.044 1363.61,127.466 1365.7,128.914 1367.78,130.387 1369.86,131.885 1371.95,133.408 1374.03,134.956 \n",
       "  1376.11,136.53 1378.19,138.128 1380.28,139.751 1382.36,141.399 1384.44,143.072 1386.52,144.769 1388.61,146.491 1390.69,148.237 1392.77,150.008 1394.85,151.804 \n",
       "  1396.94,153.623 1399.02,155.467 1401.1,157.335 1403.18,159.228 1405.27,161.144 1407.35,163.084 1409.43,165.048 1411.51,167.036 1413.6,169.048 1415.68,171.083 \n",
       "  1417.76,173.142 1419.84,175.224 1421.93,177.33 1424.01,179.459 1426.09,181.611 1428.17,183.787 1430.26,185.985 1432.34,188.207 1434.42,190.451 1436.5,192.718 \n",
       "  1438.59,195.008 1440.67,197.321 1442.75,199.656 1444.83,202.013 1446.92,204.393 1449,206.795 1451.08,209.219 1453.16,211.665 1455.25,214.134 1457.33,216.624 \n",
       "  1459.41,219.136 1461.49,221.669 1463.58,224.224 1465.66,226.801 1467.74,229.399 1469.82,232.018 1471.91,234.658 1473.99,237.32 1476.07,240.002 1478.15,242.705 \n",
       "  1480.24,245.429 1482.32,248.173 1484.4,250.939 1486.48,253.724 1488.57,256.53 1490.65,259.356 1492.73,262.202 1494.81,265.068 1496.9,267.954 1498.98,270.859 \n",
       "  1501.06,273.784 1503.14,276.729 1505.23,279.693 1507.31,282.676 1509.39,285.679 1511.47,288.7 1513.56,291.741 1515.64,294.8 1517.72,297.878 1519.8,300.974 \n",
       "  1521.89,304.089 1523.97,307.223 1526.05,310.374 1528.14,313.543 1530.22,316.731 1532.3,319.936 1534.38,323.159 1536.47,326.399 1538.55,329.657 1540.63,332.932 \n",
       "  1542.71,336.224 1544.8,339.534 1546.88,342.86 1548.96,346.203 1551.04,349.563 1553.13,352.939 1555.21,356.331 1557.29,359.74 1559.37,363.165 1561.46,366.606 \n",
       "  1563.54,370.062 1565.62,373.535 1567.7,377.023 1569.79,380.526 1571.87,384.045 1573.95,387.578 1576.03,391.127 1578.12,394.691 1580.2,398.269 1582.28,401.862 \n",
       "  1584.36,405.469 1586.45,409.091 1588.53,412.727 1590.61,416.377 1592.69,420.04 1594.78,423.718 1596.86,427.409 1598.94,431.113 1601.02,434.831 1603.11,438.561 \n",
       "  1605.19,442.305 1607.27,446.062 1609.35,449.831 1611.44,453.613 1613.52,457.407 1615.6,461.214 1617.68,465.032 1619.77,468.863 1621.85,472.705 1623.93,476.559 \n",
       "  1626.01,480.425 1628.1,484.301 1630.18,488.189 1632.26,492.088 1634.34,495.998 1636.43,499.919 1638.51,503.85 1640.59,507.791 1642.67,511.743 1644.76,515.705 \n",
       "  1646.84,519.677 1648.92,523.658 1651,527.649 1653.09,531.65 1655.17,535.66 1657.25,539.679 1659.33,543.707 1661.42,547.744 1663.5,551.79 1665.58,555.844 \n",
       "  1667.66,559.906 1669.75,563.977 1671.83,568.055 1673.91,572.142 1676,576.236 1678.08,580.338 1680.16,584.447 1682.24,588.563 1684.33,592.687 1686.41,596.817 \n",
       "  1688.49,600.954 1690.57,605.097 1692.66,609.247 1694.74,613.404 1696.82,617.566 1698.9,621.734 1700.99,625.908 1703.07,630.087 1705.15,634.272 1707.23,638.462 \n",
       "  1709.32,642.658 1711.4,646.858 1713.48,651.063 1715.56,655.272 1717.65,659.486 1719.73,663.704 1721.81,667.926 1723.89,672.152 1725.98,676.382 1728.06,680.616 \n",
       "  1730.14,684.852 1732.22,689.092 1734.31,693.336 1736.39,697.582 1738.47,701.83 1740.55,706.082 1742.64,710.336 1744.72,714.592 1746.8,718.85 1748.88,723.11 \n",
       "  1750.97,727.371 1753.05,731.635 1755.13,735.899 1757.21,740.165 1759.3,744.432 1761.38,748.7 1763.46,752.969 1765.54,757.238 1767.63,761.507 1769.71,765.777 \n",
       "  1771.79,770.047 1773.87,774.316 1775.96,778.586 1778.04,782.854 1780.12,787.123 1782.2,791.39 1784.29,795.656 1786.37,799.922 1788.45,804.186 1790.53,808.448 \n",
       "  1792.62,812.709 1794.7,816.968 1796.78,821.225 1798.86,825.48 1800.95,829.733 1803.03,833.983 1805.11,838.23 1807.19,842.475 1809.28,846.717 1811.36,850.955 \n",
       "  1813.44,855.19 1815.52,859.422 1817.61,863.65 1819.69,867.874 1821.77,872.094 1823.85,876.31 1825.94,880.522 1828.02,884.729 1830.1,888.932 1832.19,893.129 \n",
       "  1834.27,897.322 1836.35,901.51 1838.43,905.692 1840.52,909.868 1842.6,914.039 1844.68,918.205 1846.76,922.364 1848.85,926.517 1850.93,930.664 1853.01,934.804 \n",
       "  1855.09,938.938 1857.18,943.065 1859.26,947.185 1861.34,951.297 1863.42,955.403 1865.51,959.501 1867.59,963.591 1869.67,967.674 1871.75,971.748 1873.84,975.815 \n",
       "  1875.92,979.873 1878,983.923 1880.08,987.964 1882.17,991.997 1884.25,996.02 1886.33,1000.03 1888.41,1004.04 1890.5,1008.04 1892.58,1012.02 1894.66,1016 \n",
       "  1896.74,1019.97 1898.83,1023.92 1900.91,1027.87 1902.99,1031.81 1905.07,1035.73 1907.16,1039.65 1909.24,1043.55 1911.32,1047.44 1913.4,1051.33 1915.49,1055.2 \n",
       "  1917.57,1059.06 1919.65,1062.91 1921.73,1066.74 1923.82,1070.57 1925.9,1074.38 1927.98,1078.18 1930.06,1081.97 1932.15,1085.74 1934.23,1089.51 1936.31,1093.26 \n",
       "  1938.39,1096.99 1940.48,1100.72 1942.56,1104.43 1944.64,1108.13 1946.72,1111.81 1948.81,1115.48 1950.89,1119.14 1952.97,1122.78 1955.05,1126.41 1957.14,1130.02 \n",
       "  1959.22,1133.62 1961.3,1137.21 1963.38,1140.78 1965.47,1144.34 1967.55,1147.88 1969.63,1151.41 1971.71,1154.92 1973.8,1158.41 1975.88,1161.89 1977.96,1165.36 \n",
       "  1980.04,1168.81 1982.13,1172.24 1984.21,1175.66 1986.29,1179.06 1988.38,1182.44 1990.46,1185.81 1992.54,1189.16 1994.62,1192.49 1996.71,1195.81 1998.79,1199.11 \n",
       "  2000.87,1202.4 2002.95,1205.66 2005.04,1208.91 2007.12,1212.14 2009.2,1215.36 2011.28,1218.55 2013.37,1221.73 2015.45,1224.89 2017.53,1228.03 2019.61,1231.16 \n",
       "  2021.7,1234.26 2023.78,1237.35 2025.86,1240.42 2027.94,1243.47 2030.03,1246.5 2032.11,1249.51 2034.19,1252.51 2036.27,1255.48 2038.36,1258.43 2040.44,1261.37 \n",
       "  2042.52,1264.28 2044.6,1267.18 2046.69,1270.06 2048.77,1272.91 2050.85,1275.75 2052.93,1278.56 2055.02,1281.36 2057.1,1284.14 2059.18,1286.89 2061.26,1289.62 \n",
       "  2063.35,1292.34 2065.43,1295.03 2067.51,1297.7 2069.59,1300.35 2071.68,1302.98 2073.76,1305.59 2075.84,1308.18 2077.92,1310.74 2080.01,1313.29 2082.09,1315.81 \n",
       "  2084.17,1318.31 2086.25,1320.79 2088.34,1323.25 2090.42,1325.68 2092.5,1328.1 2094.58,1330.49 2096.67,1332.86 2098.75,1335.2 2100.83,1337.53 2102.91,1339.83 \n",
       "  2105,1342.11 2107.08,1344.36 2109.16,1346.6 2111.24,1348.81 2113.33,1350.99 2115.41,1353.16 2117.49,1355.3 2119.57,1357.41 2121.66,1359.51 2123.74,1361.58 \n",
       "  2125.82,1363.63 2127.9,1365.65 2129.99,1367.65 2132.07,1369.63 2134.15,1371.58 2136.23,1373.51 2138.32,1375.41 2140.4,1377.29 2142.48,1379.15 2144.57,1380.98 \n",
       "  2146.65,1382.79 2148.73,1384.57 2150.81,1386.33 2152.9,1388.06 2154.98,1389.77 2157.06,1391.46 2159.14,1393.12 2161.23,1394.75 2163.31,1396.36 2165.39,1397.95 \n",
       "  2167.47,1399.51 2169.56,1401.05 2171.64,1402.56 2173.72,1404.04 2175.8,1405.5 2177.89,1406.94 2179.97,1408.35 2182.05,1409.73 2184.13,1411.09 2186.22,1412.42 \n",
       "  2188.3,1413.73 2190.38,1415.01 2192.46,1416.27 2194.55,1417.5 2196.63,1418.71 2198.71,1419.89 2200.79,1421.04 2202.88,1422.17 2204.96,1423.27 2207.04,1424.35 \n",
       "  2209.12,1425.4 2211.21,1426.42 2213.29,1427.42 2215.37,1428.39 2217.45,1429.33 2219.54,1430.25 2221.62,1431.15 2223.7,1432.01 2225.78,1432.85 2227.87,1433.67 \n",
       "  2229.95,1434.45 2232.03,1435.22 2234.11,1435.95 2236.2,1436.66 2238.28,1437.34 2240.36,1438 2242.44,1438.63 2244.53,1439.23 2246.61,1439.8 2248.69,1440.35 \n",
       "  2250.77,1440.87 2252.86,1441.37 2254.94,1441.84 2257.02,1442.28 2259.1,1442.7 2261.19,1443.09 2263.27,1443.45 2265.35,1443.78 2267.43,1444.09 2269.52,1444.37 \n",
       "  2271.6,1444.63 2273.68,1444.86 2275.76,1445.06 2277.85,1445.23 2279.93,1445.38 2282.01,1445.5 2284.09,1445.59 2286.18,1445.66 2288.26,1445.7 2290.34,1445.72 \n",
       "  \n",
       "  \"/>\n",
       "<polyline clip-path=\"url(#clip862)\" style=\"stroke:#3da44d; stroke-linecap:butt; stroke-linejoin:round; stroke-width:4; stroke-opacity:1; fill:none\" points=\"\n",
       "  209.891,766.844 211.974,768.979 214.057,771.114 216.139,773.249 218.222,775.383 220.304,777.517 222.387,779.65 224.469,781.784 226.552,783.916 228.634,786.048 \n",
       "  230.717,788.179 232.799,790.309 234.882,792.438 236.964,794.567 239.047,796.694 241.129,798.82 243.212,800.945 245.295,803.068 247.377,805.19 249.46,807.31 \n",
       "  251.542,809.429 253.625,811.546 255.707,813.662 257.79,815.775 259.872,817.887 261.955,819.996 264.037,822.104 266.12,824.209 268.202,826.312 270.285,828.413 \n",
       "  272.367,830.511 274.45,832.607 276.533,834.7 278.615,836.79 280.698,838.878 282.78,840.963 284.863,843.045 286.945,845.124 289.028,847.199 291.11,849.272 \n",
       "  293.193,851.341 295.275,853.407 297.358,855.47 299.44,857.529 301.523,859.584 303.605,861.636 305.688,863.684 307.771,865.728 309.853,867.769 311.936,869.805 \n",
       "  314.018,871.837 316.101,873.865 318.183,875.889 320.266,877.909 322.348,879.924 324.431,881.935 326.513,883.941 328.596,885.942 330.678,887.939 332.761,889.931 \n",
       "  334.843,891.918 336.926,893.9 339.009,895.877 341.091,897.849 343.174,899.816 345.256,901.778 347.339,903.734 349.421,905.685 351.504,907.63 353.586,909.57 \n",
       "  355.669,911.504 357.751,913.433 359.834,915.355 361.916,917.272 363.999,919.183 366.081,921.088 368.164,922.986 370.247,924.879 372.329,926.765 374.412,928.645 \n",
       "  376.494,930.518 378.577,932.385 380.659,934.246 382.742,936.1 384.824,937.947 386.907,939.787 388.989,941.621 391.072,943.448 393.154,945.267 395.237,947.08 \n",
       "  397.319,948.885 399.402,950.684 401.485,952.475 403.567,954.258 405.65,956.034 407.732,957.803 409.815,959.564 411.897,961.318 413.98,963.064 416.062,964.802 \n",
       "  418.145,966.532 420.227,968.255 422.31,969.969 424.392,971.675 426.475,973.374 428.557,975.064 430.64,976.746 432.723,978.419 434.805,980.085 436.888,981.741 \n",
       "  438.97,983.39 441.053,985.029 443.135,986.66 445.218,988.283 447.3,989.896 449.383,991.501 451.465,993.097 453.548,994.684 455.63,996.262 457.713,997.831 \n",
       "  459.795,999.391 461.878,1000.94 463.961,1002.48 466.043,1004.01 468.126,1005.54 470.208,1007.05 472.291,1008.55 474.373,1010.05 476.456,1011.53 478.538,1013.01 \n",
       "  480.621,1014.47 482.703,1015.93 484.786,1017.37 486.868,1018.81 488.951,1020.23 491.033,1021.65 493.116,1023.05 495.199,1024.45 497.281,1025.84 499.364,1027.21 \n",
       "  501.446,1028.57 503.529,1029.93 505.611,1031.27 507.694,1032.61 509.776,1033.93 511.859,1035.24 513.941,1036.54 516.024,1037.83 518.106,1039.11 520.189,1040.38 \n",
       "  522.271,1041.64 524.354,1042.89 526.437,1044.13 528.519,1045.35 530.602,1046.57 532.684,1047.77 534.767,1048.96 536.849,1050.15 538.932,1051.32 541.014,1052.47 \n",
       "  543.097,1053.62 545.179,1054.76 547.262,1055.88 549.344,1057 551.427,1058.1 553.509,1059.19 555.592,1060.27 557.675,1061.34 559.757,1062.39 561.84,1063.44 \n",
       "  563.922,1064.47 566.005,1065.49 568.087,1066.5 570.17,1067.5 572.252,1068.48 574.335,1069.45 576.417,1070.41 578.5,1071.36 580.582,1072.3 582.665,1073.23 \n",
       "  584.747,1074.14 586.83,1075.04 588.913,1075.93 590.995,1076.8 593.078,1077.67 595.16,1078.52 597.243,1079.36 599.325,1080.19 601.408,1081 603.49,1081.8 \n",
       "  605.573,1082.59 607.655,1083.37 609.738,1084.13 611.82,1084.89 613.903,1085.63 615.985,1086.35 618.068,1087.07 620.151,1087.77 622.233,1088.46 624.316,1089.13 \n",
       "  626.398,1089.8 628.481,1090.45 630.563,1091.09 632.646,1091.71 634.728,1092.32 636.811,1092.92 638.893,1093.51 640.976,1094.08 643.058,1094.64 645.141,1095.19 \n",
       "  647.223,1095.73 649.306,1096.25 651.389,1096.76 653.471,1097.25 655.554,1097.74 657.636,1098.21 659.719,1098.66 661.801,1099.1 663.884,1099.53 665.966,1099.95 \n",
       "  668.049,1100.36 670.131,1100.75 672.214,1101.12 674.296,1101.49 676.379,1101.84 678.461,1102.18 680.544,1102.5 682.627,1102.81 684.709,1103.11 686.792,1103.39 \n",
       "  688.874,1103.66 690.957,1103.92 693.039,1104.17 695.122,1104.4 697.204,1104.62 699.287,1104.82 701.369,1105.01 703.452,1105.19 705.534,1105.35 707.617,1105.5 \n",
       "  709.699,1105.64 711.782,1105.77 713.865,1105.88 715.947,1105.97 718.03,1106.06 720.112,1106.13 722.195,1106.19 724.277,1106.23 726.36,1106.26 728.442,1106.28 \n",
       "  730.525,1106.28 732.607,1106.27 734.69,1106.25 736.772,1106.21 738.855,1106.16 740.937,1106.09 743.02,1106.02 745.103,1105.93 747.185,1105.82 749.268,1105.71 \n",
       "  751.35,1105.57 753.433,1105.43 755.515,1105.27 757.598,1105.1 759.68,1104.92 761.763,1104.72 763.845,1104.51 765.928,1104.28 768.01,1104.05 770.093,1103.8 \n",
       "  772.175,1103.53 774.258,1103.25 776.341,1102.96 778.423,1102.66 780.506,1102.34 782.588,1102.01 784.671,1101.66 786.753,1101.31 788.836,1100.94 790.918,1100.55 \n",
       "  793.001,1100.16 795.083,1099.74 797.166,1099.32 799.248,1098.88 801.331,1098.43 803.413,1097.97 805.496,1097.5 807.579,1097.01 809.661,1096.5 811.744,1095.99 \n",
       "  813.826,1095.46 815.909,1094.92 817.991,1094.37 820.074,1093.8 822.156,1093.22 824.239,1092.63 826.321,1092.02 828.404,1091.4 830.486,1090.77 832.569,1090.13 \n",
       "  834.651,1089.47 836.734,1088.8 838.817,1088.12 840.899,1087.42 842.982,1086.71 845.064,1085.99 847.147,1085.26 849.229,1084.51 851.312,1083.75 853.394,1082.98 \n",
       "  855.477,1082.2 857.559,1081.4 859.642,1080.59 861.724,1079.77 863.807,1078.94 865.889,1078.1 867.972,1077.24 870.055,1076.37 872.137,1075.48 874.22,1074.59 \n",
       "  876.302,1073.68 878.385,1072.76 880.467,1071.83 882.55,1070.89 884.632,1069.94 886.715,1068.97 888.797,1067.99 890.88,1067 892.962,1066 895.045,1064.98 \n",
       "  897.127,1063.95 899.21,1062.92 901.293,1061.87 903.375,1060.8 905.458,1059.73 907.54,1058.65 909.623,1057.55 911.705,1056.44 913.788,1055.32 915.87,1054.19 \n",
       "  917.953,1053.05 920.035,1051.9 922.118,1050.73 924.2,1049.56 926.283,1048.37 928.365,1047.17 930.448,1045.96 932.531,1044.74 934.613,1043.51 936.696,1042.27 \n",
       "  938.778,1041.01 940.861,1039.75 942.943,1038.47 945.026,1037.19 947.108,1035.89 949.191,1034.59 951.273,1033.27 953.356,1031.94 955.438,1030.6 957.521,1029.25 \n",
       "  959.603,1027.89 961.686,1026.52 963.769,1025.14 965.851,1023.75 967.934,1022.35 970.016,1020.94 972.099,1019.52 974.181,1018.09 976.264,1016.65 978.346,1015.2 \n",
       "  980.429,1013.74 982.511,1012.27 984.594,1010.79 986.676,1009.3 988.759,1007.8 990.841,1006.29 992.924,1004.78 995.007,1003.25 997.089,1001.71 999.172,1000.17 \n",
       "  1001.25,998.612 1003.34,997.048 1005.42,995.474 1007.5,993.892 1009.58,992.3 1011.67,990.7 1013.75,989.091 1015.83,987.473 1017.91,985.846 1020,984.211 \n",
       "  1022.08,982.567 1024.16,980.914 1026.24,979.253 1028.33,977.584 1030.41,975.906 1032.49,974.22 1034.57,972.526 1036.66,970.823 1038.74,969.113 1040.82,967.394 \n",
       "  1042.9,965.668 1044.99,963.934 1047.07,962.192 1049.15,960.442 1051.23,958.685 1053.32,956.92 1055.4,955.147 1057.48,953.367 1059.57,951.58 1061.65,949.785 \n",
       "  1063.73,947.983 1065.81,946.174 1067.9,944.358 1069.98,942.535 1072.06,940.705 1074.14,938.868 1076.23,937.024 1078.31,935.174 1080.39,933.316 1082.47,931.453 \n",
       "  1084.56,929.582 1086.64,927.706 1088.72,925.823 1090.8,923.933 1092.89,922.038 1094.97,920.136 1097.05,918.228 1099.13,916.314 1101.22,914.395 1103.3,912.469 \n",
       "  1105.38,910.538 1107.46,908.601 1109.55,906.658 1111.63,904.71 1113.71,902.757 1115.79,900.798 1117.88,898.833 1119.96,896.864 1122.04,894.889 1124.12,892.91 \n",
       "  1126.21,890.925 1128.29,888.935 1130.37,886.941 1132.45,884.942 1134.54,882.938 1136.62,880.93 1138.7,878.917 1140.78,876.899 1142.87,874.878 1144.95,872.852 \n",
       "  1147.03,870.822 1149.11,868.787 1151.2,866.749 1153.28,864.707 1155.36,862.661 1157.44,860.611 1159.53,858.557 1161.61,856.5 1163.69,854.439 1165.77,852.375 \n",
       "  1167.86,850.307 1169.94,848.236 1172.02,846.162 1174.1,844.085 1176.19,842.004 1178.27,839.921 1180.35,837.835 1182.43,835.745 1184.52,833.654 1186.6,831.559 \n",
       "  1188.68,829.462 1190.76,827.363 1192.85,825.261 1194.93,823.157 1197.01,821.05 1199.09,818.942 1201.18,816.831 1203.26,814.719 1205.34,812.604 1207.42,810.488 \n",
       "  1209.51,808.37 1211.59,806.25 1213.67,804.129 1215.76,802.007 1217.84,799.882 1219.92,797.757 1222,795.63 1224.09,793.503 1226.17,791.374 1228.25,789.244 \n",
       "  1230.33,787.114 1232.42,784.982 1234.5,782.85 1236.58,780.717 1238.66,778.584 1240.75,776.45 1242.83,774.316 1244.91,772.181 1246.99,770.047 1249.08,767.912 \n",
       "  1251.16,765.777 1253.24,763.642 1255.32,761.507 1257.41,759.373 1259.49,757.239 1261.57,755.105 1263.65,752.972 1265.74,750.839 1267.82,748.707 1269.9,746.575 \n",
       "  1271.98,744.444 1274.07,742.315 1276.15,740.186 1278.23,738.058 1280.31,735.932 1282.4,733.806 1284.48,731.682 1286.56,729.559 1288.64,727.438 1290.73,725.319 \n",
       "  1292.81,723.201 1294.89,721.084 1296.97,718.97 1299.06,716.857 1301.14,714.747 1303.22,712.638 1305.3,710.532 1307.39,708.428 1309.47,706.326 1311.55,704.226 \n",
       "  1313.63,702.129 1315.72,700.035 1317.8,697.943 1319.88,695.854 1321.96,693.768 1324.05,691.684 1326.13,689.604 1328.21,687.527 1330.29,685.453 1332.38,683.382 \n",
       "  1334.46,681.314 1336.54,679.25 1338.62,677.189 1340.71,675.132 1342.79,673.078 1344.87,671.028 1346.95,668.982 1349.04,666.94 1351.12,664.901 1353.2,662.867 \n",
       "  1355.28,660.837 1357.37,658.811 1359.45,656.789 1361.53,654.772 1363.61,652.759 1365.7,650.75 1367.78,648.747 1369.86,646.748 1371.95,644.753 1374.03,642.764 \n",
       "  1376.11,640.779 1378.19,638.799 1380.28,636.825 1382.36,634.855 1384.44,632.891 1386.52,630.932 1388.61,628.978 1390.69,627.03 1392.77,625.088 1394.85,623.151 \n",
       "  1396.94,621.219 1399.02,619.294 1401.1,617.374 1403.18,615.46 1405.27,613.553 1407.35,611.651 1409.43,609.755 1411.51,607.866 1413.6,605.983 1415.68,604.106 \n",
       "  1417.76,602.236 1419.84,600.372 1421.93,598.515 1424.01,596.664 1426.09,594.821 1428.17,592.984 1430.26,591.154 1432.34,589.33 1434.42,587.514 1436.5,585.705 \n",
       "  1438.59,583.903 1440.67,582.109 1442.75,580.321 1444.83,578.541 1446.92,576.769 1449,575.004 1451.08,573.246 1453.16,571.497 1455.25,569.755 1457.33,568.021 \n",
       "  1459.41,566.294 1461.49,564.576 1463.58,562.865 1465.66,561.163 1467.74,559.469 1469.82,557.783 1471.91,556.105 1473.99,554.436 1476.07,552.775 1478.15,551.122 \n",
       "  1480.24,549.478 1482.32,547.843 1484.4,546.216 1486.48,544.598 1488.57,542.989 1490.65,541.388 1492.73,539.797 1494.81,538.214 1496.9,536.641 1498.98,535.077 \n",
       "  1501.06,533.521 1503.14,531.976 1505.23,530.439 1507.31,528.912 1509.39,527.394 1511.47,525.885 1513.56,524.387 1515.64,522.897 1517.72,521.418 1519.8,519.948 \n",
       "  1521.89,518.488 1523.97,517.037 1526.05,515.597 1528.14,514.166 1530.22,512.746 1532.3,511.335 1534.38,509.935 1536.47,508.545 1538.55,507.165 1540.63,505.795 \n",
       "  1542.71,504.436 1544.8,503.087 1546.88,501.748 1548.96,500.42 1551.04,499.103 1553.13,497.796 1555.21,496.499 1557.29,495.214 1559.37,493.939 1561.46,492.675 \n",
       "  1563.54,491.422 1565.62,490.179 1567.7,488.948 1569.79,487.728 1571.87,486.518 1573.95,485.32 1576.03,484.133 1578.12,482.957 1580.2,481.792 1582.28,480.639 \n",
       "  1584.36,479.497 1586.45,478.366 1588.53,477.247 1590.61,476.139 1592.69,475.042 1594.78,473.958 1596.86,472.884 1598.94,471.823 1601.02,470.773 1603.11,469.735 \n",
       "  1605.19,468.708 1607.27,467.693 1609.35,466.691 1611.44,465.7 1613.52,464.721 1615.6,463.753 1617.68,462.798 1619.77,461.855 1621.85,460.924 1623.93,460.005 \n",
       "  1626.01,459.098 1628.1,458.204 1630.18,457.321 1632.26,456.451 1634.34,455.593 1636.43,454.748 1638.51,453.915 1640.59,453.094 1642.67,452.285 1644.76,451.489 \n",
       "  1646.84,450.706 1648.92,449.935 1651,449.176 1653.09,448.43 1655.17,447.697 1657.25,446.976 1659.33,446.268 1661.42,445.573 1663.5,444.89 1665.58,444.22 \n",
       "  1667.66,443.563 1669.75,442.919 1671.83,442.287 1673.91,441.668 1676,441.063 1678.08,440.47 1680.16,439.89 1682.24,439.322 1684.33,438.768 1686.41,438.227 \n",
       "  1688.49,437.699 1690.57,437.184 1692.66,436.682 1694.74,436.193 1696.82,435.717 1698.9,435.254 1700.99,434.804 1703.07,434.367 1705.15,433.944 1707.23,433.533 \n",
       "  1709.32,433.136 1711.4,432.752 1713.48,432.382 1715.56,432.024 1717.65,431.68 1719.73,431.349 1721.81,431.031 1723.89,430.727 1725.98,430.436 1728.06,430.158 \n",
       "  1730.14,429.893 1732.22,429.642 1734.31,429.404 1736.39,429.18 1738.47,428.969 1740.55,428.771 1742.64,428.587 1744.72,428.416 1746.8,428.258 1748.88,428.114 \n",
       "  1750.97,427.983 1753.05,427.865 1755.13,427.761 1757.21,427.671 1759.3,427.594 1761.38,427.53 1763.46,427.48 1765.54,427.443 1767.63,427.419 1769.71,427.409 \n",
       "  1771.79,427.412 1773.87,427.429 1775.96,427.459 1778.04,427.503 1780.12,427.56 1782.2,427.631 1784.29,427.714 1786.37,427.812 1788.45,427.922 1790.53,428.047 \n",
       "  1792.62,428.184 1794.7,428.335 1796.78,428.499 1798.86,428.677 1800.95,428.868 1803.03,429.073 1805.11,429.29 1807.19,429.522 1809.28,429.766 1811.36,430.024 \n",
       "  1813.44,430.295 1815.52,430.58 1817.61,430.877 1819.69,431.188 1821.77,431.513 1823.85,431.85 1825.94,432.201 1828.02,432.565 1830.1,432.943 1832.19,433.333 \n",
       "  1834.27,433.737 1836.35,434.154 1838.43,434.584 1840.52,435.027 1842.6,435.483 1844.68,435.953 1846.76,436.435 1848.85,436.931 1850.93,437.44 1853.01,437.961 \n",
       "  1855.09,438.496 1857.18,439.044 1859.26,439.604 1861.34,440.178 1863.42,440.765 1865.51,441.364 1867.59,441.976 1869.67,442.601 1871.75,443.239 1873.84,443.89 \n",
       "  1875.92,444.554 1878,445.23 1880.08,445.919 1882.17,446.621 1884.25,447.335 1886.33,448.062 1888.41,448.802 1890.5,449.554 1892.58,450.319 1894.66,451.096 \n",
       "  1896.74,451.886 1898.83,452.688 1900.91,453.503 1902.99,454.33 1905.07,455.169 1907.16,456.021 1909.24,456.885 1911.32,457.761 1913.4,458.65 1915.49,459.55 \n",
       "  1917.57,460.463 1919.65,461.388 1921.73,462.325 1923.82,463.274 1925.9,464.235 1927.98,465.209 1930.06,466.194 1932.15,467.191 1934.23,468.199 1936.31,469.22 \n",
       "  1938.39,470.252 1940.48,471.296 1942.56,472.352 1944.64,473.42 1946.72,474.499 1948.81,475.589 1950.89,476.691 1952.97,477.805 1955.05,478.93 1957.14,480.066 \n",
       "  1959.22,481.214 1961.3,482.373 1963.38,483.544 1965.47,484.725 1967.55,485.918 1969.63,487.122 1971.71,488.336 1973.8,489.562 1975.88,490.799 1977.96,492.047 \n",
       "  1980.04,493.306 1982.13,494.575 1984.21,495.855 1986.29,497.146 1988.38,498.448 1990.46,499.76 1992.54,501.083 1994.62,502.416 1996.71,503.76 1998.79,505.114 \n",
       "  2000.87,506.479 2002.95,507.854 2005.04,509.239 2007.12,510.634 2009.2,512.039 2011.28,513.455 2013.37,514.88 2015.45,516.316 2017.53,517.761 2019.61,519.216 \n",
       "  2021.7,520.681 2023.78,522.156 2025.86,523.641 2027.94,525.135 2030.03,526.638 2032.11,528.152 2034.19,529.674 2036.27,531.206 2038.36,532.747 2040.44,534.298 \n",
       "  2042.52,535.858 2044.6,537.427 2046.69,539.004 2048.77,540.591 2050.85,542.187 2052.93,543.792 2055.02,545.406 2057.1,547.028 2059.18,548.659 2061.26,550.299 \n",
       "  2063.35,551.947 2065.43,553.604 2067.51,555.269 2069.59,556.943 2071.68,558.625 2073.76,560.315 2075.84,562.013 2077.92,563.72 2080.01,565.434 2082.09,567.156 \n",
       "  2084.17,568.887 2086.25,570.625 2088.34,572.371 2090.42,574.124 2092.5,575.885 2094.58,577.654 2096.67,579.43 2098.75,581.214 2100.83,583.005 2102.91,584.803 \n",
       "  2105,586.609 2107.08,588.421 2109.16,590.241 2111.24,592.068 2113.33,593.901 2115.41,595.742 2117.49,597.589 2119.57,599.443 2121.66,601.303 2123.74,603.17 \n",
       "  2125.82,605.044 2127.9,606.924 2129.99,608.81 2132.07,610.702 2134.15,612.601 2136.23,614.506 2138.32,616.417 2140.4,618.333 2142.48,620.256 2144.57,622.184 \n",
       "  2146.65,624.119 2148.73,626.058 2150.81,628.004 2152.9,629.955 2154.98,631.911 2157.06,633.872 2159.14,635.839 2161.23,637.811 2163.31,639.788 2165.39,641.771 \n",
       "  2167.47,643.758 2169.56,645.75 2171.64,647.746 2173.72,649.748 2175.8,651.754 2177.89,653.765 2179.97,655.78 2182.05,657.799 2184.13,659.823 2186.22,661.851 \n",
       "  2188.3,663.884 2190.38,665.92 2192.46,667.96 2194.55,670.004 2196.63,672.053 2198.71,674.104 2200.79,676.16 2202.88,678.219 2204.96,680.281 2207.04,682.347 \n",
       "  2209.12,684.417 2211.21,686.489 2213.29,688.565 2215.37,690.644 2217.45,692.726 2219.54,694.811 2221.62,696.898 2223.7,698.989 2225.78,701.082 2227.87,703.177 \n",
       "  2229.95,705.276 2232.03,707.376 2234.11,709.479 2236.2,711.585 2238.28,713.692 2240.36,715.802 2242.44,717.913 2244.53,720.027 2246.61,722.142 2248.69,724.259 \n",
       "  2250.77,726.378 2252.86,728.499 2254.94,730.621 2257.02,732.744 2259.1,734.869 2261.19,736.995 2263.27,739.122 2265.35,741.25 2267.43,743.379 2269.52,745.51 \n",
       "  2271.6,747.641 2273.68,749.773 2275.76,751.905 2277.85,754.038 2279.93,756.172 2282.01,758.306 2284.09,760.44 2286.18,762.575 2288.26,764.709 2290.34,766.844 \n",
       "  \n",
       "  \"/>\n",
       "<path clip-path=\"url(#clip860)\" d=\"\n",
       "M1866.79 302.578 L2279.25 302.578 L2279.25 95.2176 L1866.79 95.2176  Z\n",
       "  \" fill=\"#ffffff\" fill-rule=\"evenodd\" fill-opacity=\"1\"/>\n",
       "<polyline clip-path=\"url(#clip860)\" style=\"stroke:#000000; stroke-linecap:butt; stroke-linejoin:round; stroke-width:4; stroke-opacity:1; fill:none\" points=\"\n",
       "  1866.79,302.578 2279.25,302.578 2279.25,95.2176 1866.79,95.2176 1866.79,302.578 \n",
       "  \"/>\n",
       "<polyline clip-path=\"url(#clip860)\" style=\"stroke:#009af9; stroke-linecap:butt; stroke-linejoin:round; stroke-width:4; stroke-opacity:1; fill:none\" points=\"\n",
       "  1891.29,147.058 2038.31,147.058 \n",
       "  \"/>\n",
       "<path clip-path=\"url(#clip860)\" d=\"M2083.32 139.407 L2083.32 143.389 Q2081.51 142.393 2079.69 141.907 Q2077.88 141.398 2076.03 141.398 Q2071.88 141.398 2069.59 144.037 Q2067.3 146.652 2067.3 151.398 Q2067.3 156.143 2069.59 158.782 Q2071.88 161.398 2076.03 161.398 Q2077.88 161.398 2079.69 160.912 Q2081.51 160.402 2083.32 159.407 L2083.32 163.342 Q2081.54 164.176 2079.62 164.592 Q2077.72 165.009 2075.57 165.009 Q2069.71 165.009 2066.26 161.328 Q2062.81 157.648 2062.81 151.398 Q2062.81 145.055 2066.28 141.421 Q2069.78 137.787 2075.84 137.787 Q2077.81 137.787 2079.69 138.203 Q2081.56 138.597 2083.32 139.407 Z\" fill=\"#000000\" fill-rule=\"evenodd\" fill-opacity=\"1\" /><path clip-path=\"url(#clip860)\" d=\"M2100.77 141.398 Q2097.35 141.398 2095.36 144.083 Q2093.37 146.745 2093.37 151.398 Q2093.37 156.051 2095.33 158.736 Q2097.32 161.398 2100.77 161.398 Q2104.18 161.398 2106.17 158.713 Q2108.16 156.027 2108.16 151.398 Q2108.16 146.791 2106.17 144.106 Q2104.18 141.398 2100.77 141.398 M2100.77 137.787 Q2106.33 137.787 2109.5 141.398 Q2112.67 145.009 2112.67 151.398 Q2112.67 157.764 2109.5 161.398 Q2106.33 165.009 2100.77 165.009 Q2095.19 165.009 2092.02 161.398 Q2088.88 157.764 2088.88 151.398 Q2088.88 145.009 2092.02 141.398 Q2095.19 137.787 2100.77 137.787 Z\" fill=\"#000000\" fill-rule=\"evenodd\" fill-opacity=\"1\" /><path clip-path=\"url(#clip860)\" d=\"M2136.26 139.176 L2136.26 143.203 Q2134.45 142.277 2132.51 141.815 Q2130.57 141.352 2128.48 141.352 Q2125.31 141.352 2123.71 142.324 Q2122.14 143.296 2122.14 145.24 Q2122.14 146.722 2123.27 147.578 Q2124.41 148.412 2127.83 149.176 L2129.29 149.5 Q2133.83 150.472 2135.73 152.254 Q2137.65 154.014 2137.65 157.185 Q2137.65 160.796 2134.78 162.902 Q2131.93 165.009 2126.93 165.009 Q2124.85 165.009 2122.58 164.592 Q2120.33 164.199 2117.83 163.388 L2117.83 158.99 Q2120.19 160.217 2122.49 160.842 Q2124.78 161.444 2127.02 161.444 Q2130.03 161.444 2131.65 160.426 Q2133.27 159.384 2133.27 157.509 Q2133.27 155.773 2132.09 154.847 Q2130.94 153.921 2126.98 153.064 L2125.5 152.717 Q2121.54 151.884 2119.78 150.171 Q2118.02 148.435 2118.02 145.426 Q2118.02 141.768 2120.61 139.778 Q2123.2 137.787 2127.97 137.787 Q2130.33 137.787 2132.42 138.134 Q2134.5 138.481 2136.26 139.176 Z\" fill=\"#000000\" fill-rule=\"evenodd\" fill-opacity=\"1\" /><path clip-path=\"url(#clip860)\" d=\"M2154.66 128.366 Q2151.56 133.69 2150.06 138.898 Q2148.55 144.106 2148.55 149.453 Q2148.55 154.801 2150.06 160.055 Q2151.58 165.287 2154.66 170.588 L2150.96 170.588 Q2147.49 165.148 2145.75 159.893 Q2144.04 154.639 2144.04 149.453 Q2144.04 144.291 2145.75 139.06 Q2147.46 133.828 2150.96 128.366 L2154.66 128.366 Z\" fill=\"#000000\" fill-rule=\"evenodd\" fill-opacity=\"1\" /><path clip-path=\"url(#clip860)\" d=\"M2184.48 138.412 L2175.1 151.027 L2184.96 164.338 L2179.94 164.338 L2172.39 154.152 L2164.85 164.338 L2159.82 164.338 L2169.89 150.773 L2160.68 138.412 L2165.7 138.412 L2172.58 147.648 L2179.45 138.412 L2184.48 138.412 Z\" fill=\"#000000\" fill-rule=\"evenodd\" fill-opacity=\"1\" /><path clip-path=\"url(#clip860)\" d=\"M2190.31 128.366 L2194.01 128.366 Q2197.49 133.828 2199.2 139.06 Q2200.94 144.291 2200.94 149.453 Q2200.94 154.639 2199.2 159.893 Q2197.49 165.148 2194.01 170.588 L2190.31 170.588 Q2193.39 165.287 2194.89 160.055 Q2196.42 154.801 2196.42 149.453 Q2196.42 144.106 2194.89 138.898 Q2193.39 133.69 2190.31 128.366 Z\" fill=\"#000000\" fill-rule=\"evenodd\" fill-opacity=\"1\" /><polyline clip-path=\"url(#clip860)\" style=\"stroke:#e26f46; stroke-linecap:butt; stroke-linejoin:round; stroke-width:4; stroke-opacity:1; fill:none\" points=\"\n",
       "  1891.29,198.898 2038.31,198.898 \n",
       "  \"/>\n",
       "<path clip-path=\"url(#clip860)\" d=\"M2068.44 212.242 L2084.76 212.242 L2084.76 216.178 L2062.81 216.178 L2062.81 212.242 Q2065.47 209.488 2070.06 204.858 Q2074.66 200.205 2075.84 198.863 Q2078.09 196.34 2078.97 194.604 Q2079.87 192.844 2079.87 191.155 Q2079.87 188.4 2077.93 186.664 Q2076.01 184.928 2072.9 184.928 Q2070.7 184.928 2068.25 185.692 Q2065.82 186.455 2063.04 188.006 L2063.04 183.284 Q2065.87 182.15 2068.32 181.571 Q2070.77 180.993 2072.81 180.993 Q2078.18 180.993 2081.38 183.678 Q2084.57 186.363 2084.57 190.854 Q2084.57 192.983 2083.76 194.905 Q2082.97 196.803 2080.87 199.395 Q2080.29 200.067 2077.19 203.284 Q2074.08 206.479 2068.44 212.242 Z\" fill=\"#000000\" fill-rule=\"evenodd\" fill-opacity=\"1\" /><path clip-path=\"url(#clip860)\" d=\"M2112.63 191.247 L2112.63 195.229 Q2110.82 194.233 2108.99 193.747 Q2107.19 193.238 2105.33 193.238 Q2101.19 193.238 2098.9 195.877 Q2096.61 198.492 2096.61 203.238 Q2096.61 207.983 2098.9 210.622 Q2101.19 213.238 2105.33 213.238 Q2107.19 213.238 2108.99 212.752 Q2110.82 212.242 2112.63 211.247 L2112.63 215.182 Q2110.84 216.016 2108.92 216.432 Q2107.02 216.849 2104.87 216.849 Q2099.01 216.849 2095.57 213.168 Q2092.12 209.488 2092.12 203.238 Q2092.12 196.895 2095.59 193.261 Q2099.08 189.627 2105.15 189.627 Q2107.12 189.627 2108.99 190.043 Q2110.87 190.437 2112.63 191.247 Z\" fill=\"#000000\" fill-rule=\"evenodd\" fill-opacity=\"1\" /><path clip-path=\"url(#clip860)\" d=\"M2130.08 193.238 Q2126.65 193.238 2124.66 195.923 Q2122.67 198.585 2122.67 203.238 Q2122.67 207.891 2124.64 210.576 Q2126.63 213.238 2130.08 213.238 Q2133.48 213.238 2135.47 210.553 Q2137.46 207.867 2137.46 203.238 Q2137.46 198.631 2135.47 195.946 Q2133.48 193.238 2130.08 193.238 M2130.08 189.627 Q2135.63 189.627 2138.81 193.238 Q2141.98 196.849 2141.98 203.238 Q2141.98 209.604 2138.81 213.238 Q2135.63 216.849 2130.08 216.849 Q2124.5 216.849 2121.33 213.238 Q2118.18 209.604 2118.18 203.238 Q2118.18 196.849 2121.33 193.238 Q2124.5 189.627 2130.08 189.627 Z\" fill=\"#000000\" fill-rule=\"evenodd\" fill-opacity=\"1\" /><path clip-path=\"url(#clip860)\" d=\"M2165.56 191.016 L2165.56 195.043 Q2163.76 194.117 2161.81 193.655 Q2159.87 193.192 2157.79 193.192 Q2154.62 193.192 2153.02 194.164 Q2151.44 195.136 2151.44 197.08 Q2151.44 198.562 2152.58 199.418 Q2153.71 200.252 2157.14 201.016 L2158.6 201.34 Q2163.13 202.312 2165.03 204.094 Q2166.95 205.854 2166.95 209.025 Q2166.95 212.636 2164.08 214.742 Q2161.24 216.849 2156.24 216.849 Q2154.15 216.849 2151.88 216.432 Q2149.64 216.039 2147.14 215.228 L2147.14 210.83 Q2149.5 212.057 2151.79 212.682 Q2154.08 213.284 2156.33 213.284 Q2159.34 213.284 2160.96 212.266 Q2162.58 211.224 2162.58 209.349 Q2162.58 207.613 2161.4 206.687 Q2160.24 205.761 2156.28 204.904 L2154.8 204.557 Q2150.84 203.724 2149.08 202.011 Q2147.32 200.275 2147.32 197.266 Q2147.32 193.608 2149.92 191.618 Q2152.51 189.627 2157.28 189.627 Q2159.64 189.627 2161.72 189.974 Q2163.81 190.321 2165.56 191.016 Z\" fill=\"#000000\" fill-rule=\"evenodd\" fill-opacity=\"1\" /><path clip-path=\"url(#clip860)\" d=\"M2183.97 180.206 Q2180.87 185.53 2179.36 190.738 Q2177.86 195.946 2177.86 201.293 Q2177.86 206.641 2179.36 211.895 Q2180.89 217.127 2183.97 222.428 L2180.26 222.428 Q2176.79 216.988 2175.06 211.733 Q2173.34 206.479 2173.34 201.293 Q2173.34 196.131 2175.06 190.9 Q2176.77 185.668 2180.26 180.206 L2183.97 180.206 Z\" fill=\"#000000\" fill-rule=\"evenodd\" fill-opacity=\"1\" /><path clip-path=\"url(#clip860)\" d=\"M2213.78 190.252 L2204.41 202.867 L2214.27 216.178 L2209.25 216.178 L2201.7 205.992 L2194.15 216.178 L2189.13 216.178 L2199.2 202.613 L2189.99 190.252 L2195.01 190.252 L2201.88 199.488 L2208.76 190.252 L2213.78 190.252 Z\" fill=\"#000000\" fill-rule=\"evenodd\" fill-opacity=\"1\" /><path clip-path=\"url(#clip860)\" d=\"M2219.62 180.206 L2223.32 180.206 Q2226.79 185.668 2228.5 190.9 Q2230.24 196.131 2230.24 201.293 Q2230.24 206.479 2228.5 211.733 Q2226.79 216.988 2223.32 222.428 L2219.62 222.428 Q2222.69 217.127 2224.2 211.895 Q2225.73 206.641 2225.73 201.293 Q2225.73 195.946 2224.2 190.738 Q2222.69 185.53 2219.62 180.206 Z\" fill=\"#000000\" fill-rule=\"evenodd\" fill-opacity=\"1\" /><polyline clip-path=\"url(#clip860)\" style=\"stroke:#3da44d; stroke-linecap:butt; stroke-linejoin:round; stroke-width:4; stroke-opacity:1; fill:none\" points=\"\n",
       "  1891.29,250.738 2038.31,250.738 \n",
       "  \"/>\n",
       "<path clip-path=\"url(#clip860)\" d=\"M2081.24 242.856 L2081.24 246.883 Q2079.43 245.957 2077.49 245.495 Q2075.54 245.032 2073.46 245.032 Q2070.29 245.032 2068.69 246.004 Q2067.12 246.976 2067.12 248.92 Q2067.12 250.402 2068.25 251.258 Q2069.38 252.092 2072.81 252.856 L2074.27 253.18 Q2078.81 254.152 2080.7 255.934 Q2082.63 257.694 2082.63 260.865 Q2082.63 264.476 2079.76 266.582 Q2076.91 268.689 2071.91 268.689 Q2069.82 268.689 2067.56 268.272 Q2065.31 267.879 2062.81 267.068 L2062.81 262.67 Q2065.17 263.897 2067.46 264.522 Q2069.76 265.124 2072 265.124 Q2075.01 265.124 2076.63 264.106 Q2078.25 263.064 2078.25 261.189 Q2078.25 259.453 2077.07 258.527 Q2075.91 257.601 2071.95 256.744 L2070.47 256.397 Q2066.51 255.564 2064.76 253.851 Q2063 252.115 2063 249.106 Q2063 245.448 2065.59 243.458 Q2068.18 241.467 2072.95 241.467 Q2075.31 241.467 2077.39 241.814 Q2079.48 242.161 2081.24 242.856 Z\" fill=\"#000000\" fill-rule=\"evenodd\" fill-opacity=\"1\" /><path clip-path=\"url(#clip860)\" d=\"M2089.41 242.092 L2093.67 242.092 L2093.67 268.018 L2089.41 268.018 L2089.41 242.092 M2089.41 231.999 L2093.67 231.999 L2093.67 237.393 L2089.41 237.393 L2089.41 231.999 Z\" fill=\"#000000\" fill-rule=\"evenodd\" fill-opacity=\"1\" /><path clip-path=\"url(#clip860)\" d=\"M2124.13 252.369 L2124.13 268.018 L2119.87 268.018 L2119.87 252.508 Q2119.87 248.828 2118.44 246.999 Q2117 245.17 2114.13 245.17 Q2110.68 245.17 2108.69 247.37 Q2106.7 249.569 2106.7 253.365 L2106.7 268.018 L2102.42 268.018 L2102.42 242.092 L2106.7 242.092 L2106.7 246.12 Q2108.23 243.782 2110.29 242.624 Q2112.37 241.467 2115.08 241.467 Q2119.55 241.467 2121.84 244.245 Q2124.13 246.999 2124.13 252.369 Z\" fill=\"#000000\" fill-rule=\"evenodd\" fill-opacity=\"1\" /><path clip-path=\"url(#clip860)\" d=\"M2142.86 232.046 Q2139.75 237.37 2138.25 242.578 Q2136.75 247.786 2136.75 253.133 Q2136.75 258.481 2138.25 263.735 Q2139.78 268.967 2142.86 274.268 L2139.15 274.268 Q2135.68 268.828 2133.94 263.573 Q2132.23 258.319 2132.23 253.133 Q2132.23 247.971 2133.94 242.74 Q2135.66 237.508 2139.15 232.046 L2142.86 232.046 Z\" fill=\"#000000\" fill-rule=\"evenodd\" fill-opacity=\"1\" /><path clip-path=\"url(#clip860)\" d=\"M2172.67 242.092 L2163.3 254.707 L2173.16 268.018 L2168.13 268.018 L2160.59 257.832 L2153.04 268.018 L2148.02 268.018 L2158.09 254.453 L2148.88 242.092 L2153.9 242.092 L2160.77 251.328 L2167.65 242.092 L2172.67 242.092 Z\" fill=\"#000000\" fill-rule=\"evenodd\" fill-opacity=\"1\" /><path clip-path=\"url(#clip860)\" d=\"M2178.5 232.046 L2182.21 232.046 Q2185.68 237.508 2187.39 242.74 Q2189.13 247.971 2189.13 253.133 Q2189.13 258.319 2187.39 263.573 Q2185.68 268.828 2182.21 274.268 L2178.5 274.268 Q2181.58 268.967 2183.09 263.735 Q2184.62 258.481 2184.62 253.133 Q2184.62 247.786 2183.09 242.578 Q2181.58 237.37 2178.5 232.046 Z\" fill=\"#000000\" fill-rule=\"evenodd\" fill-opacity=\"1\" /></svg>\n"
      ]
     },
     "execution_count": 172,
     "metadata": {},
     "output_type": "execute_result"
    }
   ],
   "source": [
    "using Plots\n",
    "x = range(-pi, pi; length=1000) # Create a range of a 1000 evenly spaced numbers between -pi and pi\n",
    "y = cos.(x) # Create a new vector with `cos` applied to each entry of `x`\n",
    "plot(x, y; label=\"cos(x)\")\n",
    "plot!(x, 2y; label=\"2cos(x)\") # ! 表示画同一张图上\n",
    "plot!(x, sin.(x); label=\"sin(x)\")"
   ]
  },
  {
   "cell_type": "markdown",
   "metadata": {},
   "source": [
    "Note the `!` is  just a convention: any function that modifies\n",
    "its input or global state should have `!` at the end of its name.\n",
    "\n",
    "\n",
    "### Installing packages (advanced)\n",
    "\n",
    "If you choose to use Julia on your own machine, you may need to install\n",
    "packages. This can be done by typing the following, either in Jupyter or in the REPL:\n",
    "`] add Plots`."
   ]
  }
 ],
 "metadata": {
  "kernelspec": {
   "display_name": "Julia 1.7.1",
   "language": "julia",
   "name": "julia-1.7"
  },
  "language_info": {
   "file_extension": ".jl",
   "mimetype": "application/julia",
   "name": "julia",
   "version": "1.7.1"
  }
 },
 "nbformat": 4,
 "nbformat_minor": 2
}
