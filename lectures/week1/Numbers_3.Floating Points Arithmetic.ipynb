{
 "cells": [
  {
   "cell_type": "code",
   "execution_count": 4,
   "id": "88b60261",
   "metadata": {},
   "outputs": [],
   "source": [
    "using ColorBitstring, SetRounding"
   ]
  },
  {
   "cell_type": "markdown",
   "id": "1212f226",
   "metadata": {},
   "source": [
    "## Rounding"
   ]
  },
  {
   "cell_type": "code",
   "execution_count": 14,
   "id": "b2a5543f",
   "metadata": {},
   "outputs": [
    {
     "name": "stdout",
     "output_type": "stream",
     "text": [
      "\u001b[31m0\u001b[0m\u001b[32m01101\u001b[0m\u001b[34m0101010101\u001b[0m\n",
      "\u001b[31m0\u001b[0m\u001b[32m01101\u001b[0m\u001b[34m0101010110\u001b[0m\n",
      "\u001b[31m0\u001b[0m\u001b[32m01101\u001b[0m\u001b[34m0101010101\u001b[0m\n"
     ]
    }
   ],
   "source": [
    "# RoundNearest 0舍1入\n",
    "printlnbits(Float16(1/3, RoundNearest)) # Rounding要放在 Float(...) 里面\n",
    "printlnbits(Float16(1/3, RoundUp))\n",
    "printlnbits(Float16(1/3, RoundDown))"
   ]
  },
  {
   "cell_type": "markdown",
   "id": "50665b92",
   "metadata": {},
   "source": [
    "## Approximate Arithmetic  `+` `-` `*` `/` `^` `sqrt`"
   ]
  },
  {
   "cell_type": "markdown",
   "id": "ef515bef",
   "metadata": {},
   "source": [
    "non-associativity of addition"
   ]
  },
  {
   "cell_type": "code",
   "execution_count": 27,
   "id": "f3e6da00",
   "metadata": {},
   "outputs": [
    {
     "data": {
      "text/plain": [
       "11"
      ]
     },
     "execution_count": 27,
     "metadata": {},
     "output_type": "execute_result"
    }
   ],
   "source": [
    "# 64-bit settings \n",
    "S = 52\n",
    "Q = 11\n",
    "# 1+11+52=64 所以这里的 y = 2.0^(-53) 在Float64中为0"
   ]
  },
  {
   "cell_type": "code",
   "execution_count": 32,
   "id": "d5571a58",
   "metadata": {},
   "outputs": [
    {
     "data": {
      "text/plain": [
       "1.0"
      ]
     },
     "execution_count": 32,
     "metadata": {},
     "output_type": "execute_result"
    }
   ],
   "source": [
    "x = 1.0\n",
    "y = 2.0^(-53)\n",
    "x+y"
   ]
  },
  {
   "cell_type": "code",
   "execution_count": 34,
   "id": "fe5793c5",
   "metadata": {},
   "outputs": [
    {
     "name": "stdout",
     "output_type": "stream",
     "text": [
      "\u001b[31m0\u001b[0m\u001b[32m01111111111\u001b[0m\u001b[34m0000000000000000000000000000000000000000000000000000\u001b[0m"
     ]
    }
   ],
   "source": [
    "printbits(x+y)"
   ]
  },
  {
   "cell_type": "code",
   "execution_count": 40,
   "id": "dcd8d07a",
   "metadata": {},
   "outputs": [
    {
     "name": "stdout",
     "output_type": "stream",
     "text": [
      "\u001b[31m0\u001b[0m\u001b[32m01111111111\u001b[0m\u001b[34m0000000000000000000000000000000000000000000000000001\u001b[0m\n"
     ]
    }
   ],
   "source": [
    "# default是Roundnearest 在这等于RoundDown\n",
    "z = setrounding(Float64, RoundUp) do\n",
    "    x+y\n",
    "end\n",
    "printlnbits(z)"
   ]
  },
  {
   "cell_type": "code",
   "execution_count": 41,
   "id": "7bb4fa19",
   "metadata": {},
   "outputs": [
    {
     "data": {
      "text/plain": [
       "1.0"
      ]
     },
     "execution_count": 41,
     "metadata": {},
     "output_type": "execute_result"
    }
   ],
   "source": [
    "(x+y)+y"
   ]
  },
  {
   "cell_type": "code",
   "execution_count": 42,
   "id": "12059bb4",
   "metadata": {},
   "outputs": [
    {
     "data": {
      "text/plain": [
       "1.0000000000000002"
      ]
     },
     "execution_count": 42,
     "metadata": {},
     "output_type": "execute_result"
    }
   ],
   "source": [
    "x+(y+y)"
   ]
  },
  {
   "cell_type": "markdown",
   "id": "09af969e",
   "metadata": {},
   "source": [
    "Computing (1/3)^2 using 16-bits "
   ]
  },
  {
   "cell_type": "code",
   "execution_count": 65,
   "id": "5f5cf1cd",
   "metadata": {},
   "outputs": [
    {
     "data": {
      "text/plain": [
       "15"
      ]
     },
     "execution_count": 65,
     "metadata": {},
     "output_type": "execute_result"
    }
   ],
   "source": [
    "S = 10\n",
    "Q = 5\n",
    "sigma = 15"
   ]
  },
  {
   "cell_type": "code",
   "execution_count": 66,
   "id": "a8c7dd01",
   "metadata": {},
   "outputs": [
    {
     "name": "stdout",
     "output_type": "stream",
     "text": [
      "\u001b[31m0\u001b[0m\u001b[32m01101\u001b[0m\u001b[34m0101010101\u001b[0m\n",
      "\u001b[31m0\u001b[0m\u001b[32m01011\u001b[0m\u001b[34m1100011100\u001b[0m\n"
     ]
    }
   ],
   "source": [
    "x = Float16(1/3)\n",
    "printlnbits(x)\n",
    "printlnbits(x^2)"
   ]
  },
  {
   "cell_type": "code",
   "execution_count": 67,
   "id": "16e33f53",
   "metadata": {},
   "outputs": [
    {
     "data": {
      "text/plain": [
       "11"
      ]
     },
     "execution_count": 67,
     "metadata": {},
     "output_type": "execute_result"
    }
   ],
   "source": [
    "q = parse(Int, \"01011\", base=2)"
   ]
  },
  {
   "cell_type": "code",
   "execution_count": 68,
   "id": "545afaa7",
   "metadata": {},
   "outputs": [
    {
     "data": {
      "text/plain": [
       "1.77734375"
      ]
     },
     "execution_count": 68,
     "metadata": {},
     "output_type": "execute_result"
    }
   ],
   "source": [
    "sig = 2.0^(-1.0*S) * parse(Int, \"1\" * \"1100011100\"; base=2)"
   ]
  },
  {
   "cell_type": "code",
   "execution_count": 69,
   "id": "2b9405c5",
   "metadata": {},
   "outputs": [
    {
     "data": {
      "text/plain": [
       "0.111083984375"
      ]
     },
     "execution_count": 69,
     "metadata": {},
     "output_type": "execute_result"
    }
   ],
   "source": [
    "2.0^(q-sigma) * sig\n",
    "# as expected 0.1111 but with less precision"
   ]
  },
  {
   "cell_type": "code",
   "execution_count": 64,
   "id": "f0199ef9",
   "metadata": {},
   "outputs": [
    {
     "data": {
      "text/plain": [
       "Float16(0.1111)"
      ]
     },
     "execution_count": 64,
     "metadata": {},
     "output_type": "execute_result"
    }
   ],
   "source": [
    "x^2"
   ]
  },
  {
   "cell_type": "markdown",
   "id": "d84a9532",
   "metadata": {},
   "source": [
    "## Bounding Rounding errors"
   ]
  },
  {
   "cell_type": "code",
   "execution_count": 7,
   "id": "98a0a969",
   "metadata": {},
   "outputs": [
    {
     "data": {
      "text/plain": [
       "4.440892098500626e-16"
      ]
     },
     "execution_count": 7,
     "metadata": {},
     "output_type": "execute_result"
    }
   ],
   "source": [
    "# abs error of (1.1+1.2)*1.3\n",
    "2.99 - (1.1+1.2)*1.3"
   ]
  },
  {
   "cell_type": "markdown",
   "id": "e694bc66",
   "metadata": {},
   "source": [
    "machine epsilon"
   ]
  },
  {
   "cell_type": "code",
   "execution_count": 32,
   "id": "e80e453a",
   "metadata": {},
   "outputs": [
    {
     "data": {
      "text/plain": [
       "(Float16(0.000977), 1.1920929f-7, 2.220446049250313e-16)"
      ]
     },
     "execution_count": 32,
     "metadata": {},
     "output_type": "execute_result"
    }
   ],
   "source": [
    "eps(Float16), \n",
    "eps(Float32), \n",
    "eps()"
   ]
  },
  {
   "cell_type": "code",
   "execution_count": 36,
   "id": "4d286bd2",
   "metadata": {},
   "outputs": [
    {
     "data": {
      "text/plain": [
       "(4.440892098500626e-16, 1.1368683772161603e-13, 2.220446049250313e-16)"
      ]
     },
     "execution_count": 36,
     "metadata": {},
     "output_type": "execute_result"
    }
   ],
   "source": [
    "eps(1.0), # 空的eps() 默认就是eps(1.0) \n",
    "eps(3.0), # 里放数字代表着 the absolute difference between that value and the next representable floating point value\n",
    "eps(1000.) "
   ]
  },
  {
   "cell_type": "markdown",
   "id": "e17cfbc8",
   "metadata": {},
   "source": [
    "The distance between two adjacent representable floating-point numbers is not constant, but is smaller for smaller values and larger for larger values. In other words, the representable floating-point numbers are densest in the real number line near zero, and grow sparser exponentially as one moves farther away from zero."
   ]
  },
  {
   "cell_type": "code",
   "execution_count": 22,
   "id": "81dec952",
   "metadata": {},
   "outputs": [
    {
     "data": {
      "text/plain": [
       "(3.907985046680551042012706102204982635293214132069655741830160877725575119256973e-16, 2.5468516184901092e-15)"
      ]
     },
     "execution_count": 22,
     "metadata": {},
     "output_type": "execute_result"
    }
   ],
   "source": [
    "abs((a+b)*c - (1.1+1.2)*1.3) , 11.47*eps()"
   ]
  },
  {
   "cell_type": "code",
   "execution_count": 16,
   "id": "8fa48a88",
   "metadata": {},
   "outputs": [
    {
     "data": {
      "text/plain": [
       "true"
      ]
     },
     "execution_count": 16,
     "metadata": {},
     "output_type": "execute_result"
    }
   ],
   "source": [
    "abs(2.99 - (1.1+1.2)*1.3) <= 11.47*eps()"
   ]
  },
  {
   "cell_type": "markdown",
   "id": "50921a34",
   "metadata": {},
   "source": [
    "左边是abs（abs error） ;  右边是abs（abs error）的boundary 计算出来的11.47\n",
    "左边<=右边就对了"
   ]
  },
  {
   "cell_type": "code",
   "execution_count": 19,
   "id": "4a5f242d",
   "metadata": {},
   "outputs": [
    {
     "data": {
      "text/plain": [
       "(1.100000000000000088817841970012523233890533447265625, 1.1999999999999999555910790149937383830547332763671875, 1.3000000000000000444089209850062616169452667236328125)"
      ]
     },
     "execution_count": 19,
     "metadata": {},
     "output_type": "execute_result"
    }
   ],
   "source": [
    "a,b,c = big(1.1), big(1.2), big(1.3)"
   ]
  },
  {
   "cell_type": "code",
   "execution_count": 20,
   "id": "4ccd7217",
   "metadata": {},
   "outputs": [
    {
     "data": {
      "text/plain": [
       "2.990000000000000159872115546022543793155223257607638529321413206965574183016088"
      ]
     },
     "execution_count": 20,
     "metadata": {},
     "output_type": "execute_result"
    }
   ],
   "source": [
    "(a+b)*c"
   ]
  },
  {
   "cell_type": "markdown",
   "id": "6650cb71",
   "metadata": {},
   "source": [
    "#### number expression (自己查到的)"
   ]
  },
  {
   "cell_type": "markdown",
   "id": "1a3d2b11",
   "metadata": {},
   "source": [
    "0b 开头的数代表2进制\n",
    "0o 开头的数代表8进制\n",
    "0x 开头的数代表16进制 123456789abcdef"
   ]
  },
  {
   "cell_type": "code",
   "execution_count": 29,
   "id": "f7c8599a",
   "metadata": {},
   "outputs": [
    {
     "data": {
      "text/plain": [
       "12.0"
      ]
     },
     "execution_count": 29,
     "metadata": {},
     "output_type": "execute_result"
    }
   ],
   "source": [
    "0x1.8p3 # pn代表2的n次方 [1*16^0 + 8*16^(-1)] * 2^3 = 12"
   ]
  },
  {
   "cell_type": "code",
   "execution_count": 31,
   "id": "84274956",
   "metadata": {},
   "outputs": [
    {
     "data": {
      "text/plain": [
       "0.125"
      ]
     },
     "execution_count": 31,
     "metadata": {},
     "output_type": "execute_result"
    }
   ],
   "source": [
    "0x.4p-1 # [4*16^(-1)] * 2^(-1) = 0.125"
   ]
  },
  {
   "cell_type": "code",
   "execution_count": 28,
   "id": "5bad3317",
   "metadata": {},
   "outputs": [
    {
     "data": {
      "text/plain": [
       "(1800.0, 1800.0f0)"
      ]
     },
     "execution_count": 28,
     "metadata": {},
     "output_type": "execute_result"
    }
   ],
   "source": [
    "1.8e3, 1.8f3 # e, f都代表 10的exponent， fn结尾代表属于Float32"
   ]
  },
  {
   "cell_type": "code",
   "execution_count": null,
   "id": "56e6157b",
   "metadata": {},
   "outputs": [],
   "source": []
  }
 ],
 "metadata": {
  "kernelspec": {
   "display_name": "Julia 1.7.1",
   "language": "julia",
   "name": "julia-1.7"
  },
  "language_info": {
   "file_extension": ".jl",
   "mimetype": "application/julia",
   "name": "julia",
   "version": "1.7.1"
  }
 },
 "nbformat": 4,
 "nbformat_minor": 5
}
