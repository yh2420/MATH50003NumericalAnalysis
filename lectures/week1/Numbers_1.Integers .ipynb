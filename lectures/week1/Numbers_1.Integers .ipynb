{
 "cells": [
  {
   "cell_type": "code",
   "execution_count": 18,
   "id": "0936b56d",
   "metadata": {},
   "outputs": [],
   "source": [
    "using ColorBitstring\n",
    "using LinearAlgebra"
   ]
  },
  {
   "cell_type": "markdown",
   "id": "96e5a4bd",
   "metadata": {},
   "source": [
    "## 3. Signed numbers"
   ]
  },
  {
   "cell_type": "markdown",
   "id": "d6e783b4",
   "metadata": {},
   "source": [
    "dedault value: integers are typically they 64 bits"
   ]
  },
  {
   "cell_type": "code",
   "execution_count": 17,
   "id": "8923a5f6",
   "metadata": {},
   "outputs": [
    {
     "name": "stdout",
     "output_type": "stream",
     "text": [
      "\u001b[31m0\u001b[0m\u001b[34m000000000000000000000000000000000000000000000000000000101100101\u001b[0m"
     ]
    },
    {
     "data": {
      "text/plain": [
       "Int64"
      ]
     },
     "execution_count": 17,
     "metadata": {},
     "output_type": "execute_result"
    }
   ],
   "source": [
    "x=357\n",
    "printbits(x)\n",
    "typeof(x)"
   ]
  },
  {
   "cell_type": "code",
   "execution_count": 3,
   "id": "24fee6a2",
   "metadata": {},
   "outputs": [
    {
     "name": "stdout",
     "output_type": "stream",
     "text": [
      "\u001b[31m1\u001b[0m\u001b[34m111111111111111111111111111111111111111111111111111111010011011\u001b[0m"
     ]
    }
   ],
   "source": [
    "printbits(-357)"
   ]
  },
  {
   "cell_type": "code",
   "execution_count": 4,
   "id": "2e355d9f",
   "metadata": {},
   "outputs": [
    {
     "name": "stdout",
     "output_type": "stream",
     "text": [
      "\u001b[31m0\u001b[0m\u001b[34m1111011\u001b[0m"
     ]
    }
   ],
   "source": [
    "printbits(Int8(123))"
   ]
  },
  {
   "cell_type": "code",
   "execution_count": 5,
   "id": "def70365",
   "metadata": {},
   "outputs": [
    {
     "name": "stdout",
     "output_type": "stream",
     "text": [
      "\u001b[31m1\u001b[0m\u001b[34m0000101\u001b[0m"
     ]
    }
   ],
   "source": [
    "printbits(Int8(-123))"
   ]
  },
  {
   "cell_type": "markdown",
   "id": "2950e675",
   "metadata": {},
   "source": [
    "Can create numbers from their bits by parsing a string. string➡️number 直接变signed 可能出问题，就要先➡️unsigned再➡️signed\n",
    "\n",
    "We need to first create an unsigned integer to avoid issues of overflow."
   ]
  },
  {
   "cell_type": "code",
   "execution_count": 6,
   "id": "c22d82e4",
   "metadata": {},
   "outputs": [
    {
     "name": "stdout",
     "output_type": "stream",
     "text": [
      "\u001b[31m1\u001b[0m\u001b[34m0000101\u001b[0m"
     ]
    },
    {
     "data": {
      "text/plain": [
       "-123"
      ]
     },
     "execution_count": 6,
     "metadata": {},
     "output_type": "execute_result"
    }
   ],
   "source": [
    "u = parse(UInt8, \"10000101\"; base = 2) # unsigned 8-bit integer 输出的u没用 不用管\n",
    "x = reinterpret(Int8, u)\n",
    "printbits(x)\n",
    "x"
   ]
  },
  {
   "cell_type": "markdown",
   "id": "bc57e091",
   "metadata": {},
   "source": [
    "modular arithmetic 例子"
   ]
  },
  {
   "cell_type": "code",
   "execution_count": 7,
   "id": "08cf58ba",
   "metadata": {},
   "outputs": [
    {
     "data": {
      "text/plain": [
       "-128"
      ]
     },
     "execution_count": 7,
     "metadata": {},
     "output_type": "execute_result"
    }
   ],
   "source": [
    "x = Int8(127)\n",
    "y = Int8(1)\n",
    "x + y # modular arithmetic  mod 256"
   ]
  },
  {
   "cell_type": "code",
   "execution_count": 8,
   "id": "715d6a86",
   "metadata": {},
   "outputs": [
    {
     "name": "stdout",
     "output_type": "stream",
     "text": [
      "\u001b[31m0\u001b[0m\u001b[34m1111111\u001b[0m\n",
      "\u001b[31m0\u001b[0m\u001b[34m0000001\u001b[0m\n",
      "\u001b[31m1\u001b[0m\u001b[34m0000000\u001b[0m"
     ]
    }
   ],
   "source": [
    "printlnbits(x) # 比起printbits 多ln会让print出来分两行\n",
    "printlnbits(y)\n",
    "printbits(x+y)"
   ]
  },
  {
   "cell_type": "code",
   "execution_count": 9,
   "id": "92f79d4e",
   "metadata": {},
   "outputs": [
    {
     "data": {
      "text/plain": [
       "125"
      ]
     },
     "execution_count": 9,
     "metadata": {},
     "output_type": "execute_result"
    }
   ],
   "source": [
    "x * Int8(3) # (127*3 =381) mod 256 = 125"
   ]
  },
  {
   "cell_type": "markdown",
   "id": "5d8e0bcd",
   "metadata": {},
   "source": [
    "## 4. Variable bit-length integers (`BigInt`)"
   ]
  },
  {
   "cell_type": "code",
   "execution_count": 10,
   "id": "8ed98e40",
   "metadata": {},
   "outputs": [
    {
     "data": {
      "text/plain": [
       "10"
      ]
     },
     "execution_count": 10,
     "metadata": {},
     "output_type": "execute_result"
    }
   ],
   "source": [
    "x = big(10)"
   ]
  },
  {
   "cell_type": "code",
   "execution_count": 11,
   "id": "d022f45a",
   "metadata": {},
   "outputs": [
    {
     "data": {
      "text/plain": [
       "BigInt"
      ]
     },
     "execution_count": 11,
     "metadata": {},
     "output_type": "execute_result"
    }
   ],
   "source": [
    "typeof(x)"
   ]
  },
  {
   "cell_type": "markdown",
   "id": "a8ffb45c",
   "metadata": {},
   "source": [
    "BigInt 允许表示很大的数 因为计数的bits depending on 数字的大小；但也不是可以无限的大，因为bits有限，computing memory总是有限的,也会有run out of memory 的时候"
   ]
  },
  {
   "cell_type": "code",
   "execution_count": 12,
   "id": "96c89a4b",
   "metadata": {},
   "outputs": [
    {
     "data": {
      "text/plain": [
       "10000000000000000000000000000000000000000000000000000000000000000000000000000000000000000000000000000"
      ]
     },
     "execution_count": 12,
     "metadata": {},
     "output_type": "execute_result"
    }
   ],
   "source": [
    "(x^x)^x  "
   ]
  },
  {
   "cell_type": "code",
   "execution_count": 13,
   "id": "dd951300",
   "metadata": {},
   "outputs": [
    {
     "ename": "LoadError",
     "evalue": "OutOfMemoryError()",
     "output_type": "error",
     "traceback": [
      "OutOfMemoryError()",
      "",
      "Stacktrace:",
      " [1] pow_ui!",
      "   @ ./gmp.jl:171 [inlined]",
      " [2] pow_ui(a::BigInt, b::UInt64)",
      "   @ Base.GMP.MPZ ./gmp.jl:172",
      " [3] ^",
      "   @ ./gmp.jl:580 [inlined]",
      " [4] bigint_pow(x::BigInt, y::BigInt)",
      "   @ Base.GMP ./gmp.jl:601",
      " [5] ^(x::BigInt, y::BigInt)",
      "   @ Base.GMP ./gmp.jl:604",
      " [6] top-level scope",
      "   @ In[13]:1",
      " [7] eval",
      "   @ ./boot.jl:373 [inlined]",
      " [8] include_string(mapexpr::typeof(REPL.softscope), mod::Module, code::String, filename::String)",
      "   @ Base ./loading.jl:1196"
     ]
    }
   ],
   "source": [
    "(x^x)^(x^x) # number run out of memory"
   ]
  },
  {
   "cell_type": "code",
   "execution_count": 19,
   "id": "2dc02ad2",
   "metadata": {},
   "outputs": [
    {
     "data": {
      "text/plain": [
       "32"
      ]
     },
     "execution_count": 19,
     "metadata": {},
     "output_type": "execute_result"
    }
   ],
   "source": [
    "dot(1:3, [4,5,6])"
   ]
  },
  {
   "cell_type": "code",
   "execution_count": null,
   "id": "8f4ec218",
   "metadata": {},
   "outputs": [],
   "source": []
  }
 ],
 "metadata": {
  "kernelspec": {
   "display_name": "Julia 1.7.1",
   "language": "julia",
   "name": "julia-1.7"
  },
  "language_info": {
   "file_extension": ".jl",
   "mimetype": "application/julia",
   "name": "julia",
   "version": "1.7.1"
  }
 },
 "nbformat": 4,
 "nbformat_minor": 5
}
