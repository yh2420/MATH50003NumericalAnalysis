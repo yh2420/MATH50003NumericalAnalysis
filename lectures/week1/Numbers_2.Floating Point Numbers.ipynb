{
 "cells": [
  {
   "cell_type": "code",
   "execution_count": 1,
   "id": "d66c8a96",
   "metadata": {},
   "outputs": [],
   "source": [
    "using ColorBitstring"
   ]
  },
  {
   "cell_type": "markdown",
   "id": "a56705e8",
   "metadata": {},
   "source": [
    "## normal numbers"
   ]
  },
  {
   "cell_type": "markdown",
   "id": "a347f79e",
   "metadata": {},
   "source": [
    "Floating point numbers are typically 64-bit"
   ]
  },
  {
   "cell_type": "code",
   "execution_count": 2,
   "id": "50ec69cd",
   "metadata": {},
   "outputs": [
    {
     "name": "stdout",
     "output_type": "stream",
     "text": [
      "\u001b[31m0\u001b[0m\u001b[32m01111111111\u001b[0m\u001b[34m0000000000000000000000000000000000000000000000000000\u001b[0m"
     ]
    }
   ],
   "source": [
    "printbits(1.0)"
   ]
  },
  {
   "cell_type": "markdown",
   "id": "44f5b265",
   "metadata": {},
   "source": [
    "exercise: from 64-bits to normal number"
   ]
  },
  {
   "cell_type": "code",
   "execution_count": 4,
   "id": "79eb319c",
   "metadata": {},
   "outputs": [
    {
     "name": "stdout",
     "output_type": "stream",
     "text": [
      "\u001b[31m1\u001b[0m\u001b[32m10000000011\u001b[0m\u001b[34m0111010011001100110011001100110011001100110011001101\u001b[0m"
     ]
    }
   ],
   "source": [
    "printbits(-23.3)"
   ]
  },
  {
   "cell_type": "code",
   "execution_count": 15,
   "id": "3cc9ea55",
   "metadata": {},
   "outputs": [
    {
     "data": {
      "text/plain": [
       "1023"
      ]
     },
     "execution_count": 15,
     "metadata": {},
     "output_type": "execute_result"
    }
   ],
   "source": [
    "# 64-bits settings\n",
    "S = 52\n",
    "Q = 11\n",
    "sigma = 1023"
   ]
  },
  {
   "cell_type": "code",
   "execution_count": 26,
   "id": "974800dc",
   "metadata": {},
   "outputs": [
    {
     "data": {
      "text/plain": [
       "1027"
      ]
     },
     "execution_count": 26,
     "metadata": {},
     "output_type": "execute_result"
    }
   ],
   "source": [
    "q = parse(Int, \"10000000011\"; base=2)"
   ]
  },
  {
   "cell_type": "code",
   "execution_count": 27,
   "id": "401e2af3",
   "metadata": {},
   "outputs": [
    {
     "data": {
      "text/plain": [
       "-16"
      ]
     },
     "execution_count": 27,
     "metadata": {},
     "output_type": "execute_result"
    }
   ],
   "source": [
    "-2^(q-sigma)"
   ]
  },
  {
   "cell_type": "code",
   "execution_count": 28,
   "id": "4dbec916",
   "metadata": {},
   "outputs": [
    {
     "data": {
      "text/plain": [
       "1.45625"
      ]
     },
     "execution_count": 28,
     "metadata": {},
     "output_type": "execute_result"
    }
   ],
   "source": [
    "# normal number bits开头要加1 \n",
    "# significant 还要科学计数法 乘2^(-S)\n",
    "sig = 2^(-1.0*52) * parse(Int, \"1\" * \"0111010011001100110011001100110011001100110011001101\"; base=2)"
   ]
  },
  {
   "cell_type": "code",
   "execution_count": 29,
   "id": "95407797",
   "metadata": {},
   "outputs": [
    {
     "data": {
      "text/plain": [
       "-23.3"
      ]
     },
     "execution_count": 29,
     "metadata": {},
     "output_type": "execute_result"
    }
   ],
   "source": [
    "-2^(q-sigma) * sig"
   ]
  },
  {
   "cell_type": "markdown",
   "id": "8cc9ac3d",
   "metadata": {},
   "source": [
    "exercise: from normal number to 16-bits"
   ]
  },
  {
   "cell_type": "code",
   "execution_count": 33,
   "id": "60c22bc9",
   "metadata": {},
   "outputs": [
    {
     "name": "stdout",
     "output_type": "stream",
     "text": [
      "\u001b[31m0\u001b[0m\u001b[32m01101\u001b[0m\u001b[34m0101010101\u001b[0m"
     ]
    }
   ],
   "source": [
    "x = Float16(1/3)\n",
    "printbits(x)"
   ]
  },
  {
   "cell_type": "markdown",
   "id": "5f53f402",
   "metadata": {},
   "source": [
    "## sub-normal numbers"
   ]
  },
  {
   "cell_type": "markdown",
   "id": "c5c41b08",
   "metadata": {},
   "source": [
    "exercise: from sub-normal number to 16-bits"
   ]
  },
  {
   "cell_type": "code",
   "execution_count": 36,
   "id": "a20511fd",
   "metadata": {},
   "outputs": [
    {
     "name": "stdout",
     "output_type": "stream",
     "text": [
      "\u001b[31m0\u001b[0m\u001b[32m00000\u001b[0m\u001b[34m0000101011\u001b[0m"
     ]
    }
   ],
   "source": [
    "x = Float16(2^(-17)/3)\n",
    "printbits(x)"
   ]
  },
  {
   "cell_type": "code",
   "execution_count": 64,
   "id": "24a439ce",
   "metadata": {},
   "outputs": [
    {
     "data": {
      "text/plain": [
       "\"0011111111101000000000000000000000000000000000000000000000000000\""
      ]
     },
     "execution_count": 64,
     "metadata": {},
     "output_type": "execute_result"
    }
   ],
   "source": [
    "bitstring(3/4)"
   ]
  },
  {
   "cell_type": "markdown",
   "id": "d9e3dc82",
   "metadata": {},
   "source": [
    "exercise: from 16-bits to sub-normal number"
   ]
  },
  {
   "cell_type": "code",
   "execution_count": 37,
   "id": "b04aadf7",
   "metadata": {},
   "outputs": [
    {
     "data": {
      "text/plain": [
       "15"
      ]
     },
     "execution_count": 37,
     "metadata": {},
     "output_type": "execute_result"
    }
   ],
   "source": [
    "# 16-bits settings\n",
    "S = 10\n",
    "Q = 5\n",
    "sigma = 15"
   ]
  },
  {
   "cell_type": "code",
   "execution_count": 42,
   "id": "104fda91",
   "metadata": {},
   "outputs": [
    {
     "data": {
      "text/plain": [
       "6.103515625e-5"
      ]
     },
     "execution_count": 42,
     "metadata": {},
     "output_type": "execute_result"
    }
   ],
   "source": [
    "2.0^(1-sigma) # 用Flaot 2.0 可以，用Int 2 就不行"
   ]
  },
  {
   "cell_type": "code",
   "execution_count": 38,
   "id": "667b4354",
   "metadata": {},
   "outputs": [
    {
     "data": {
      "text/plain": [
       "0.0419921875"
      ]
     },
     "execution_count": 38,
     "metadata": {},
     "output_type": "execute_result"
    }
   ],
   "source": [
    "sig = 2^(-1.0*S) * parse(Int, \"0\" * \"0000101011\"; base=2)"
   ]
  },
  {
   "cell_type": "code",
   "execution_count": 44,
   "id": "c605eb80",
   "metadata": {},
   "outputs": [
    {
     "data": {
      "text/plain": [
       "2.562999725341797e-6"
      ]
     },
     "execution_count": 44,
     "metadata": {},
     "output_type": "execute_result"
    }
   ],
   "source": [
    "2.0^(1-sigma) * sig"
   ]
  },
  {
   "cell_type": "code",
   "execution_count": 45,
   "id": "8ac27d78",
   "metadata": {},
   "outputs": [
    {
     "data": {
      "text/plain": [
       "2.5431315104166665e-6"
      ]
     },
     "execution_count": 45,
     "metadata": {},
     "output_type": "execute_result"
    }
   ],
   "source": [
    "# as expected\n",
    "2^(-17)/3"
   ]
  },
  {
   "cell_type": "markdown",
   "id": "39552640",
   "metadata": {},
   "source": [
    "exercise: two types of zero"
   ]
  },
  {
   "cell_type": "code",
   "execution_count": 51,
   "id": "2731c3f5",
   "metadata": {},
   "outputs": [
    {
     "name": "stdout",
     "output_type": "stream",
     "text": [
      "\u001b[31m0\u001b[0m\u001b[32m00000000000\u001b[0m\u001b[34m0000000000000000000000000000000000000000000000000000\u001b[0m\n",
      "\u001b[31m1\u001b[0m\u001b[32m00000000000\u001b[0m\u001b[34m0000000000000000000000000000000000000000000000000000\u001b[0m\n"
     ]
    },
    {
     "data": {
      "text/plain": [
       "true"
      ]
     },
     "execution_count": 51,
     "metadata": {},
     "output_type": "execute_result"
    }
   ],
   "source": [
    "# 要用 float 0.0 ，而不是 int 0\n",
    "printlnbits(0.0)\n",
    "printlnbits(-0.0)\n",
    "0.0 == -0.0"
   ]
  },
  {
   "cell_type": "markdown",
   "id": "f3e90df6",
   "metadata": {},
   "source": [
    "## sub-normal numbers"
   ]
  },
  {
   "cell_type": "code",
   "execution_count": 52,
   "id": "22aa28eb",
   "metadata": {},
   "outputs": [
    {
     "data": {
      "text/plain": [
       "Inf"
      ]
     },
     "execution_count": 52,
     "metadata": {},
     "output_type": "execute_result"
    }
   ],
   "source": [
    "1/0.0"
   ]
  },
  {
   "cell_type": "code",
   "execution_count": 56,
   "id": "47b6889a",
   "metadata": {},
   "outputs": [
    {
     "name": "stdout",
     "output_type": "stream",
     "text": [
      "\u001b[31m0\u001b[0m\u001b[32m11111111111\u001b[0m\u001b[34m0000000000000000000000000000000000000000000000000000\u001b[0m"
     ]
    }
   ],
   "source": [
    "printbits(Inf)"
   ]
  },
  {
   "cell_type": "code",
   "execution_count": 54,
   "id": "bbce2c81",
   "metadata": {},
   "outputs": [
    {
     "data": {
      "text/plain": [
       "-Inf"
      ]
     },
     "execution_count": 54,
     "metadata": {},
     "output_type": "execute_result"
    }
   ],
   "source": [
    "1/(-0.0)"
   ]
  },
  {
   "cell_type": "code",
   "execution_count": 57,
   "id": "f1ca2565",
   "metadata": {},
   "outputs": [
    {
     "name": "stdout",
     "output_type": "stream",
     "text": [
      "\u001b[31m1\u001b[0m\u001b[32m11111111111\u001b[0m\u001b[34m0000000000000000000000000000000000000000000000000000\u001b[0m"
     ]
    }
   ],
   "source": [
    "printbits(-Inf)"
   ]
  },
  {
   "cell_type": "code",
   "execution_count": 55,
   "id": "3c39675c",
   "metadata": {},
   "outputs": [
    {
     "data": {
      "text/plain": [
       "NaN"
      ]
     },
     "execution_count": 55,
     "metadata": {},
     "output_type": "execute_result"
    }
   ],
   "source": [
    "0.0/0.0"
   ]
  },
  {
   "cell_type": "code",
   "execution_count": 58,
   "id": "fee5fe15",
   "metadata": {},
   "outputs": [
    {
     "name": "stdout",
     "output_type": "stream",
     "text": [
      "\u001b[31m0\u001b[0m\u001b[32m11111111111\u001b[0m\u001b[34m1000000000000000000000000000000000000000000000000000\u001b[0m"
     ]
    }
   ],
   "source": [
    "printbits(NaN)"
   ]
  },
  {
   "cell_type": "code",
   "execution_count": 61,
   "id": "57fbb737",
   "metadata": {},
   "outputs": [
    {
     "data": {
      "text/plain": [
       "(NaN, NaN)"
      ]
     },
     "execution_count": 61,
     "metadata": {},
     "output_type": "execute_result"
    }
   ],
   "source": [
    "(1+NaN, 1/NaN)"
   ]
  },
  {
   "cell_type": "code",
   "execution_count": 62,
   "id": "ae7a6171",
   "metadata": {},
   "outputs": [
    {
     "data": {
      "text/plain": [
       "false"
      ]
     },
     "execution_count": 62,
     "metadata": {},
     "output_type": "execute_result"
    }
   ],
   "source": [
    "NaN == NaN"
   ]
  },
  {
   "cell_type": "code",
   "execution_count": null,
   "id": "c87a280d",
   "metadata": {},
   "outputs": [],
   "source": []
  }
 ],
 "metadata": {
  "kernelspec": {
   "display_name": "Julia 1.7.1",
   "language": "julia",
   "name": "julia-1.7"
  },
  "language_info": {
   "file_extension": ".jl",
   "mimetype": "application/julia",
   "name": "julia",
   "version": "1.7.1"
  }
 },
 "nbformat": 4,
 "nbformat_minor": 5
}
